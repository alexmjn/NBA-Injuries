{
  "nbformat": 4,
  "nbformat_minor": 0,
  "metadata": {
    "colab": {
      "name": "NBA_Injuries.ipynb",
      "provenance": [],
      "collapsed_sections": [
        "qVk-OCBWZAxE",
        "me5PLY5XY_R1",
        "fsQ_wDHiZHe8"
      ],
      "include_colab_link": true
    },
    "kernelspec": {
      "name": "python3",
      "display_name": "Python 3"
    }
  },
  "cells": [
    {
      "cell_type": "markdown",
      "metadata": {
        "id": "view-in-github",
        "colab_type": "text"
      },
      "source": [
        "<a href=\"https://colab.research.google.com/github/alexmjn/NBA-Injuries/blob/master/NBA_Injuries.ipynb\" target=\"_parent\"><img src=\"https://colab.research.google.com/assets/colab-badge.svg\" alt=\"Open In Colab\"/></a>"
      ]
    },
    {
      "cell_type": "markdown",
      "metadata": {
        "id": "qVk-OCBWZAxE",
        "colab_type": "text"
      },
      "source": [
        "#Injuries and Rest in the NBA"
      ]
    },
    {
      "cell_type": "markdown",
      "metadata": {
        "id": "uJZZwACLG8YA",
        "colab_type": "text"
      },
      "source": [
        ">In 2017-18, the number of NBA games lost to injury or illness surpassed the 5,000 mark for the first time since the league stopped using the injured reserve list prior to the 2005-06 campaign, per certified athletic trainer Jeff Stotts.\n",
        "\n",
        ">Silver, in an interview with ESPN, calls the issue \"the highest priority for the league -- and I think both in terms of the health and wellness of the players in the NBA, but also the larger category of millions of players, boys and girls, not just in the United States, but globally.\"\n",
        "\n",
        "([ESPN][1])\n",
        "\n",
        "[1]:https://www.espn.com/nba/story/_/id/27125793/these-kids-ticking-bombs-threat-youth-basketball\n",
        "\n",
        "Despite millions of dollars spent on injury prevention, injuries in the NBA are a pressing problem for teams and players. I want to explore the patterns of injury and rest in the NBA. Have injury rates risen, as public perception would indicate? How do injury rates fluctuate within the season? Do different teams have different strategies for rest and injury prevention?\n",
        "\n",
        "Using the NBA's published injury reports (sourced from Kaggle), I investigate these questions."
      ]
    },
    {
      "cell_type": "markdown",
      "metadata": {
        "id": "me5PLY5XY_R1",
        "colab_type": "text"
      },
      "source": [
        "#Import Data"
      ]
    },
    {
      "cell_type": "code",
      "metadata": {
        "id": "wFESKxChWcv-",
        "colab_type": "code",
        "colab": {}
      },
      "source": [
        "import numpy as np\n",
        "import pandas as pd\n",
        "import matplotlib.pyplot as plt\n",
        "import seaborn as sns\n",
        "\n",
        "from scipy.stats import ttest_ind, ttest_1samp, pearsonr, normaltest"
      ],
      "execution_count": 0,
      "outputs": []
    },
    {
      "cell_type": "code",
      "metadata": {
        "id": "hueHC3Flpf6Y",
        "colab_type": "code",
        "colab": {}
      },
      "source": [
        "url = \"https://raw.githubusercontent.com/alexmjn/NBA-Injuries/master/injuries.csv\"\n",
        "injuries = pd.read_csv(url)"
      ],
      "execution_count": 0,
      "outputs": []
    },
    {
      "cell_type": "code",
      "metadata": {
        "id": "zCuvjPR1Ysyf",
        "colab_type": "code",
        "outputId": "b253c5c5-32bb-4eb0-e36d-f8d0ab21aace",
        "colab": {
          "base_uri": "https://localhost:8080/",
          "height": 296
        }
      },
      "source": [
        "print(injuries.dtypes)\n",
        "injuries.head()"
      ],
      "execution_count": 72,
      "outputs": [
        {
          "output_type": "stream",
          "text": [
            "Date           object\n",
            "Team           object\n",
            "Acquired       object\n",
            "Relinquised    object\n",
            "Notes          object\n",
            "dtype: object\n"
          ],
          "name": "stdout"
        },
        {
          "output_type": "execute_result",
          "data": {
            "text/html": [
              "<div>\n",
              "<style scoped>\n",
              "    .dataframe tbody tr th:only-of-type {\n",
              "        vertical-align: middle;\n",
              "    }\n",
              "\n",
              "    .dataframe tbody tr th {\n",
              "        vertical-align: top;\n",
              "    }\n",
              "\n",
              "    .dataframe thead th {\n",
              "        text-align: right;\n",
              "    }\n",
              "</style>\n",
              "<table border=\"1\" class=\"dataframe\">\n",
              "  <thead>\n",
              "    <tr style=\"text-align: right;\">\n",
              "      <th></th>\n",
              "      <th>Date</th>\n",
              "      <th>Team</th>\n",
              "      <th>Acquired</th>\n",
              "      <th>Relinquised</th>\n",
              "      <th>Notes</th>\n",
              "    </tr>\n",
              "  </thead>\n",
              "  <tbody>\n",
              "    <tr>\n",
              "      <th>0</th>\n",
              "      <td>2010-10-03</td>\n",
              "      <td>Bulls</td>\n",
              "      <td>NaN</td>\n",
              "      <td>Carlos Boozer</td>\n",
              "      <td>fractured bone in right pinky finger (out inde...</td>\n",
              "    </tr>\n",
              "    <tr>\n",
              "      <th>1</th>\n",
              "      <td>2010-10-06</td>\n",
              "      <td>Pistons</td>\n",
              "      <td>NaN</td>\n",
              "      <td>Jonas Jerebko</td>\n",
              "      <td>torn right Acchilles tendon (out indefinitely)</td>\n",
              "    </tr>\n",
              "    <tr>\n",
              "      <th>2</th>\n",
              "      <td>2010-10-06</td>\n",
              "      <td>Pistons</td>\n",
              "      <td>NaN</td>\n",
              "      <td>Terrico White</td>\n",
              "      <td>broken fifth metatarsal in right foot (out ind...</td>\n",
              "    </tr>\n",
              "    <tr>\n",
              "      <th>3</th>\n",
              "      <td>2010-10-08</td>\n",
              "      <td>Blazers</td>\n",
              "      <td>NaN</td>\n",
              "      <td>Jeff Pendergraph / Jeff Ayres</td>\n",
              "      <td>torn ACL in right knee (out indefinitely)</td>\n",
              "    </tr>\n",
              "    <tr>\n",
              "      <th>4</th>\n",
              "      <td>2010-10-08</td>\n",
              "      <td>Nets</td>\n",
              "      <td>NaN</td>\n",
              "      <td>Troy Murphy</td>\n",
              "      <td>strained lower back (out indefinitely)</td>\n",
              "    </tr>\n",
              "  </tbody>\n",
              "</table>\n",
              "</div>"
            ],
            "text/plain": [
              "         Date  ...                                              Notes\n",
              "0  2010-10-03  ...  fractured bone in right pinky finger (out inde...\n",
              "1  2010-10-06  ...     torn right Acchilles tendon (out indefinitely)\n",
              "2  2010-10-06  ...  broken fifth metatarsal in right foot (out ind...\n",
              "3  2010-10-08  ...          torn ACL in right knee (out indefinitely)\n",
              "4  2010-10-08  ...             strained lower back (out indefinitely)\n",
              "\n",
              "[5 rows x 5 columns]"
            ]
          },
          "metadata": {
            "tags": []
          },
          "execution_count": 72
        }
      ]
    },
    {
      "cell_type": "markdown",
      "metadata": {
        "id": "fsQ_wDHiZHe8",
        "colab_type": "text"
      },
      "source": [
        "#Cleaning Data"
      ]
    },
    {
      "cell_type": "markdown",
      "metadata": {
        "id": "J36C-QWYIq7f",
        "colab_type": "text"
      },
      "source": [
        "The data contains four columns we're interested in: \"Date,\" \"Team,\" \"Relinquised,\" (a column that shows what player suffered the injury), and \"Notes,\" which is a brief text description of the injury.\n",
        "\n",
        "\"Acquired\" is used to denote rows where a player returned from injury. Though there could be analysis done on players' time of recovery, from scanning the data, the \"Acquired\" columns were reported inconsistently within seasons and for various types of injuries; thus, this data is out of the scope of this analysis. Therefore I drop this column and its associated rows."
      ]
    },
    {
      "cell_type": "code",
      "metadata": {
        "id": "oWyfElb_ZCAe",
        "colab_type": "code",
        "outputId": "35c99fd1-945f-4368-d556-483bc49ad885",
        "colab": {
          "base_uri": "https://localhost:8080/",
          "height": 34
        }
      },
      "source": [
        "injuries.columns = injuries.columns.str.lower()\n",
        "injuries = injuries[injuries[\"acquired\"].isnull() == True]\n",
        "injuries = injuries.drop([\"acquired\"], axis = 1)\n",
        "injuries.shape"
      ],
      "execution_count": 73,
      "outputs": [
        {
          "output_type": "execute_result",
          "data": {
            "text/plain": [
              "(8194, 4)"
            ]
          },
          "metadata": {
            "tags": []
          },
          "execution_count": 73
        }
      ]
    },
    {
      "cell_type": "code",
      "metadata": {
        "id": "k8_rRNrWr1dU",
        "colab_type": "code",
        "outputId": "e0734719-1dbb-4e58-c0df-7e92ca8f1793",
        "colab": {
          "base_uri": "https://localhost:8080/",
          "height": 101
        }
      },
      "source": [
        "injuries.dtypes"
      ],
      "execution_count": 74,
      "outputs": [
        {
          "output_type": "execute_result",
          "data": {
            "text/plain": [
              "date           object\n",
              "team           object\n",
              "relinquised    object\n",
              "notes          object\n",
              "dtype: object"
            ]
          },
          "metadata": {
            "tags": []
          },
          "execution_count": 74
        }
      ]
    },
    {
      "cell_type": "markdown",
      "metadata": {
        "id": "pkNu1zlSKKBH",
        "colab_type": "text"
      },
      "source": [
        "To perform operations on the \"date\" column, I cast it as a datetime object. To prevent mismatches due to case-sensitivity, I make all 'notes' lowercase. Finally, I clean the column name."
      ]
    },
    {
      "cell_type": "code",
      "metadata": {
        "id": "4arfrxoWZLjX",
        "colab_type": "code",
        "outputId": "318dd11d-5f0e-4931-847d-f4a917d80f72",
        "colab": {
          "base_uri": "https://localhost:8080/",
          "height": 195
        }
      },
      "source": [
        "injuries[\"date\"] = pd.to_datetime(injuries[\"date\"], infer_datetime_format = True)\n",
        "injuries[\"notes\"] = injuries[\"notes\"].apply(str.lower)\n",
        "injuries = injuries.rename(columns={\"relinquised\":\"player\"})\n",
        "injuries.head()"
      ],
      "execution_count": 75,
      "outputs": [
        {
          "output_type": "execute_result",
          "data": {
            "text/html": [
              "<div>\n",
              "<style scoped>\n",
              "    .dataframe tbody tr th:only-of-type {\n",
              "        vertical-align: middle;\n",
              "    }\n",
              "\n",
              "    .dataframe tbody tr th {\n",
              "        vertical-align: top;\n",
              "    }\n",
              "\n",
              "    .dataframe thead th {\n",
              "        text-align: right;\n",
              "    }\n",
              "</style>\n",
              "<table border=\"1\" class=\"dataframe\">\n",
              "  <thead>\n",
              "    <tr style=\"text-align: right;\">\n",
              "      <th></th>\n",
              "      <th>date</th>\n",
              "      <th>team</th>\n",
              "      <th>player</th>\n",
              "      <th>notes</th>\n",
              "    </tr>\n",
              "  </thead>\n",
              "  <tbody>\n",
              "    <tr>\n",
              "      <th>0</th>\n",
              "      <td>2010-10-03</td>\n",
              "      <td>Bulls</td>\n",
              "      <td>Carlos Boozer</td>\n",
              "      <td>fractured bone in right pinky finger (out inde...</td>\n",
              "    </tr>\n",
              "    <tr>\n",
              "      <th>1</th>\n",
              "      <td>2010-10-06</td>\n",
              "      <td>Pistons</td>\n",
              "      <td>Jonas Jerebko</td>\n",
              "      <td>torn right acchilles tendon (out indefinitely)</td>\n",
              "    </tr>\n",
              "    <tr>\n",
              "      <th>2</th>\n",
              "      <td>2010-10-06</td>\n",
              "      <td>Pistons</td>\n",
              "      <td>Terrico White</td>\n",
              "      <td>broken fifth metatarsal in right foot (out ind...</td>\n",
              "    </tr>\n",
              "    <tr>\n",
              "      <th>3</th>\n",
              "      <td>2010-10-08</td>\n",
              "      <td>Blazers</td>\n",
              "      <td>Jeff Pendergraph / Jeff Ayres</td>\n",
              "      <td>torn acl in right knee (out indefinitely)</td>\n",
              "    </tr>\n",
              "    <tr>\n",
              "      <th>4</th>\n",
              "      <td>2010-10-08</td>\n",
              "      <td>Nets</td>\n",
              "      <td>Troy Murphy</td>\n",
              "      <td>strained lower back (out indefinitely)</td>\n",
              "    </tr>\n",
              "  </tbody>\n",
              "</table>\n",
              "</div>"
            ],
            "text/plain": [
              "        date  ...                                              notes\n",
              "0 2010-10-03  ...  fractured bone in right pinky finger (out inde...\n",
              "1 2010-10-06  ...     torn right acchilles tendon (out indefinitely)\n",
              "2 2010-10-06  ...  broken fifth metatarsal in right foot (out ind...\n",
              "3 2010-10-08  ...          torn acl in right knee (out indefinitely)\n",
              "4 2010-10-08  ...             strained lower back (out indefinitely)\n",
              "\n",
              "[5 rows x 4 columns]"
            ]
          },
          "metadata": {
            "tags": []
          },
          "execution_count": 75
        }
      ]
    },
    {
      "cell_type": "markdown",
      "metadata": {
        "id": "zQLa28v6bGtF",
        "colab_type": "text"
      },
      "source": [
        "Rest is inconsistently logged as either \"DNP\" or \"Rest (DNP)\". To calculate rest days accurately, I change all instances to \"rest (dnp)\"."
      ]
    },
    {
      "cell_type": "code",
      "metadata": {
        "id": "auqY_lYqbUhi",
        "colab_type": "code",
        "colab": {}
      },
      "source": [
        "injuries[\"notes\"] = injuries[\"notes\"].replace({\"dnp\":\"rest (dnp)\"})"
      ],
      "execution_count": 0,
      "outputs": []
    },
    {
      "cell_type": "code",
      "metadata": {
        "id": "FGpPc3eCb62V",
        "colab_type": "code",
        "outputId": "1896c6a0-a2cc-48a4-d658-e059d55c8beb",
        "colab": {
          "base_uri": "https://localhost:8080/",
          "height": 118
        }
      },
      "source": [
        "injuries[\"notes\"].value_counts().head()"
      ],
      "execution_count": 77,
      "outputs": [
        {
          "output_type": "execute_result",
          "data": {
            "text/plain": [
              "sprained left ankle (dnp)     362\n",
              "rest (dtd)                    288\n",
              "rest (dnp)                    191\n",
              "sprained right ankle (dnp)    175\n",
              "illness (dtd)                 149\n",
              "Name: notes, dtype: int64"
            ]
          },
          "metadata": {
            "tags": []
          },
          "execution_count": 77
        }
      ]
    },
    {
      "cell_type": "markdown",
      "metadata": {
        "id": "fKvVtQqjuFWU",
        "colab_type": "text"
      },
      "source": [
        "It's interesting that sprained left ankles are so much more common than sprained right ankles. I'm assuming this has something to do with biomechanics of right-footed players, and I'd be fascinated to see further analysis. Anyway, it's clear this is not perfect -- rest is logged as two different things -- but, since this column is for feature engineering, we don't have to worry about exact matches as long as they contain the right word. "
      ]
    },
    {
      "cell_type": "code",
      "metadata": {
        "id": "HWIdMU3VupbC",
        "colab_type": "code",
        "outputId": "e610610d-86f8-41de-8b71-8de908bf934f",
        "colab": {
          "base_uri": "https://localhost:8080/",
          "height": 101
        }
      },
      "source": [
        "injuries.isnull().sum()"
      ],
      "execution_count": 78,
      "outputs": [
        {
          "output_type": "execute_result",
          "data": {
            "text/plain": [
              "date      0\n",
              "team      3\n",
              "player    0\n",
              "notes     0\n",
              "dtype: int64"
            ]
          },
          "metadata": {
            "tags": []
          },
          "execution_count": 78
        }
      ]
    },
    {
      "cell_type": "code",
      "metadata": {
        "id": "y4jbSH0gvC09",
        "colab_type": "code",
        "outputId": "2e237762-2542-42f2-b3dd-95fab757603c",
        "colab": {
          "base_uri": "https://localhost:8080/",
          "height": 136
        }
      },
      "source": [
        "injuries[injuries[\"team\"].isnull() == True]"
      ],
      "execution_count": 79,
      "outputs": [
        {
          "output_type": "execute_result",
          "data": {
            "text/html": [
              "<div>\n",
              "<style scoped>\n",
              "    .dataframe tbody tr th:only-of-type {\n",
              "        vertical-align: middle;\n",
              "    }\n",
              "\n",
              "    .dataframe tbody tr th {\n",
              "        vertical-align: top;\n",
              "    }\n",
              "\n",
              "    .dataframe thead th {\n",
              "        text-align: right;\n",
              "    }\n",
              "</style>\n",
              "<table border=\"1\" class=\"dataframe\">\n",
              "  <thead>\n",
              "    <tr style=\"text-align: right;\">\n",
              "      <th></th>\n",
              "      <th>date</th>\n",
              "      <th>team</th>\n",
              "      <th>player</th>\n",
              "      <th>notes</th>\n",
              "    </tr>\n",
              "  </thead>\n",
              "  <tbody>\n",
              "    <tr>\n",
              "      <th>6330</th>\n",
              "      <td>2015-09-02</td>\n",
              "      <td>NaN</td>\n",
              "      <td>Glen Davis</td>\n",
              "      <td>surgery on left ankle to repair torn ligaments...</td>\n",
              "    </tr>\n",
              "    <tr>\n",
              "      <th>6332</th>\n",
              "      <td>2015-09-03</td>\n",
              "      <td>NaN</td>\n",
              "      <td>Landry Fields</td>\n",
              "      <td>surgery on hip to repair torn labrum (out inde...</td>\n",
              "    </tr>\n",
              "    <tr>\n",
              "      <th>8349</th>\n",
              "      <td>2017-02-08</td>\n",
              "      <td>NaN</td>\n",
              "      <td>Dragan Bender</td>\n",
              "      <td>surgery on right ankle to remove bone spur (ou...</td>\n",
              "    </tr>\n",
              "  </tbody>\n",
              "</table>\n",
              "</div>"
            ],
            "text/plain": [
              "           date  ...                                              notes\n",
              "6330 2015-09-02  ...  surgery on left ankle to repair torn ligaments...\n",
              "6332 2015-09-03  ...  surgery on hip to repair torn labrum (out inde...\n",
              "8349 2017-02-08  ...  surgery on right ankle to remove bone spur (ou...\n",
              "\n",
              "[3 rows x 4 columns]"
            ]
          },
          "metadata": {
            "tags": []
          },
          "execution_count": 79
        }
      ]
    },
    {
      "cell_type": "markdown",
      "metadata": {
        "id": "IEvcCLKRvqIm",
        "colab_type": "text"
      },
      "source": [
        "The NaN values here represent when a player had surgery while he was not under contract with a team (a free agent or had been waived). So I replace the missing values with \"None\"."
      ]
    },
    {
      "cell_type": "code",
      "metadata": {
        "id": "PUn6Rz-fvIoX",
        "colab_type": "code",
        "colab": {}
      },
      "source": [
        "injuries[\"team\"] = injuries[\"team\"].replace({np.NaN: \"None\"})"
      ],
      "execution_count": 0,
      "outputs": []
    },
    {
      "cell_type": "code",
      "metadata": {
        "id": "XggHj_Lkvbt_",
        "colab_type": "code",
        "outputId": "3ac19c32-e9ef-43a2-d169-eb6313418930",
        "colab": {
          "base_uri": "https://localhost:8080/",
          "height": 185
        }
      },
      "source": [
        "print(injuries.dtypes)\n",
        "injuries.isnull().sum()"
      ],
      "execution_count": 81,
      "outputs": [
        {
          "output_type": "stream",
          "text": [
            "date      datetime64[ns]\n",
            "team              object\n",
            "player            object\n",
            "notes             object\n",
            "dtype: object\n"
          ],
          "name": "stdout"
        },
        {
          "output_type": "execute_result",
          "data": {
            "text/plain": [
              "date      0\n",
              "team      0\n",
              "player    0\n",
              "notes     0\n",
              "dtype: int64"
            ]
          },
          "metadata": {
            "tags": []
          },
          "execution_count": 81
        }
      ]
    },
    {
      "cell_type": "markdown",
      "metadata": {
        "id": "wyF6d8IZK3Uu",
        "colab_type": "text"
      },
      "source": [
        "One issue with this dataset is the inconsistent logging of injuries over multiple days. For minor injuries, players will show up on the injury report for the same injury over multiple days or even weeks. However, for major injuries, the injury will be reported once and the player's absence will be assumed (they will be placed on the inactive list).\n",
        "\n",
        "To ensure consistency, I decide that every row representing an injury will represent a discrete player injury. To do this, I sort the data by player and date and remove rows where the same player has the same injury reported within ten days of the last report. "
      ]
    },
    {
      "cell_type": "code",
      "metadata": {
        "id": "c9AGB_wy7GtS",
        "colab_type": "code",
        "outputId": "299c9543-4c5d-4cea-b52b-4db1eecd6823",
        "colab": {
          "base_uri": "https://localhost:8080/",
          "height": 195
        }
      },
      "source": [
        "injuries = injuries.sort_values(by = [\"player\", \"date\"])\n",
        "injuries.head()"
      ],
      "execution_count": 82,
      "outputs": [
        {
          "output_type": "execute_result",
          "data": {
            "text/html": [
              "<div>\n",
              "<style scoped>\n",
              "    .dataframe tbody tr th:only-of-type {\n",
              "        vertical-align: middle;\n",
              "    }\n",
              "\n",
              "    .dataframe tbody tr th {\n",
              "        vertical-align: top;\n",
              "    }\n",
              "\n",
              "    .dataframe thead th {\n",
              "        text-align: right;\n",
              "    }\n",
              "</style>\n",
              "<table border=\"1\" class=\"dataframe\">\n",
              "  <thead>\n",
              "    <tr style=\"text-align: right;\">\n",
              "      <th></th>\n",
              "      <th>date</th>\n",
              "      <th>team</th>\n",
              "      <th>player</th>\n",
              "      <th>notes</th>\n",
              "    </tr>\n",
              "  </thead>\n",
              "  <tbody>\n",
              "    <tr>\n",
              "      <th>501</th>\n",
              "      <td>2011-02-28</td>\n",
              "      <td>Spurs</td>\n",
              "      <td>(William) Tony Parker</td>\n",
              "      <td>strained left calf muscle (out indefinitely)</td>\n",
              "    </tr>\n",
              "    <tr>\n",
              "      <th>630</th>\n",
              "      <td>2011-03-28</td>\n",
              "      <td>Spurs</td>\n",
              "      <td>(William) Tony Parker</td>\n",
              "      <td>bruised left patella (dnp)</td>\n",
              "    </tr>\n",
              "    <tr>\n",
              "      <th>777</th>\n",
              "      <td>2011-04-12</td>\n",
              "      <td>Spurs</td>\n",
              "      <td>(William) Tony Parker</td>\n",
              "      <td>rest (dnp)</td>\n",
              "    </tr>\n",
              "    <tr>\n",
              "      <th>1379</th>\n",
              "      <td>2012-02-21</td>\n",
              "      <td>Spurs</td>\n",
              "      <td>(William) Tony Parker</td>\n",
              "      <td>rest (dnp)</td>\n",
              "    </tr>\n",
              "    <tr>\n",
              "      <th>1645</th>\n",
              "      <td>2012-03-23</td>\n",
              "      <td>Spurs</td>\n",
              "      <td>(William) Tony Parker</td>\n",
              "      <td>sore left hamstring (dnp)</td>\n",
              "    </tr>\n",
              "  </tbody>\n",
              "</table>\n",
              "</div>"
            ],
            "text/plain": [
              "           date  ...                                         notes\n",
              "501  2011-02-28  ...  strained left calf muscle (out indefinitely)\n",
              "630  2011-03-28  ...                    bruised left patella (dnp)\n",
              "777  2011-04-12  ...                                    rest (dnp)\n",
              "1379 2012-02-21  ...                                    rest (dnp)\n",
              "1645 2012-03-23  ...                     sore left hamstring (dnp)\n",
              "\n",
              "[5 rows x 4 columns]"
            ]
          },
          "metadata": {
            "tags": []
          },
          "execution_count": 82
        }
      ]
    },
    {
      "cell_type": "code",
      "metadata": {
        "id": "tX-EQ2qk89uP",
        "colab_type": "code",
        "colab": {}
      },
      "source": [
        "# reset index for clean subsetting\n",
        "injuries = injuries.reset_index(drop = True)"
      ],
      "execution_count": 0,
      "outputs": []
    },
    {
      "cell_type": "code",
      "metadata": {
        "id": "FiN1FfgNv2am",
        "colab_type": "code",
        "colab": {}
      },
      "source": [
        "def same_player(df, i):\n",
        "  return (df[\"player\"][i] == df[\"player\"][i-1])\n",
        "\n",
        "def same_injury(df, i):\n",
        "  return (df[\"notes\"][i] == df[\"notes\"][i-1])\n",
        "\n",
        "def within_cutoff(df, i):\n",
        "  return ((df[\"date\"][i] - df[\"date\"][i - 1]).days < 10)\n",
        "\n",
        "def injury(df, i):\n",
        "  return ((\"rest\" in df[\"notes\"][i]) == False)"
      ],
      "execution_count": 0,
      "outputs": []
    },
    {
      "cell_type": "code",
      "metadata": {
        "id": "5rFj3523MvmR",
        "colab_type": "code",
        "colab": {}
      },
      "source": [
        "def clean_injuries(df):\n",
        "  redundant_rows = []\n",
        "\n",
        "  for i in range(1, df.shape[0]):\n",
        "    if same_player(df, i) & same_injury(df, i) & within_cutoff(df, i) & injury(df, i):\n",
        "      redundant_rows.append(i)\n",
        "\n",
        "  df = df.drop(redundant_rows)\n",
        "  df = df.reset_index(drop = True)\n",
        "\n",
        "  return df"
      ],
      "execution_count": 0,
      "outputs": []
    },
    {
      "cell_type": "code",
      "metadata": {
        "id": "PsUWm8_9JD5A",
        "colab_type": "code",
        "outputId": "813a2042-9915-427d-93a4-328c42650e92",
        "colab": {
          "base_uri": "https://localhost:8080/",
          "height": 212
        }
      },
      "source": [
        "injuries = clean_injuries(injuries)\n",
        "print(injuries.shape)\n",
        "injuries.head()"
      ],
      "execution_count": 86,
      "outputs": [
        {
          "output_type": "stream",
          "text": [
            "(5482, 4)\n"
          ],
          "name": "stdout"
        },
        {
          "output_type": "execute_result",
          "data": {
            "text/html": [
              "<div>\n",
              "<style scoped>\n",
              "    .dataframe tbody tr th:only-of-type {\n",
              "        vertical-align: middle;\n",
              "    }\n",
              "\n",
              "    .dataframe tbody tr th {\n",
              "        vertical-align: top;\n",
              "    }\n",
              "\n",
              "    .dataframe thead th {\n",
              "        text-align: right;\n",
              "    }\n",
              "</style>\n",
              "<table border=\"1\" class=\"dataframe\">\n",
              "  <thead>\n",
              "    <tr style=\"text-align: right;\">\n",
              "      <th></th>\n",
              "      <th>date</th>\n",
              "      <th>team</th>\n",
              "      <th>player</th>\n",
              "      <th>notes</th>\n",
              "    </tr>\n",
              "  </thead>\n",
              "  <tbody>\n",
              "    <tr>\n",
              "      <th>0</th>\n",
              "      <td>2011-02-28</td>\n",
              "      <td>Spurs</td>\n",
              "      <td>(William) Tony Parker</td>\n",
              "      <td>strained left calf muscle (out indefinitely)</td>\n",
              "    </tr>\n",
              "    <tr>\n",
              "      <th>1</th>\n",
              "      <td>2011-03-28</td>\n",
              "      <td>Spurs</td>\n",
              "      <td>(William) Tony Parker</td>\n",
              "      <td>bruised left patella (dnp)</td>\n",
              "    </tr>\n",
              "    <tr>\n",
              "      <th>2</th>\n",
              "      <td>2011-04-12</td>\n",
              "      <td>Spurs</td>\n",
              "      <td>(William) Tony Parker</td>\n",
              "      <td>rest (dnp)</td>\n",
              "    </tr>\n",
              "    <tr>\n",
              "      <th>3</th>\n",
              "      <td>2012-02-21</td>\n",
              "      <td>Spurs</td>\n",
              "      <td>(William) Tony Parker</td>\n",
              "      <td>rest (dnp)</td>\n",
              "    </tr>\n",
              "    <tr>\n",
              "      <th>4</th>\n",
              "      <td>2012-03-23</td>\n",
              "      <td>Spurs</td>\n",
              "      <td>(William) Tony Parker</td>\n",
              "      <td>sore left hamstring (dnp)</td>\n",
              "    </tr>\n",
              "  </tbody>\n",
              "</table>\n",
              "</div>"
            ],
            "text/plain": [
              "        date  ...                                         notes\n",
              "0 2011-02-28  ...  strained left calf muscle (out indefinitely)\n",
              "1 2011-03-28  ...                    bruised left patella (dnp)\n",
              "2 2011-04-12  ...                                    rest (dnp)\n",
              "3 2012-02-21  ...                                    rest (dnp)\n",
              "4 2012-03-23  ...                     sore left hamstring (dnp)\n",
              "\n",
              "[5 rows x 4 columns]"
            ]
          },
          "metadata": {
            "tags": []
          },
          "execution_count": 86
        }
      ]
    },
    {
      "cell_type": "markdown",
      "metadata": {
        "id": "kf9bwz0dN1_Y",
        "colab_type": "text"
      },
      "source": [
        "Looks like we got rid of the redundant injuries! Now every row represents (approximately) either a discrete injury or a voluntary day of rest. "
      ]
    },
    {
      "cell_type": "markdown",
      "metadata": {
        "id": "B8g8n39bZQ1U",
        "colab_type": "text"
      },
      "source": [
        "#Feature Engineering"
      ]
    },
    {
      "cell_type": "markdown",
      "metadata": {
        "id": "rLzWKQMLjw7f",
        "colab_type": "text"
      },
      "source": [
        "Now that the data set is cleaned, it's time to engineer some features so that we can analyze the data. I'll start by adding features that represent which month of the season and year each injury occured. Then I'll use the season beginning and ending dates to place each injury within a particular season. "
      ]
    },
    {
      "cell_type": "code",
      "metadata": {
        "id": "ZpX9jG_WjtGH",
        "colab_type": "code",
        "colab": {}
      },
      "source": [
        "injuries[\"month\"] = (injuries[\"date\"].dt.month - 9) % 12 \n",
        "injuries[\"year\"] = injuries[\"date\"].dt.year"
      ],
      "execution_count": 0,
      "outputs": []
    },
    {
      "cell_type": "code",
      "metadata": {
        "id": "0xuvbPC6r-pD",
        "colab_type": "code",
        "colab": {}
      },
      "source": [
        "start_2011 = pd.Timestamp(2010, 10, 25, 12)\n",
        "start_2012 = pd.Timestamp(2011, 12, 24, 12)\n",
        "start_2013 = pd.Timestamp(2012, 10, 29, 12)\n",
        "start_2014 = pd.Timestamp(2013, 10, 28, 12)\n",
        "start_2015 = pd.Timestamp(2014, 10, 27, 12)\n",
        "start_2016 = pd.Timestamp(2015, 10, 26, 12)\n",
        "start_2017 = pd.Timestamp(2016, 10, 24, 12)\n",
        "start_2018 = pd.Timestamp(2017, 10, 16, 12)"
      ],
      "execution_count": 0,
      "outputs": []
    },
    {
      "cell_type": "code",
      "metadata": {
        "id": "cat2qr9V4crx",
        "colab_type": "code",
        "colab": {}
      },
      "source": [
        "def season(date):\n",
        "  if start_2011 < date < pd.Timestamp(2011, 4, 14, 12):\n",
        "    return 2011\n",
        "  elif start_2012 < date < pd.Timestamp(2012, 4, 27, 12):\n",
        "    return 2012\n",
        "  elif start_2013 < date < pd.Timestamp(2013, 4, 18, 12):\n",
        "    return 2013\n",
        "  elif start_2014 < date < pd.Timestamp(2014, 4, 17, 12):\n",
        "    return 2014\n",
        "  elif start_2015 < date < pd.Timestamp(2015, 4, 16, 12):\n",
        "    return 2015\n",
        "  elif start_2016 < date < pd.Timestamp(2016, 4, 14, 12):\n",
        "    return 2016\n",
        "  elif start_2017 < date < pd.Timestamp(2017, 4, 13, 12):\n",
        "    return 2017\n",
        "  elif start_2018 < date < pd.Timestamp(2018, 4, 12, 12):\n",
        "    return 2018\n",
        "  else: \n",
        "    return np.NaN\n",
        "\n",
        "injuries[\"season\"] = injuries[\"date\"].apply(season)"
      ],
      "execution_count": 0,
      "outputs": []
    },
    {
      "cell_type": "markdown",
      "metadata": {
        "id": "KOVnwU5nrPMH",
        "colab_type": "text"
      },
      "source": [
        "As the timing and total games of the playoffs vary each year depending on how early rounds go, I've chosen to use only regular-season injuries for this data to make year-on-year comparisons valid. I've also omitted injury reports from the offseason (which, from looking at the data set, are typically surgeries on pre-existing conditions which occurred during the season itself). \n"
      ]
    },
    {
      "cell_type": "code",
      "metadata": {
        "id": "lO-JQfrXv-7y",
        "colab_type": "code",
        "colab": {}
      },
      "source": [
        "injuries = injuries[injuries[\"season\"].isnull() == False]"
      ],
      "execution_count": 0,
      "outputs": []
    },
    {
      "cell_type": "code",
      "metadata": {
        "id": "BrBUQI6EVKtW",
        "colab_type": "code",
        "colab": {}
      },
      "source": [
        "def days_since_start(season, date):\n",
        "  if season == 2011:\n",
        "    return (date - start_2011).days\n",
        "  elif season == 2012:\n",
        "    return (date - start_2012).days\n",
        "  elif season == 2013:\n",
        "    return (date - start_2013).days\n",
        "  elif season == 2014:\n",
        "    return (date - start_2014).days\n",
        "  elif season == 2015:\n",
        "    return (date - start_2015).days\n",
        "  elif season == 2016:\n",
        "    return (date - start_2016).days\n",
        "  elif season == 2017:\n",
        "    return (date - start_2017).days\n",
        "  elif season == 2018:\n",
        "    return (date - start_2018).days\n",
        "  "
      ],
      "execution_count": 0,
      "outputs": []
    },
    {
      "cell_type": "code",
      "metadata": {
        "id": "BZGTRNK_WucY",
        "colab_type": "code",
        "colab": {}
      },
      "source": [
        "injuries[\"days_since_start\"] = injuries.apply(lambda x: days_since_start(x.season, x.date), axis = 1)"
      ],
      "execution_count": 0,
      "outputs": []
    },
    {
      "cell_type": "markdown",
      "metadata": {
        "id": "zzvfW9s2uPo_",
        "colab_type": "text"
      },
      "source": [
        "I'm also going to create a binned column so that there's something finer-grained than months but without the variation of individual days. This is a researcher degree of freedom; I chose 15 because it seemed to work well in smoothing the data while still showing statistically meaningful trends. Other choices would be valid."
      ]
    },
    {
      "cell_type": "code",
      "metadata": {
        "id": "Y9rYZxYFTlK5",
        "colab_type": "code",
        "colab": {}
      },
      "source": [
        "injuries[\"binned_days\"] = pd.cut(injuries[\"days_since_start\"], 15, labels = False)"
      ],
      "execution_count": 0,
      "outputs": []
    },
    {
      "cell_type": "markdown",
      "metadata": {
        "id": "NrkEPG2S2voj",
        "colab_type": "text"
      },
      "source": [
        "Now that we have seasons, we can fix another issue with the data. The New Orleans Hornets became the New Orleans Pelicans after the 2013 season. With \"Hornets\" freed, Charlotte ditched the short, ignominious history of the Bobcats to reclaim its old moniker. Let's adjust for that so that franchises are grouped together."
      ]
    },
    {
      "cell_type": "code",
      "metadata": {
        "id": "uaeiND5a3Cuu",
        "colab_type": "code",
        "colab": {}
      },
      "source": [
        "def clean_teams(team, season):\n",
        "  if (team ==\"Hornets\") & (2011 <= season <= 2013):\n",
        "    return \"Pelicans\"\n",
        "  elif (team == \"Bobcats\") & (2011 <= season <= 2014):\n",
        "    return \"Hornets\"\n",
        "  else:\n",
        "    return team"
      ],
      "execution_count": 0,
      "outputs": []
    },
    {
      "cell_type": "code",
      "metadata": {
        "id": "fDtBUpeM5EGb",
        "colab_type": "code",
        "colab": {}
      },
      "source": [
        "injuries[\"team\"] = injuries.apply(lambda x: clean_teams(x.team, x.season), axis = 1)"
      ],
      "execution_count": 0,
      "outputs": []
    },
    {
      "cell_type": "code",
      "metadata": {
        "id": "67n-eURX3zSp",
        "colab_type": "code",
        "outputId": "b5b17bf9-7bac-4a43-c575-a70aa0516132",
        "colab": {
          "base_uri": "https://localhost:8080/",
          "height": 402
        }
      },
      "source": [
        "injuries = injuries.sort_values(by = [\"player\", \"date\"])\n",
        "injuries.reset_index(drop = True)"
      ],
      "execution_count": 96,
      "outputs": [
        {
          "output_type": "execute_result",
          "data": {
            "text/html": [
              "<div>\n",
              "<style scoped>\n",
              "    .dataframe tbody tr th:only-of-type {\n",
              "        vertical-align: middle;\n",
              "    }\n",
              "\n",
              "    .dataframe tbody tr th {\n",
              "        vertical-align: top;\n",
              "    }\n",
              "\n",
              "    .dataframe thead th {\n",
              "        text-align: right;\n",
              "    }\n",
              "</style>\n",
              "<table border=\"1\" class=\"dataframe\">\n",
              "  <thead>\n",
              "    <tr style=\"text-align: right;\">\n",
              "      <th></th>\n",
              "      <th>date</th>\n",
              "      <th>team</th>\n",
              "      <th>player</th>\n",
              "      <th>notes</th>\n",
              "      <th>month</th>\n",
              "      <th>year</th>\n",
              "      <th>season</th>\n",
              "      <th>days_since_start</th>\n",
              "      <th>binned_days</th>\n",
              "    </tr>\n",
              "  </thead>\n",
              "  <tbody>\n",
              "    <tr>\n",
              "      <th>0</th>\n",
              "      <td>2011-02-28</td>\n",
              "      <td>Spurs</td>\n",
              "      <td>(William) Tony Parker</td>\n",
              "      <td>strained left calf muscle (out indefinitely)</td>\n",
              "      <td>5</td>\n",
              "      <td>2011</td>\n",
              "      <td>2011.0</td>\n",
              "      <td>125</td>\n",
              "      <td>10</td>\n",
              "    </tr>\n",
              "    <tr>\n",
              "      <th>1</th>\n",
              "      <td>2011-03-28</td>\n",
              "      <td>Spurs</td>\n",
              "      <td>(William) Tony Parker</td>\n",
              "      <td>bruised left patella (dnp)</td>\n",
              "      <td>6</td>\n",
              "      <td>2011</td>\n",
              "      <td>2011.0</td>\n",
              "      <td>153</td>\n",
              "      <td>12</td>\n",
              "    </tr>\n",
              "    <tr>\n",
              "      <th>2</th>\n",
              "      <td>2011-04-12</td>\n",
              "      <td>Spurs</td>\n",
              "      <td>(William) Tony Parker</td>\n",
              "      <td>rest (dnp)</td>\n",
              "      <td>7</td>\n",
              "      <td>2011</td>\n",
              "      <td>2011.0</td>\n",
              "      <td>168</td>\n",
              "      <td>14</td>\n",
              "    </tr>\n",
              "    <tr>\n",
              "      <th>3</th>\n",
              "      <td>2012-02-21</td>\n",
              "      <td>Spurs</td>\n",
              "      <td>(William) Tony Parker</td>\n",
              "      <td>rest (dnp)</td>\n",
              "      <td>5</td>\n",
              "      <td>2012</td>\n",
              "      <td>2012.0</td>\n",
              "      <td>58</td>\n",
              "      <td>4</td>\n",
              "    </tr>\n",
              "    <tr>\n",
              "      <th>4</th>\n",
              "      <td>2012-03-23</td>\n",
              "      <td>Spurs</td>\n",
              "      <td>(William) Tony Parker</td>\n",
              "      <td>sore left hamstring (dnp)</td>\n",
              "      <td>6</td>\n",
              "      <td>2012</td>\n",
              "      <td>2012.0</td>\n",
              "      <td>89</td>\n",
              "      <td>7</td>\n",
              "    </tr>\n",
              "    <tr>\n",
              "      <th>...</th>\n",
              "      <td>...</td>\n",
              "      <td>...</td>\n",
              "      <td>...</td>\n",
              "      <td>...</td>\n",
              "      <td>...</td>\n",
              "      <td>...</td>\n",
              "      <td>...</td>\n",
              "      <td>...</td>\n",
              "      <td>...</td>\n",
              "    </tr>\n",
              "    <tr>\n",
              "      <th>5049</th>\n",
              "      <td>2017-02-01</td>\n",
              "      <td>Warriors</td>\n",
              "      <td>Zaur Pachulia / Zaza Pachulia</td>\n",
              "      <td>strained right rotator cuff (dtd)</td>\n",
              "      <td>5</td>\n",
              "      <td>2017</td>\n",
              "      <td>2017.0</td>\n",
              "      <td>99</td>\n",
              "      <td>8</td>\n",
              "    </tr>\n",
              "    <tr>\n",
              "      <th>5050</th>\n",
              "      <td>2017-12-04</td>\n",
              "      <td>Warriors</td>\n",
              "      <td>Zaur Pachulia / Zaza Pachulia</td>\n",
              "      <td>sore left shoulder (dtd)</td>\n",
              "      <td>3</td>\n",
              "      <td>2017</td>\n",
              "      <td>2018.0</td>\n",
              "      <td>48</td>\n",
              "      <td>4</td>\n",
              "    </tr>\n",
              "    <tr>\n",
              "      <th>5051</th>\n",
              "      <td>2017-11-29</td>\n",
              "      <td>Rockets</td>\n",
              "      <td>Zhou Qi / Qi Zhou</td>\n",
              "      <td>sore left calf (dtd)</td>\n",
              "      <td>2</td>\n",
              "      <td>2017</td>\n",
              "      <td>2018.0</td>\n",
              "      <td>43</td>\n",
              "      <td>3</td>\n",
              "    </tr>\n",
              "    <tr>\n",
              "      <th>5052</th>\n",
              "      <td>2018-01-11</td>\n",
              "      <td>Rockets</td>\n",
              "      <td>Zhou Qi / Qi Zhou</td>\n",
              "      <td>right elbow injury (dtd)</td>\n",
              "      <td>4</td>\n",
              "      <td>2018</td>\n",
              "      <td>2018.0</td>\n",
              "      <td>86</td>\n",
              "      <td>7</td>\n",
              "    </tr>\n",
              "    <tr>\n",
              "      <th>5053</th>\n",
              "      <td>2018-03-14</td>\n",
              "      <td>Rockets</td>\n",
              "      <td>Zhou Qi / Qi Zhou</td>\n",
              "      <td>rib injury (dtd)</td>\n",
              "      <td>6</td>\n",
              "      <td>2018</td>\n",
              "      <td>2018.0</td>\n",
              "      <td>148</td>\n",
              "      <td>12</td>\n",
              "    </tr>\n",
              "  </tbody>\n",
              "</table>\n",
              "<p>5054 rows × 9 columns</p>\n",
              "</div>"
            ],
            "text/plain": [
              "           date      team  ... days_since_start binned_days\n",
              "0    2011-02-28     Spurs  ...              125          10\n",
              "1    2011-03-28     Spurs  ...              153          12\n",
              "2    2011-04-12     Spurs  ...              168          14\n",
              "3    2012-02-21     Spurs  ...               58           4\n",
              "4    2012-03-23     Spurs  ...               89           7\n",
              "...         ...       ...  ...              ...         ...\n",
              "5049 2017-02-01  Warriors  ...               99           8\n",
              "5050 2017-12-04  Warriors  ...               48           4\n",
              "5051 2017-11-29   Rockets  ...               43           3\n",
              "5052 2018-01-11   Rockets  ...               86           7\n",
              "5053 2018-03-14   Rockets  ...              148          12\n",
              "\n",
              "[5054 rows x 9 columns]"
            ]
          },
          "metadata": {
            "tags": []
          },
          "execution_count": 96
        }
      ]
    },
    {
      "cell_type": "code",
      "metadata": {
        "id": "TwffVvOYXKzl",
        "colab_type": "code",
        "outputId": "2b2fcd32-2d53-42ae-d6e5-47e110a62c94",
        "colab": {
          "base_uri": "https://localhost:8080/",
          "height": 185
        }
      },
      "source": [
        "injuries.isnull().sum()"
      ],
      "execution_count": 97,
      "outputs": [
        {
          "output_type": "execute_result",
          "data": {
            "text/plain": [
              "date                0\n",
              "team                0\n",
              "player              0\n",
              "notes               0\n",
              "month               0\n",
              "year                0\n",
              "season              0\n",
              "days_since_start    0\n",
              "binned_days         0\n",
              "dtype: int64"
            ]
          },
          "metadata": {
            "tags": []
          },
          "execution_count": 97
        }
      ]
    },
    {
      "cell_type": "markdown",
      "metadata": {
        "id": "NDueYSSpXMI9",
        "colab_type": "text"
      },
      "source": [
        "Now that the data is clean at a baseline, we can get to analysis. For the remainder of the analysis, it'll be useful to separate rest from actual injuries such that inferences drawn on the data sets are conceptually valid. I create features based on words in the injury descriptions."
      ]
    },
    {
      "cell_type": "code",
      "metadata": {
        "id": "V3W76a5NXFBI",
        "colab_type": "code",
        "colab": {}
      },
      "source": [
        "rest = injuries[injuries[\"notes\"].str.contains(\"rest\") == True]\n",
        "just_injuries = injuries[injuries[\"notes\"].str.contains(\"rest\") == False].copy()"
      ],
      "execution_count": 0,
      "outputs": []
    },
    {
      "cell_type": "code",
      "metadata": {
        "id": "e-8S6GzM-TFq",
        "colab_type": "code",
        "outputId": "6b9336b3-9529-4339-dadf-b7266807fd4c",
        "colab": {
          "base_uri": "https://localhost:8080/",
          "height": 417
        }
      },
      "source": [
        "for word in [\"achilles\", \"knee\", \"concussion\", \"ankle\", \"back\", \"hamstring\", \n",
        "             \"quadriceps\", \"hip\", \"wrist\",  \"neck\", \"calf\", \"foot\", \"hand\", \n",
        "             \"thumb\", \"elbow\", \"shoulder\", \"groin\", \"finger\"]:\n",
        "          just_injuries[word] = just_injuries[\"notes\"].str.contains(word)\n",
        "just_injuries.head()"
      ],
      "execution_count": 99,
      "outputs": [
        {
          "output_type": "execute_result",
          "data": {
            "text/html": [
              "<div>\n",
              "<style scoped>\n",
              "    .dataframe tbody tr th:only-of-type {\n",
              "        vertical-align: middle;\n",
              "    }\n",
              "\n",
              "    .dataframe tbody tr th {\n",
              "        vertical-align: top;\n",
              "    }\n",
              "\n",
              "    .dataframe thead th {\n",
              "        text-align: right;\n",
              "    }\n",
              "</style>\n",
              "<table border=\"1\" class=\"dataframe\">\n",
              "  <thead>\n",
              "    <tr style=\"text-align: right;\">\n",
              "      <th></th>\n",
              "      <th>date</th>\n",
              "      <th>team</th>\n",
              "      <th>player</th>\n",
              "      <th>notes</th>\n",
              "      <th>month</th>\n",
              "      <th>year</th>\n",
              "      <th>season</th>\n",
              "      <th>days_since_start</th>\n",
              "      <th>binned_days</th>\n",
              "      <th>achilles</th>\n",
              "      <th>knee</th>\n",
              "      <th>concussion</th>\n",
              "      <th>ankle</th>\n",
              "      <th>back</th>\n",
              "      <th>hamstring</th>\n",
              "      <th>quadriceps</th>\n",
              "      <th>hip</th>\n",
              "      <th>wrist</th>\n",
              "      <th>neck</th>\n",
              "      <th>calf</th>\n",
              "      <th>foot</th>\n",
              "      <th>hand</th>\n",
              "      <th>thumb</th>\n",
              "      <th>elbow</th>\n",
              "      <th>shoulder</th>\n",
              "      <th>groin</th>\n",
              "      <th>finger</th>\n",
              "    </tr>\n",
              "  </thead>\n",
              "  <tbody>\n",
              "    <tr>\n",
              "      <th>0</th>\n",
              "      <td>2011-02-28</td>\n",
              "      <td>Spurs</td>\n",
              "      <td>(William) Tony Parker</td>\n",
              "      <td>strained left calf muscle (out indefinitely)</td>\n",
              "      <td>5</td>\n",
              "      <td>2011</td>\n",
              "      <td>2011.0</td>\n",
              "      <td>125</td>\n",
              "      <td>10</td>\n",
              "      <td>False</td>\n",
              "      <td>False</td>\n",
              "      <td>False</td>\n",
              "      <td>False</td>\n",
              "      <td>False</td>\n",
              "      <td>False</td>\n",
              "      <td>False</td>\n",
              "      <td>False</td>\n",
              "      <td>False</td>\n",
              "      <td>False</td>\n",
              "      <td>True</td>\n",
              "      <td>False</td>\n",
              "      <td>False</td>\n",
              "      <td>False</td>\n",
              "      <td>False</td>\n",
              "      <td>False</td>\n",
              "      <td>False</td>\n",
              "      <td>False</td>\n",
              "    </tr>\n",
              "    <tr>\n",
              "      <th>1</th>\n",
              "      <td>2011-03-28</td>\n",
              "      <td>Spurs</td>\n",
              "      <td>(William) Tony Parker</td>\n",
              "      <td>bruised left patella (dnp)</td>\n",
              "      <td>6</td>\n",
              "      <td>2011</td>\n",
              "      <td>2011.0</td>\n",
              "      <td>153</td>\n",
              "      <td>12</td>\n",
              "      <td>False</td>\n",
              "      <td>False</td>\n",
              "      <td>False</td>\n",
              "      <td>False</td>\n",
              "      <td>False</td>\n",
              "      <td>False</td>\n",
              "      <td>False</td>\n",
              "      <td>False</td>\n",
              "      <td>False</td>\n",
              "      <td>False</td>\n",
              "      <td>False</td>\n",
              "      <td>False</td>\n",
              "      <td>False</td>\n",
              "      <td>False</td>\n",
              "      <td>False</td>\n",
              "      <td>False</td>\n",
              "      <td>False</td>\n",
              "      <td>False</td>\n",
              "    </tr>\n",
              "    <tr>\n",
              "      <th>4</th>\n",
              "      <td>2012-03-23</td>\n",
              "      <td>Spurs</td>\n",
              "      <td>(William) Tony Parker</td>\n",
              "      <td>sore left hamstring (dnp)</td>\n",
              "      <td>6</td>\n",
              "      <td>2012</td>\n",
              "      <td>2012.0</td>\n",
              "      <td>89</td>\n",
              "      <td>7</td>\n",
              "      <td>False</td>\n",
              "      <td>False</td>\n",
              "      <td>False</td>\n",
              "      <td>False</td>\n",
              "      <td>False</td>\n",
              "      <td>True</td>\n",
              "      <td>False</td>\n",
              "      <td>False</td>\n",
              "      <td>False</td>\n",
              "      <td>False</td>\n",
              "      <td>False</td>\n",
              "      <td>False</td>\n",
              "      <td>False</td>\n",
              "      <td>False</td>\n",
              "      <td>False</td>\n",
              "      <td>False</td>\n",
              "      <td>False</td>\n",
              "      <td>False</td>\n",
              "    </tr>\n",
              "    <tr>\n",
              "      <th>7</th>\n",
              "      <td>2013-02-11</td>\n",
              "      <td>Spurs</td>\n",
              "      <td>(William) Tony Parker</td>\n",
              "      <td>knee injury (dnp)</td>\n",
              "      <td>5</td>\n",
              "      <td>2013</td>\n",
              "      <td>2013.0</td>\n",
              "      <td>104</td>\n",
              "      <td>8</td>\n",
              "      <td>False</td>\n",
              "      <td>True</td>\n",
              "      <td>False</td>\n",
              "      <td>False</td>\n",
              "      <td>False</td>\n",
              "      <td>False</td>\n",
              "      <td>False</td>\n",
              "      <td>False</td>\n",
              "      <td>False</td>\n",
              "      <td>False</td>\n",
              "      <td>False</td>\n",
              "      <td>False</td>\n",
              "      <td>False</td>\n",
              "      <td>False</td>\n",
              "      <td>False</td>\n",
              "      <td>False</td>\n",
              "      <td>False</td>\n",
              "      <td>False</td>\n",
              "    </tr>\n",
              "    <tr>\n",
              "      <th>8</th>\n",
              "      <td>2013-02-24</td>\n",
              "      <td>Spurs</td>\n",
              "      <td>(William) Tony Parker</td>\n",
              "      <td>sore triceps (dnp)</td>\n",
              "      <td>5</td>\n",
              "      <td>2013</td>\n",
              "      <td>2013.0</td>\n",
              "      <td>117</td>\n",
              "      <td>9</td>\n",
              "      <td>False</td>\n",
              "      <td>False</td>\n",
              "      <td>False</td>\n",
              "      <td>False</td>\n",
              "      <td>False</td>\n",
              "      <td>False</td>\n",
              "      <td>False</td>\n",
              "      <td>False</td>\n",
              "      <td>False</td>\n",
              "      <td>False</td>\n",
              "      <td>False</td>\n",
              "      <td>False</td>\n",
              "      <td>False</td>\n",
              "      <td>False</td>\n",
              "      <td>False</td>\n",
              "      <td>False</td>\n",
              "      <td>False</td>\n",
              "      <td>False</td>\n",
              "    </tr>\n",
              "  </tbody>\n",
              "</table>\n",
              "</div>"
            ],
            "text/plain": [
              "        date   team                 player  ... shoulder  groin  finger\n",
              "0 2011-02-28  Spurs  (William) Tony Parker  ...    False  False   False\n",
              "1 2011-03-28  Spurs  (William) Tony Parker  ...    False  False   False\n",
              "4 2012-03-23  Spurs  (William) Tony Parker  ...    False  False   False\n",
              "7 2013-02-11  Spurs  (William) Tony Parker  ...    False  False   False\n",
              "8 2013-02-24  Spurs  (William) Tony Parker  ...    False  False   False\n",
              "\n",
              "[5 rows x 27 columns]"
            ]
          },
          "metadata": {
            "tags": []
          },
          "execution_count": 99
        }
      ]
    },
    {
      "cell_type": "code",
      "metadata": {
        "id": "SLFPNRmXCvCg",
        "colab_type": "code",
        "colab": {}
      },
      "source": [
        "illness = [\"illness\", \"virus\", \"flu\", \"gastroenteritis\", \"stomach\", \"poisoning\", \"infection\", \"bronchitis\", \"cold\"]"
      ],
      "execution_count": 0,
      "outputs": []
    },
    {
      "cell_type": "code",
      "metadata": {
        "id": "lF2bNRFsEHPe",
        "colab_type": "code",
        "colab": {}
      },
      "source": [
        "def test_illness(word):\n",
        "  return any(string in word for string in illness)\n",
        "\n",
        "just_injuries[\"illness\"] = just_injuries[\"notes\"].apply(test_illness)"
      ],
      "execution_count": 0,
      "outputs": []
    },
    {
      "cell_type": "code",
      "metadata": {
        "id": "Jkm4SWzSCktH",
        "colab_type": "code",
        "outputId": "dd1487cc-f605-4f8f-acea-16c2d3541c73",
        "colab": {
          "base_uri": "https://localhost:8080/",
          "height": 353
        }
      },
      "source": [
        "just_injuries.select_dtypes(include=['bool']).sum().sort_values(ascending = False)"
      ],
      "execution_count": 103,
      "outputs": [
        {
          "output_type": "execute_result",
          "data": {
            "text/plain": [
              "knee          880\n",
              "ankle         767\n",
              "illness       454\n",
              "back          349\n",
              "foot          250\n",
              "shoulder      194\n",
              "hamstring     184\n",
              "hip           159\n",
              "calf          131\n",
              "groin         127\n",
              "wrist         101\n",
              "achilles       85\n",
              "concussion     80\n",
              "hand           70\n",
              "thumb          62\n",
              "elbow          62\n",
              "finger         47\n",
              "quadriceps     39\n",
              "neck           24\n",
              "dtype: int64"
            ]
          },
          "metadata": {
            "tags": []
          },
          "execution_count": 103
        }
      ]
    },
    {
      "cell_type": "markdown",
      "metadata": {
        "id": "eCVrOyTMVFvk",
        "colab_type": "text"
      },
      "source": [
        "Given that basketball is characterized by explosive jumping and cutting, it may not be surprising to see knees and ankles at the top of the list of most-injured body parts."
      ]
    },
    {
      "cell_type": "markdown",
      "metadata": {
        "id": "anuLe96UZck4",
        "colab_type": "text"
      },
      "source": [
        "# Exploration and Analysis"
      ]
    },
    {
      "cell_type": "markdown",
      "metadata": {
        "id": "Yw92ncwVvTyo",
        "colab_type": "text"
      },
      "source": [
        "##Player Injuries"
      ]
    },
    {
      "cell_type": "markdown",
      "metadata": {
        "id": "lbVgWLlB6uJs",
        "colab_type": "text"
      },
      "source": [
        "I want to investigate how often the most frequently-injured players get injured."
      ]
    },
    {
      "cell_type": "code",
      "metadata": {
        "id": "H5_zqOxN60zJ",
        "colab_type": "code",
        "outputId": "cbb74d5b-6fd0-4e33-f1eb-edbb2553cf3f",
        "colab": {
          "base_uri": "https://localhost:8080/",
          "height": 252
        }
      },
      "source": [
        "just_injuries[\"player\"].value_counts()"
      ],
      "execution_count": 104,
      "outputs": [
        {
          "output_type": "stream",
          "text": [
            "(4512, 28)\n",
            "(542, 9)\n"
          ],
          "name": "stdout"
        },
        {
          "output_type": "execute_result",
          "data": {
            "text/plain": [
              "Jameer Nelson                             33\n",
              "Tyreke Evans                              33\n",
              "Danilo Gallinari                          31\n",
              "Nene / Nene Hilario / Maybyner Hilario    31\n",
              "Anthony Davis                             29\n",
              "                                          ..\n",
              "Kyle Singler                               1\n",
              "Pat Connaughton                            1\n",
              "Josh Jackson                               1\n",
              "Jeremy Tyler                               1\n",
              "Dexter Pittman                             1\n",
              "Name: player, Length: 743, dtype: int64"
            ]
          },
          "metadata": {
            "tags": []
          },
          "execution_count": 104
        }
      ]
    },
    {
      "cell_type": "markdown",
      "metadata": {
        "id": "zG7TF2n-UYos",
        "colab_type": "text"
      },
      "source": [
        "All in all, 743 different NBA players suffered an injury over this time frame. The most-injured players were hurt about 30 times each. (This list is best-interpreted as players who most frequently pick up minor injuries; the players who suffer worst from injuries don't recover quickly enough to pick up this many more.) \n",
        "\n",
        "I'll give special praise to Kevin Love who, after suffering 29 injuries over eight years, still managed to pick up a 4-year, $120,000,000 contract extension during the 2018-19 season."
      ]
    },
    {
      "cell_type": "markdown",
      "metadata": {
        "id": "JLvy9uwgvpt3",
        "colab_type": "text"
      },
      "source": [
        "##Injury Rates and Seasons"
      ]
    },
    {
      "cell_type": "markdown",
      "metadata": {
        "id": "vbc1e_bjVIuF",
        "colab_type": "text"
      },
      "source": [
        "Next I look at how injury rates have changed over the time period within the data set. First I generate a set of seasonal injury totals, then I create a new data frame that contains those totals, but adjusts for the 2011 NBA lockout, where the season start was delayed due to player/owner disagreement on a new CBA. \n",
        "\n",
        "As a result of this lockout, the 2011-12 season had 66 games instead of the standard 82."
      ]
    },
    {
      "cell_type": "code",
      "metadata": {
        "id": "eWr2gnz1E6MI",
        "colab_type": "code",
        "outputId": "564b862e-88ec-43b6-e32d-fe1e06b1f021",
        "colab": {
          "base_uri": "https://localhost:8080/",
          "height": 284
        }
      },
      "source": [
        "lockout_factor = (82/66)\n",
        "\n",
        "seasonal_totals = pd.DataFrame(just_injuries[\"season\"].value_counts())\n",
        "seasonal_totals = seasonal_totals.reset_index()\n",
        "seasonal_totals.columns = [\"season\", \"injuries\"]\n",
        "seasonal_totals = seasonal_totals.sort_values(by = \"season\")\n",
        "seasonal_totals = seasonal_totals.reset_index(drop = True)\n",
        "\n",
        "adj_seasonal_totals = seasonal_totals.copy()\n",
        "adj_seasonal_totals.iloc[1, 1] = round((adj_seasonal_totals.iloc[1,1] * lockout_factor), 2)\n",
        "adj_seasonal_totals"
      ],
      "execution_count": 105,
      "outputs": [
        {
          "output_type": "execute_result",
          "data": {
            "text/html": [
              "<div>\n",
              "<style scoped>\n",
              "    .dataframe tbody tr th:only-of-type {\n",
              "        vertical-align: middle;\n",
              "    }\n",
              "\n",
              "    .dataframe tbody tr th {\n",
              "        vertical-align: top;\n",
              "    }\n",
              "\n",
              "    .dataframe thead th {\n",
              "        text-align: right;\n",
              "    }\n",
              "</style>\n",
              "<table border=\"1\" class=\"dataframe\">\n",
              "  <thead>\n",
              "    <tr style=\"text-align: right;\">\n",
              "      <th></th>\n",
              "      <th>season</th>\n",
              "      <th>injuries</th>\n",
              "    </tr>\n",
              "  </thead>\n",
              "  <tbody>\n",
              "    <tr>\n",
              "      <th>0</th>\n",
              "      <td>2011.0</td>\n",
              "      <td>457.00</td>\n",
              "    </tr>\n",
              "    <tr>\n",
              "      <th>1</th>\n",
              "      <td>2012.0</td>\n",
              "      <td>690.79</td>\n",
              "    </tr>\n",
              "    <tr>\n",
              "      <th>2</th>\n",
              "      <td>2013.0</td>\n",
              "      <td>595.00</td>\n",
              "    </tr>\n",
              "    <tr>\n",
              "      <th>3</th>\n",
              "      <td>2014.0</td>\n",
              "      <td>625.00</td>\n",
              "    </tr>\n",
              "    <tr>\n",
              "      <th>4</th>\n",
              "      <td>2015.0</td>\n",
              "      <td>540.00</td>\n",
              "    </tr>\n",
              "    <tr>\n",
              "      <th>5</th>\n",
              "      <td>2016.0</td>\n",
              "      <td>608.00</td>\n",
              "    </tr>\n",
              "    <tr>\n",
              "      <th>6</th>\n",
              "      <td>2017.0</td>\n",
              "      <td>585.00</td>\n",
              "    </tr>\n",
              "    <tr>\n",
              "      <th>7</th>\n",
              "      <td>2018.0</td>\n",
              "      <td>546.00</td>\n",
              "    </tr>\n",
              "  </tbody>\n",
              "</table>\n",
              "</div>"
            ],
            "text/plain": [
              "   season  injuries\n",
              "0  2011.0    457.00\n",
              "1  2012.0    690.79\n",
              "2  2013.0    595.00\n",
              "3  2014.0    625.00\n",
              "4  2015.0    540.00\n",
              "5  2016.0    608.00\n",
              "6  2017.0    585.00\n",
              "7  2018.0    546.00"
            ]
          },
          "metadata": {
            "tags": []
          },
          "execution_count": 105
        }
      ]
    },
    {
      "cell_type": "code",
      "metadata": {
        "id": "nAbfbeA-IH5O",
        "colab_type": "code",
        "outputId": "d3f52463-194d-42e2-c008-4c143d28c18e",
        "colab": {
          "base_uri": "https://localhost:8080/",
          "height": 301
        }
      },
      "source": [
        "sns.lineplot(x = adj_seasonal_totals[\"season\"], y = adj_seasonal_totals[\"injuries\"])\n",
        "plt.title(\"NBA Season vs Number of Injuries\")\n",
        "plt.show()"
      ],
      "execution_count": 106,
      "outputs": [
        {
          "output_type": "display_data",
          "data": {
            "image/png": "[encoded data removed]",
            "text/plain": [
              "<Figure size 432x288 with 1 Axes>"
            ]
          },
          "metadata": {
            "tags": []
          }
        }
      ]
    },
    {
      "cell_type": "markdown",
      "metadata": {
        "id": "WK-_3UUJVwZA",
        "colab_type": "text"
      },
      "source": [
        "The eye test of this graph shows that, surprisingly, our data does not reveal a meaningful increase in injuries over time. However, when adjusted for the number of games played, the shortened 2012 season had the most injuries by far."
      ]
    },
    {
      "cell_type": "code",
      "metadata": {
        "id": "vs53pbELEQZQ",
        "colab_type": "code",
        "outputId": "2da9234b-24e5-408c-a1a5-46b9884e5982",
        "colab": {
          "base_uri": "https://localhost:8080/",
          "height": 50
        }
      },
      "source": [
        "nonlockout_injuries = seasonal_totals[seasonal_totals[\"season\"] != 2012][\"injuries\"].sum()\n",
        "nonlockout_ipg = nonlockout_injuries / (82 * 7)\n",
        "lockout_injuries = seasonal_totals[\"injuries\"][1]\n",
        "lockout_ipg = lockout_injuries/66\n",
        "print(\"In full seasons, there were\", round(nonlockout_ipg, 2), \"injuries per game.\")\n",
        "print(\"In the 2012 lockout season, there were\", round(lockout_ipg, 2), \"injuries per game.\")"
      ],
      "execution_count": 107,
      "outputs": [
        {
          "output_type": "stream",
          "text": [
            "In full seasons, there were 6.89 injuries per game.\n",
            "In the 2012 lockout season, there were 8.42 injuries per game.\n"
          ],
          "name": "stdout"
        }
      ]
    },
    {
      "cell_type": "markdown",
      "metadata": {
        "id": "7mglbv7KiBqE",
        "colab_type": "text"
      },
      "source": [
        "The lockout season saw a 22% increase in injuries per game."
      ]
    },
    {
      "cell_type": "markdown",
      "metadata": {
        "id": "ZChRF92_ikFc",
        "colab_type": "text"
      },
      "source": [
        "## Injury Type by Season"
      ]
    },
    {
      "cell_type": "markdown",
      "metadata": {
        "id": "RnSHWCSBTzIP",
        "colab_type": "text"
      },
      "source": [
        "I next wanted to look at whether specific injuries became more or less frequent over time. In particular, I was curious (based on my anecdotal memory of its past prevalence) whether Achilles injuries had increased in frequency. \n",
        "\n",
        "I create the full data frame with the 2012 season adjustment, dropping the columns that no longer make sense once summed. However, for analysis, I create a data frame with just the full seasons. There's statistical and conceptual reason to think that 2012 is anomalous, so I think dropping it is justified.  "
      ]
    },
    {
      "cell_type": "code",
      "metadata": {
        "id": "MLEkw6lJEaRi",
        "colab_type": "code",
        "colab": {}
      },
      "source": [
        "seasons = just_injuries.groupby(\"season\", as_index = False).sum()\n",
        "seasons.iloc[1] = round(seasons.iloc[1] * lockout_factor, 2) \n",
        "seasons[\"season\"][1] = 2012\n",
        "seasons = seasons.drop([\"month\", \"year\", \"days_since_start\", \"binned_days\"], axis = 1)\n",
        "\n",
        "full_seasons = seasons.drop(index = 1)"
      ],
      "execution_count": 0,
      "outputs": []
    },
    {
      "cell_type": "code",
      "metadata": {
        "id": "tgLgsEYaGMHM",
        "colab_type": "code",
        "outputId": "f7a812e5-a35f-4513-e172-ce3ab19c8116",
        "colab": {
          "base_uri": "https://localhost:8080/",
          "height": 284
        }
      },
      "source": [
        "seasons.head(8)"
      ],
      "execution_count": 109,
      "outputs": [
        {
          "output_type": "execute_result",
          "data": {
            "text/html": [
              "<div>\n",
              "<style scoped>\n",
              "    .dataframe tbody tr th:only-of-type {\n",
              "        vertical-align: middle;\n",
              "    }\n",
              "\n",
              "    .dataframe tbody tr th {\n",
              "        vertical-align: top;\n",
              "    }\n",
              "\n",
              "    .dataframe thead th {\n",
              "        text-align: right;\n",
              "    }\n",
              "</style>\n",
              "<table border=\"1\" class=\"dataframe\">\n",
              "  <thead>\n",
              "    <tr style=\"text-align: right;\">\n",
              "      <th></th>\n",
              "      <th>season</th>\n",
              "      <th>achilles</th>\n",
              "      <th>knee</th>\n",
              "      <th>concussion</th>\n",
              "      <th>ankle</th>\n",
              "      <th>back</th>\n",
              "      <th>hamstring</th>\n",
              "      <th>quadriceps</th>\n",
              "      <th>hip</th>\n",
              "      <th>wrist</th>\n",
              "      <th>neck</th>\n",
              "      <th>calf</th>\n",
              "      <th>foot</th>\n",
              "      <th>hand</th>\n",
              "      <th>thumb</th>\n",
              "      <th>elbow</th>\n",
              "      <th>shoulder</th>\n",
              "      <th>groin</th>\n",
              "      <th>finger</th>\n",
              "      <th>illness</th>\n",
              "    </tr>\n",
              "  </thead>\n",
              "  <tbody>\n",
              "    <tr>\n",
              "      <th>0</th>\n",
              "      <td>2011.0</td>\n",
              "      <td>6.00</td>\n",
              "      <td>102.00</td>\n",
              "      <td>5.00</td>\n",
              "      <td>72.0</td>\n",
              "      <td>39.00</td>\n",
              "      <td>15.00</td>\n",
              "      <td>7.00</td>\n",
              "      <td>11.00</td>\n",
              "      <td>14.00</td>\n",
              "      <td>2.0</td>\n",
              "      <td>13.00</td>\n",
              "      <td>39.00</td>\n",
              "      <td>1.00</td>\n",
              "      <td>7.00</td>\n",
              "      <td>6.0</td>\n",
              "      <td>14.00</td>\n",
              "      <td>13.00</td>\n",
              "      <td>5.00</td>\n",
              "      <td>50.00</td>\n",
              "    </tr>\n",
              "    <tr>\n",
              "      <th>1</th>\n",
              "      <td>2012.0</td>\n",
              "      <td>14.91</td>\n",
              "      <td>119.27</td>\n",
              "      <td>16.15</td>\n",
              "      <td>123.0</td>\n",
              "      <td>60.88</td>\n",
              "      <td>24.85</td>\n",
              "      <td>6.21</td>\n",
              "      <td>18.64</td>\n",
              "      <td>11.18</td>\n",
              "      <td>0.0</td>\n",
              "      <td>17.39</td>\n",
              "      <td>38.52</td>\n",
              "      <td>4.97</td>\n",
              "      <td>4.97</td>\n",
              "      <td>8.7</td>\n",
              "      <td>33.55</td>\n",
              "      <td>37.27</td>\n",
              "      <td>6.21</td>\n",
              "      <td>62.12</td>\n",
              "    </tr>\n",
              "    <tr>\n",
              "      <th>2</th>\n",
              "      <td>2013.0</td>\n",
              "      <td>7.00</td>\n",
              "      <td>123.00</td>\n",
              "      <td>10.00</td>\n",
              "      <td>108.0</td>\n",
              "      <td>45.00</td>\n",
              "      <td>23.00</td>\n",
              "      <td>6.00</td>\n",
              "      <td>22.00</td>\n",
              "      <td>5.00</td>\n",
              "      <td>7.0</td>\n",
              "      <td>17.00</td>\n",
              "      <td>37.00</td>\n",
              "      <td>11.00</td>\n",
              "      <td>9.00</td>\n",
              "      <td>14.0</td>\n",
              "      <td>27.00</td>\n",
              "      <td>19.00</td>\n",
              "      <td>10.00</td>\n",
              "      <td>67.00</td>\n",
              "    </tr>\n",
              "    <tr>\n",
              "      <th>3</th>\n",
              "      <td>2014.0</td>\n",
              "      <td>9.00</td>\n",
              "      <td>143.00</td>\n",
              "      <td>2.00</td>\n",
              "      <td>110.0</td>\n",
              "      <td>53.00</td>\n",
              "      <td>31.00</td>\n",
              "      <td>4.00</td>\n",
              "      <td>14.00</td>\n",
              "      <td>15.00</td>\n",
              "      <td>4.0</td>\n",
              "      <td>21.00</td>\n",
              "      <td>38.00</td>\n",
              "      <td>14.00</td>\n",
              "      <td>5.00</td>\n",
              "      <td>7.0</td>\n",
              "      <td>19.00</td>\n",
              "      <td>13.00</td>\n",
              "      <td>5.00</td>\n",
              "      <td>65.00</td>\n",
              "    </tr>\n",
              "    <tr>\n",
              "      <th>4</th>\n",
              "      <td>2015.0</td>\n",
              "      <td>12.00</td>\n",
              "      <td>78.00</td>\n",
              "      <td>11.00</td>\n",
              "      <td>95.0</td>\n",
              "      <td>47.00</td>\n",
              "      <td>22.00</td>\n",
              "      <td>3.00</td>\n",
              "      <td>23.00</td>\n",
              "      <td>12.00</td>\n",
              "      <td>3.0</td>\n",
              "      <td>16.00</td>\n",
              "      <td>18.00</td>\n",
              "      <td>12.00</td>\n",
              "      <td>7.00</td>\n",
              "      <td>11.0</td>\n",
              "      <td>27.00</td>\n",
              "      <td>15.00</td>\n",
              "      <td>5.00</td>\n",
              "      <td>59.00</td>\n",
              "    </tr>\n",
              "    <tr>\n",
              "      <th>5</th>\n",
              "      <td>2016.0</td>\n",
              "      <td>12.00</td>\n",
              "      <td>115.00</td>\n",
              "      <td>14.00</td>\n",
              "      <td>82.0</td>\n",
              "      <td>53.00</td>\n",
              "      <td>24.00</td>\n",
              "      <td>4.00</td>\n",
              "      <td>26.00</td>\n",
              "      <td>10.00</td>\n",
              "      <td>2.0</td>\n",
              "      <td>16.00</td>\n",
              "      <td>32.00</td>\n",
              "      <td>6.00</td>\n",
              "      <td>9.00</td>\n",
              "      <td>4.0</td>\n",
              "      <td>37.00</td>\n",
              "      <td>12.00</td>\n",
              "      <td>7.00</td>\n",
              "      <td>61.00</td>\n",
              "    </tr>\n",
              "    <tr>\n",
              "      <th>6</th>\n",
              "      <td>2017.0</td>\n",
              "      <td>16.00</td>\n",
              "      <td>111.00</td>\n",
              "      <td>11.00</td>\n",
              "      <td>97.0</td>\n",
              "      <td>30.00</td>\n",
              "      <td>33.00</td>\n",
              "      <td>5.00</td>\n",
              "      <td>28.00</td>\n",
              "      <td>19.00</td>\n",
              "      <td>1.0</td>\n",
              "      <td>22.00</td>\n",
              "      <td>32.00</td>\n",
              "      <td>10.00</td>\n",
              "      <td>13.00</td>\n",
              "      <td>5.0</td>\n",
              "      <td>19.00</td>\n",
              "      <td>14.00</td>\n",
              "      <td>7.00</td>\n",
              "      <td>61.00</td>\n",
              "    </tr>\n",
              "    <tr>\n",
              "      <th>7</th>\n",
              "      <td>2018.0</td>\n",
              "      <td>11.00</td>\n",
              "      <td>112.00</td>\n",
              "      <td>14.00</td>\n",
              "      <td>104.0</td>\n",
              "      <td>33.00</td>\n",
              "      <td>16.00</td>\n",
              "      <td>5.00</td>\n",
              "      <td>20.00</td>\n",
              "      <td>17.00</td>\n",
              "      <td>5.0</td>\n",
              "      <td>12.00</td>\n",
              "      <td>23.00</td>\n",
              "      <td>12.00</td>\n",
              "      <td>8.00</td>\n",
              "      <td>8.0</td>\n",
              "      <td>24.00</td>\n",
              "      <td>11.00</td>\n",
              "      <td>3.00</td>\n",
              "      <td>41.00</td>\n",
              "    </tr>\n",
              "  </tbody>\n",
              "</table>\n",
              "</div>"
            ],
            "text/plain": [
              "   season  achilles    knee  concussion  ...  shoulder  groin  finger  illness\n",
              "0  2011.0      6.00  102.00        5.00  ...     14.00  13.00    5.00    50.00\n",
              "1  2012.0     14.91  119.27       16.15  ...     33.55  37.27    6.21    62.12\n",
              "2  2013.0      7.00  123.00       10.00  ...     27.00  19.00   10.00    67.00\n",
              "3  2014.0      9.00  143.00        2.00  ...     19.00  13.00    5.00    65.00\n",
              "4  2015.0     12.00   78.00       11.00  ...     27.00  15.00    5.00    59.00\n",
              "5  2016.0     12.00  115.00       14.00  ...     37.00  12.00    7.00    61.00\n",
              "6  2017.0     16.00  111.00       11.00  ...     19.00  14.00    7.00    61.00\n",
              "7  2018.0     11.00  112.00       14.00  ...     24.00  11.00    3.00    41.00\n",
              "\n",
              "[8 rows x 20 columns]"
            ]
          },
          "metadata": {
            "tags": []
          },
          "execution_count": 109
        }
      ]
    },
    {
      "cell_type": "code",
      "metadata": {
        "id": "kfXJ3VoLdXEI",
        "colab_type": "code",
        "colab": {
          "base_uri": "https://localhost:8080/",
          "height": 659
        },
        "outputId": "bab8b2c9-edb0-492f-f235-8f8750ecbb4a"
      },
      "source": [
        "full_seasons.corr()"
      ],
      "execution_count": 110,
      "outputs": [
        {
          "output_type": "execute_result",
          "data": {
            "text/html": [
              "<div>\n",
              "<style scoped>\n",
              "    .dataframe tbody tr th:only-of-type {\n",
              "        vertical-align: middle;\n",
              "    }\n",
              "\n",
              "    .dataframe tbody tr th {\n",
              "        vertical-align: top;\n",
              "    }\n",
              "\n",
              "    .dataframe thead th {\n",
              "        text-align: right;\n",
              "    }\n",
              "</style>\n",
              "<table border=\"1\" class=\"dataframe\">\n",
              "  <thead>\n",
              "    <tr style=\"text-align: right;\">\n",
              "      <th></th>\n",
              "      <th>season</th>\n",
              "      <th>achilles</th>\n",
              "      <th>knee</th>\n",
              "      <th>concussion</th>\n",
              "      <th>ankle</th>\n",
              "      <th>back</th>\n",
              "      <th>hamstring</th>\n",
              "      <th>quadriceps</th>\n",
              "      <th>hip</th>\n",
              "      <th>wrist</th>\n",
              "      <th>neck</th>\n",
              "      <th>calf</th>\n",
              "      <th>foot</th>\n",
              "      <th>hand</th>\n",
              "      <th>thumb</th>\n",
              "      <th>elbow</th>\n",
              "      <th>shoulder</th>\n",
              "      <th>groin</th>\n",
              "      <th>finger</th>\n",
              "      <th>illness</th>\n",
              "    </tr>\n",
              "  </thead>\n",
              "  <tbody>\n",
              "    <tr>\n",
              "      <th>season</th>\n",
              "      <td>1.000000</td>\n",
              "      <td>0.820128</td>\n",
              "      <td>-0.041946</td>\n",
              "      <td>0.699642</td>\n",
              "      <td>0.342958</td>\n",
              "      <td>-0.332759</td>\n",
              "      <td>0.248286</td>\n",
              "      <td>-0.521383</td>\n",
              "      <td>0.679871</td>\n",
              "      <td>0.461120</td>\n",
              "      <td>-0.119291</td>\n",
              "      <td>0.105964</td>\n",
              "      <td>-0.620323</td>\n",
              "      <td>0.486526</td>\n",
              "      <td>0.450878</td>\n",
              "      <td>-0.257293</td>\n",
              "      <td>0.386279</td>\n",
              "      <td>-0.427760</td>\n",
              "      <td>-0.278315</td>\n",
              "      <td>-0.266900</td>\n",
              "    </tr>\n",
              "    <tr>\n",
              "      <th>achilles</th>\n",
              "      <td>0.820128</td>\n",
              "      <td>1.000000</td>\n",
              "      <td>-0.227393</td>\n",
              "      <td>0.535044</td>\n",
              "      <td>0.110775</td>\n",
              "      <td>-0.317536</td>\n",
              "      <td>0.544149</td>\n",
              "      <td>-0.565991</td>\n",
              "      <td>0.795945</td>\n",
              "      <td>0.519005</td>\n",
              "      <td>-0.526355</td>\n",
              "      <td>0.443948</td>\n",
              "      <td>-0.512905</td>\n",
              "      <td>0.314314</td>\n",
              "      <td>0.648825</td>\n",
              "      <td>-0.395507</td>\n",
              "      <td>0.250767</td>\n",
              "      <td>-0.273028</td>\n",
              "      <td>-0.087466</td>\n",
              "      <td>0.042024</td>\n",
              "    </tr>\n",
              "    <tr>\n",
              "      <th>knee</th>\n",
              "      <td>-0.041946</td>\n",
              "      <td>-0.227393</td>\n",
              "      <td>1.000000</td>\n",
              "      <td>-0.413402</td>\n",
              "      <td>0.479687</td>\n",
              "      <td>0.256254</td>\n",
              "      <td>0.439623</td>\n",
              "      <td>0.156579</td>\n",
              "      <td>-0.227020</td>\n",
              "      <td>-0.030669</td>\n",
              "      <td>0.341856</td>\n",
              "      <td>0.429286</td>\n",
              "      <td>0.681888</td>\n",
              "      <td>0.273493</td>\n",
              "      <td>-0.134930</td>\n",
              "      <td>-0.133574</td>\n",
              "      <td>-0.089953</td>\n",
              "      <td>-0.019372</td>\n",
              "      <td>0.222301</td>\n",
              "      <td>0.339152</td>\n",
              "    </tr>\n",
              "    <tr>\n",
              "      <th>concussion</th>\n",
              "      <td>0.699642</td>\n",
              "      <td>0.535044</td>\n",
              "      <td>-0.413402</td>\n",
              "      <td>1.000000</td>\n",
              "      <td>-0.046828</td>\n",
              "      <td>-0.280081</td>\n",
              "      <td>-0.205133</td>\n",
              "      <td>-0.231860</td>\n",
              "      <td>0.779151</td>\n",
              "      <td>-0.091689</td>\n",
              "      <td>0.005107</td>\n",
              "      <td>-0.326063</td>\n",
              "      <td>-0.625576</td>\n",
              "      <td>0.043788</td>\n",
              "      <td>0.560887</td>\n",
              "      <td>0.016463</td>\n",
              "      <td>0.689291</td>\n",
              "      <td>-0.091161</td>\n",
              "      <td>0.082744</td>\n",
              "      <td>-0.278724</td>\n",
              "    </tr>\n",
              "    <tr>\n",
              "      <th>ankle</th>\n",
              "      <td>0.342958</td>\n",
              "      <td>0.110775</td>\n",
              "      <td>0.479687</td>\n",
              "      <td>-0.046828</td>\n",
              "      <td>1.000000</td>\n",
              "      <td>0.029112</td>\n",
              "      <td>0.431762</td>\n",
              "      <td>-0.305991</td>\n",
              "      <td>0.153232</td>\n",
              "      <td>-0.026587</td>\n",
              "      <td>0.665501</td>\n",
              "      <td>0.417820</td>\n",
              "      <td>-0.126385</td>\n",
              "      <td>0.937489</td>\n",
              "      <td>-0.061290</td>\n",
              "      <td>0.523918</td>\n",
              "      <td>0.024516</td>\n",
              "      <td>0.330465</td>\n",
              "      <td>0.117142</td>\n",
              "      <td>0.287644</td>\n",
              "    </tr>\n",
              "    <tr>\n",
              "      <th>back</th>\n",
              "      <td>-0.332759</td>\n",
              "      <td>-0.317536</td>\n",
              "      <td>0.256254</td>\n",
              "      <td>-0.280081</td>\n",
              "      <td>0.029112</td>\n",
              "      <td>1.000000</td>\n",
              "      <td>0.156042</td>\n",
              "      <td>-0.461167</td>\n",
              "      <td>-0.151679</td>\n",
              "      <td>-0.590816</td>\n",
              "      <td>0.161741</td>\n",
              "      <td>0.130167</td>\n",
              "      <td>0.171114</td>\n",
              "      <td>0.103434</td>\n",
              "      <td>-0.601720</td>\n",
              "      <td>0.107289</td>\n",
              "      <td>0.491907</td>\n",
              "      <td>0.124335</td>\n",
              "      <td>0.203140</td>\n",
              "      <td>0.565875</td>\n",
              "    </tr>\n",
              "    <tr>\n",
              "      <th>hamstring</th>\n",
              "      <td>0.248286</td>\n",
              "      <td>0.544149</td>\n",
              "      <td>0.439623</td>\n",
              "      <td>-0.205133</td>\n",
              "      <td>0.431762</td>\n",
              "      <td>0.156042</td>\n",
              "      <td>1.000000</td>\n",
              "      <td>-0.411057</td>\n",
              "      <td>0.418673</td>\n",
              "      <td>0.197088</td>\n",
              "      <td>-0.240051</td>\n",
              "      <td>0.984512</td>\n",
              "      <td>0.218017</td>\n",
              "      <td>0.470090</td>\n",
              "      <td>0.344696</td>\n",
              "      <td>-0.198160</td>\n",
              "      <td>0.001401</td>\n",
              "      <td>0.173005</td>\n",
              "      <td>0.361538</td>\n",
              "      <td>0.728513</td>\n",
              "    </tr>\n",
              "    <tr>\n",
              "      <th>quadriceps</th>\n",
              "      <td>-0.521383</td>\n",
              "      <td>-0.565991</td>\n",
              "      <td>0.156579</td>\n",
              "      <td>-0.231860</td>\n",
              "      <td>-0.305991</td>\n",
              "      <td>-0.461167</td>\n",
              "      <td>-0.411057</td>\n",
              "      <td>1.000000</td>\n",
              "      <td>-0.430963</td>\n",
              "      <td>-0.075801</td>\n",
              "      <td>0.145347</td>\n",
              "      <td>-0.308532</td>\n",
              "      <td>0.624383</td>\n",
              "      <td>-0.598340</td>\n",
              "      <td>0.162994</td>\n",
              "      <td>0.030066</td>\n",
              "      <td>-0.514965</td>\n",
              "      <td>0.183136</td>\n",
              "      <td>0.221637</td>\n",
              "      <td>-0.261381</td>\n",
              "    </tr>\n",
              "    <tr>\n",
              "      <th>hip</th>\n",
              "      <td>0.679871</td>\n",
              "      <td>0.795945</td>\n",
              "      <td>-0.227020</td>\n",
              "      <td>0.779151</td>\n",
              "      <td>0.153232</td>\n",
              "      <td>-0.151679</td>\n",
              "      <td>0.418673</td>\n",
              "      <td>-0.430963</td>\n",
              "      <td>1.000000</td>\n",
              "      <td>-0.061241</td>\n",
              "      <td>-0.166154</td>\n",
              "      <td>0.320264</td>\n",
              "      <td>-0.433668</td>\n",
              "      <td>0.262166</td>\n",
              "      <td>0.767515</td>\n",
              "      <td>-0.018601</td>\n",
              "      <td>0.626701</td>\n",
              "      <td>0.171803</td>\n",
              "      <td>0.411361</td>\n",
              "      <td>0.278604</td>\n",
              "    </tr>\n",
              "    <tr>\n",
              "      <th>wrist</th>\n",
              "      <td>0.461120</td>\n",
              "      <td>0.519005</td>\n",
              "      <td>-0.030669</td>\n",
              "      <td>-0.091689</td>\n",
              "      <td>-0.026587</td>\n",
              "      <td>-0.590816</td>\n",
              "      <td>0.197088</td>\n",
              "      <td>-0.075801</td>\n",
              "      <td>-0.061241</td>\n",
              "      <td>1.000000</td>\n",
              "      <td>-0.559039</td>\n",
              "      <td>0.175007</td>\n",
              "      <td>-0.188779</td>\n",
              "      <td>0.076472</td>\n",
              "      <td>0.181674</td>\n",
              "      <td>-0.614888</td>\n",
              "      <td>-0.551825</td>\n",
              "      <td>-0.681859</td>\n",
              "      <td>-0.686292</td>\n",
              "      <td>-0.490774</td>\n",
              "    </tr>\n",
              "    <tr>\n",
              "      <th>neck</th>\n",
              "      <td>-0.119291</td>\n",
              "      <td>-0.526355</td>\n",
              "      <td>0.341856</td>\n",
              "      <td>0.005107</td>\n",
              "      <td>0.665501</td>\n",
              "      <td>0.161741</td>\n",
              "      <td>-0.240051</td>\n",
              "      <td>0.145347</td>\n",
              "      <td>-0.166154</td>\n",
              "      <td>-0.559039</td>\n",
              "      <td>1.000000</td>\n",
              "      <td>-0.218986</td>\n",
              "      <td>0.031652</td>\n",
              "      <td>0.481486</td>\n",
              "      <td>-0.317733</td>\n",
              "      <td>0.807513</td>\n",
              "      <td>0.155029</td>\n",
              "      <td>0.506849</td>\n",
              "      <td>0.252029</td>\n",
              "      <td>0.078001</td>\n",
              "    </tr>\n",
              "    <tr>\n",
              "      <th>calf</th>\n",
              "      <td>0.105964</td>\n",
              "      <td>0.443948</td>\n",
              "      <td>0.429286</td>\n",
              "      <td>-0.326063</td>\n",
              "      <td>0.417820</td>\n",
              "      <td>0.130167</td>\n",
              "      <td>0.984512</td>\n",
              "      <td>-0.308532</td>\n",
              "      <td>0.320264</td>\n",
              "      <td>0.175007</td>\n",
              "      <td>-0.218986</td>\n",
              "      <td>1.000000</td>\n",
              "      <td>0.299525</td>\n",
              "      <td>0.428838</td>\n",
              "      <td>0.314447</td>\n",
              "      <td>-0.130155</td>\n",
              "      <td>-0.126972</td>\n",
              "      <td>0.269155</td>\n",
              "      <td>0.399772</td>\n",
              "      <td>0.759922</td>\n",
              "    </tr>\n",
              "    <tr>\n",
              "      <th>foot</th>\n",
              "      <td>-0.620323</td>\n",
              "      <td>-0.512905</td>\n",
              "      <td>0.681888</td>\n",
              "      <td>-0.625576</td>\n",
              "      <td>-0.126385</td>\n",
              "      <td>0.171114</td>\n",
              "      <td>0.218017</td>\n",
              "      <td>0.624383</td>\n",
              "      <td>-0.433668</td>\n",
              "      <td>-0.188779</td>\n",
              "      <td>0.031652</td>\n",
              "      <td>0.299525</td>\n",
              "      <td>1.000000</td>\n",
              "      <td>-0.386736</td>\n",
              "      <td>-0.038160</td>\n",
              "      <td>-0.193098</td>\n",
              "      <td>-0.355365</td>\n",
              "      <td>0.194033</td>\n",
              "      <td>0.447547</td>\n",
              "      <td>0.384448</td>\n",
              "    </tr>\n",
              "    <tr>\n",
              "      <th>hand</th>\n",
              "      <td>0.486526</td>\n",
              "      <td>0.314314</td>\n",
              "      <td>0.273493</td>\n",
              "      <td>0.043788</td>\n",
              "      <td>0.937489</td>\n",
              "      <td>0.103434</td>\n",
              "      <td>0.470090</td>\n",
              "      <td>-0.598340</td>\n",
              "      <td>0.262166</td>\n",
              "      <td>0.076472</td>\n",
              "      <td>0.481486</td>\n",
              "      <td>0.428838</td>\n",
              "      <td>-0.386736</td>\n",
              "      <td>1.000000</td>\n",
              "      <td>-0.102440</td>\n",
              "      <td>0.437633</td>\n",
              "      <td>0.131607</td>\n",
              "      <td>0.192010</td>\n",
              "      <td>-0.050060</td>\n",
              "      <td>0.260635</td>\n",
              "    </tr>\n",
              "    <tr>\n",
              "      <th>thumb</th>\n",
              "      <td>0.450878</td>\n",
              "      <td>0.648825</td>\n",
              "      <td>-0.134930</td>\n",
              "      <td>0.560887</td>\n",
              "      <td>-0.061290</td>\n",
              "      <td>-0.601720</td>\n",
              "      <td>0.344696</td>\n",
              "      <td>0.162994</td>\n",
              "      <td>0.767515</td>\n",
              "      <td>0.181674</td>\n",
              "      <td>-0.317733</td>\n",
              "      <td>0.314447</td>\n",
              "      <td>-0.038160</td>\n",
              "      <td>-0.102440</td>\n",
              "      <td>1.000000</td>\n",
              "      <td>-0.202416</td>\n",
              "      <td>0.118321</td>\n",
              "      <td>0.160738</td>\n",
              "      <td>0.447640</td>\n",
              "      <td>0.099065</td>\n",
              "    </tr>\n",
              "    <tr>\n",
              "      <th>elbow</th>\n",
              "      <td>-0.257293</td>\n",
              "      <td>-0.395507</td>\n",
              "      <td>-0.133574</td>\n",
              "      <td>0.016463</td>\n",
              "      <td>0.523918</td>\n",
              "      <td>0.107289</td>\n",
              "      <td>-0.198160</td>\n",
              "      <td>0.030066</td>\n",
              "      <td>-0.018601</td>\n",
              "      <td>-0.614888</td>\n",
              "      <td>0.807513</td>\n",
              "      <td>-0.130155</td>\n",
              "      <td>-0.193098</td>\n",
              "      <td>0.437633</td>\n",
              "      <td>-0.202416</td>\n",
              "      <td>1.000000</td>\n",
              "      <td>0.093561</td>\n",
              "      <td>0.793030</td>\n",
              "      <td>0.358733</td>\n",
              "      <td>0.230794</td>\n",
              "    </tr>\n",
              "    <tr>\n",
              "      <th>shoulder</th>\n",
              "      <td>0.386279</td>\n",
              "      <td>0.250767</td>\n",
              "      <td>-0.089953</td>\n",
              "      <td>0.689291</td>\n",
              "      <td>0.024516</td>\n",
              "      <td>0.491907</td>\n",
              "      <td>0.001401</td>\n",
              "      <td>-0.514965</td>\n",
              "      <td>0.626701</td>\n",
              "      <td>-0.551825</td>\n",
              "      <td>0.155029</td>\n",
              "      <td>-0.126972</td>\n",
              "      <td>-0.355365</td>\n",
              "      <td>0.131607</td>\n",
              "      <td>0.118321</td>\n",
              "      <td>0.093561</td>\n",
              "      <td>1.000000</td>\n",
              "      <td>0.058450</td>\n",
              "      <td>0.318322</td>\n",
              "      <td>0.240189</td>\n",
              "    </tr>\n",
              "    <tr>\n",
              "      <th>groin</th>\n",
              "      <td>-0.427760</td>\n",
              "      <td>-0.273028</td>\n",
              "      <td>-0.019372</td>\n",
              "      <td>-0.091161</td>\n",
              "      <td>0.330465</td>\n",
              "      <td>0.124335</td>\n",
              "      <td>0.173005</td>\n",
              "      <td>0.183136</td>\n",
              "      <td>0.171803</td>\n",
              "      <td>-0.681859</td>\n",
              "      <td>0.506849</td>\n",
              "      <td>0.269155</td>\n",
              "      <td>0.194033</td>\n",
              "      <td>0.192010</td>\n",
              "      <td>0.160738</td>\n",
              "      <td>0.793030</td>\n",
              "      <td>0.058450</td>\n",
              "      <td>1.000000</td>\n",
              "      <td>0.799767</td>\n",
              "      <td>0.640765</td>\n",
              "    </tr>\n",
              "    <tr>\n",
              "      <th>finger</th>\n",
              "      <td>-0.278315</td>\n",
              "      <td>-0.087466</td>\n",
              "      <td>0.222301</td>\n",
              "      <td>0.082744</td>\n",
              "      <td>0.117142</td>\n",
              "      <td>0.203140</td>\n",
              "      <td>0.361538</td>\n",
              "      <td>0.221637</td>\n",
              "      <td>0.411361</td>\n",
              "      <td>-0.686292</td>\n",
              "      <td>0.252029</td>\n",
              "      <td>0.399772</td>\n",
              "      <td>0.447547</td>\n",
              "      <td>-0.050060</td>\n",
              "      <td>0.447640</td>\n",
              "      <td>0.358733</td>\n",
              "      <td>0.318322</td>\n",
              "      <td>0.799767</td>\n",
              "      <td>1.000000</td>\n",
              "      <td>0.758259</td>\n",
              "    </tr>\n",
              "    <tr>\n",
              "      <th>illness</th>\n",
              "      <td>-0.266900</td>\n",
              "      <td>0.042024</td>\n",
              "      <td>0.339152</td>\n",
              "      <td>-0.278724</td>\n",
              "      <td>0.287644</td>\n",
              "      <td>0.565875</td>\n",
              "      <td>0.728513</td>\n",
              "      <td>-0.261381</td>\n",
              "      <td>0.278604</td>\n",
              "      <td>-0.490774</td>\n",
              "      <td>0.078001</td>\n",
              "      <td>0.759922</td>\n",
              "      <td>0.384448</td>\n",
              "      <td>0.260635</td>\n",
              "      <td>0.099065</td>\n",
              "      <td>0.230794</td>\n",
              "      <td>0.240189</td>\n",
              "      <td>0.640765</td>\n",
              "      <td>0.758259</td>\n",
              "      <td>1.000000</td>\n",
              "    </tr>\n",
              "  </tbody>\n",
              "</table>\n",
              "</div>"
            ],
            "text/plain": [
              "              season  achilles      knee  ...     groin    finger   illness\n",
              "season      1.000000  0.820128 -0.041946  ... -0.427760 -0.278315 -0.266900\n",
              "achilles    0.820128  1.000000 -0.227393  ... -0.273028 -0.087466  0.042024\n",
              "knee       -0.041946 -0.227393  1.000000  ... -0.019372  0.222301  0.339152\n",
              "concussion  0.699642  0.535044 -0.413402  ... -0.091161  0.082744 -0.278724\n",
              "ankle       0.342958  0.110775  0.479687  ...  0.330465  0.117142  0.287644\n",
              "back       -0.332759 -0.317536  0.256254  ...  0.124335  0.203140  0.565875\n",
              "hamstring   0.248286  0.544149  0.439623  ...  0.173005  0.361538  0.728513\n",
              "quadriceps -0.521383 -0.565991  0.156579  ...  0.183136  0.221637 -0.261381\n",
              "hip         0.679871  0.795945 -0.227020  ...  0.171803  0.411361  0.278604\n",
              "wrist       0.461120  0.519005 -0.030669  ... -0.681859 -0.686292 -0.490774\n",
              "neck       -0.119291 -0.526355  0.341856  ...  0.506849  0.252029  0.078001\n",
              "calf        0.105964  0.443948  0.429286  ...  0.269155  0.399772  0.759922\n",
              "foot       -0.620323 -0.512905  0.681888  ...  0.194033  0.447547  0.384448\n",
              "hand        0.486526  0.314314  0.273493  ...  0.192010 -0.050060  0.260635\n",
              "thumb       0.450878  0.648825 -0.134930  ...  0.160738  0.447640  0.099065\n",
              "elbow      -0.257293 -0.395507 -0.133574  ...  0.793030  0.358733  0.230794\n",
              "shoulder    0.386279  0.250767 -0.089953  ...  0.058450  0.318322  0.240189\n",
              "groin      -0.427760 -0.273028 -0.019372  ...  1.000000  0.799767  0.640765\n",
              "finger     -0.278315 -0.087466  0.222301  ...  0.799767  1.000000  0.758259\n",
              "illness    -0.266900  0.042024  0.339152  ...  0.640765  0.758259  1.000000\n",
              "\n",
              "[20 rows x 20 columns]"
            ]
          },
          "metadata": {
            "tags": []
          },
          "execution_count": 110
        }
      ]
    },
    {
      "cell_type": "markdown",
      "metadata": {
        "id": "yAsMhcVhjAXo",
        "colab_type": "text"
      },
      "source": [
        "The main thing I want to look at in this table is how various injury rates correlate with the season. Achilles injuries seem to have a very strong positive correlation. Similarly, concussions have increased by season -- this would make sense given the increased focus in recent years on diagnosing and appropriately treating head injuries."
      ]
    },
    {
      "cell_type": "markdown",
      "metadata": {
        "id": "AfTNsBKc_cvM",
        "colab_type": "text"
      },
      "source": [
        "This code takes a data frame and returns a matrix with pairwise p-values. I use this to investigate the relationship between season progression and injury rates for specific injuries."
      ]
    },
    {
      "cell_type": "code",
      "metadata": {
        "id": "AR2BY2E1hW_b",
        "colab_type": "code",
        "colab": {}
      },
      "source": [
        "df_p_values = pd.DataFrame()  # Matrix of p-values\n",
        "for x in full_seasons.columns:\n",
        "    for y in full_seasons.columns:\n",
        "        corr = pearsonr(full_seasons[x], full_seasons[y])\n",
        "        df_p_values.loc[x,y] = corr[1]"
      ],
      "execution_count": 0,
      "outputs": []
    },
    {
      "cell_type": "code",
      "metadata": {
        "id": "QnXLudgNhY1l",
        "colab_type": "code",
        "colab": {
          "base_uri": "https://localhost:8080/",
          "height": 370
        },
        "outputId": "da3bbd02-0e41-4fa2-af71-8988154f82eb"
      },
      "source": [
        "df_p[\"season\"]"
      ],
      "execution_count": 134,
      "outputs": [
        {
          "output_type": "execute_result",
          "data": {
            "text/plain": [
              "season        2.494476e-40\n",
              "achilles      2.386041e-02\n",
              "knee          9.288536e-01\n",
              "concussion    8.013811e-02\n",
              "ankle         4.514036e-01\n",
              "back          4.658395e-01\n",
              "hamstring     5.913668e-01\n",
              "quadriceps    2.301010e-01\n",
              "hip           9.287777e-02\n",
              "wrist         2.976786e-01\n",
              "neck          7.989226e-01\n",
              "calf          8.211180e-01\n",
              "foot          1.372202e-01\n",
              "hand          2.682266e-01\n",
              "thumb         3.099347e-01\n",
              "elbow         5.775196e-01\n",
              "shoulder      3.920414e-01\n",
              "groin         3.383845e-01\n",
              "finger        5.456028e-01\n",
              "illness       5.628612e-01\n",
              "Name: season, dtype: float64"
            ]
          },
          "metadata": {
            "tags": []
          },
          "execution_count": 134
        }
      ]
    },
    {
      "cell_type": "code",
      "metadata": {
        "id": "QDdrJigKjqm4",
        "colab_type": "code",
        "colab": {
          "base_uri": "https://localhost:8080/",
          "height": 34
        },
        "outputId": "18d4c311-f377-451e-821f-084d3f034368"
      },
      "source": [
        "pearsonr(full_seasons[\"season\"], full_seasons[\"achilles\"])"
      ],
      "execution_count": 113,
      "outputs": [
        {
          "output_type": "execute_result",
          "data": {
            "text/plain": [
              "(0.8201279470319384, 0.023860405796626415)"
            ]
          },
          "metadata": {
            "tags": []
          },
          "execution_count": 113
        }
      ]
    },
    {
      "cell_type": "markdown",
      "metadata": {
        "id": "lAJ3A1J_l2Mi",
        "colab_type": "text"
      },
      "source": [
        "With p=.02, we can naively reject the null hypothesis that Achilles injuries are constant over time and conclude that they're related to the progression of seasons.\n",
        "\n",
        "However, there are a lot of researcher degrees of freedom in this analysis. Specifically, my choice of Achilles injuries to investigate (one of many possible comparisons) was nonrandom. In a world where true injury rates are constant, we'd still expect to see some random trends pop up and get picked up on by watchers of the game and ESPN.\n",
        "\n",
        "But teams don't get the luxury of waiting for more data to come in; they have to operate on limited information while trying to minimize injury. Given that, I'd consider the increase in Achilles injuries to be good evidence that teams and trainers should pay attention to Achilles wear and tear."
      ]
    },
    {
      "cell_type": "markdown",
      "metadata": {
        "id": "YCcdE4Jyw_Az",
        "colab_type": "text"
      },
      "source": [
        "##Injuries Within Seasons"
      ]
    },
    {
      "cell_type": "markdown",
      "metadata": {
        "id": "GEad415wkZnX",
        "colab_type": "text"
      },
      "source": [
        "Next I want to examine how the cumulative wear of an NBA season affects injury rate. I create a count of rows, each of which represents a number of injuries that happened in one season-bin. I then separate the lockout season, which would be expected to show a different pattern."
      ]
    },
    {
      "cell_type": "code",
      "metadata": {
        "id": "q5NmlA0Kk77I",
        "colab_type": "code",
        "colab": {}
      },
      "source": [
        "season_progressions = just_injuries.groupby(by = [\"season\", \"binned_days\"]).count()"
      ],
      "execution_count": 0,
      "outputs": []
    },
    {
      "cell_type": "code",
      "metadata": {
        "id": "-HKCAZvplXia",
        "colab_type": "code",
        "colab": {}
      },
      "source": [
        "season_progressions = season_progressions.reset_index()\n",
        "season_progressions = season_progressions[[\"season\", \"binned_days\", \"date\"]]\n",
        "season_progressions.columns = [\"season\", \"binned_days\", \"n_injuries\"]"
      ],
      "execution_count": 0,
      "outputs": []
    },
    {
      "cell_type": "code",
      "metadata": {
        "id": "D-F9-HmIOqJL",
        "colab_type": "code",
        "colab": {}
      },
      "source": [
        "lockout_progression = season_progressions[season_progressions[\"season\"] == 2012]"
      ],
      "execution_count": 0,
      "outputs": []
    },
    {
      "cell_type": "code",
      "metadata": {
        "id": "DpYoZOVMSM1p",
        "colab_type": "code",
        "colab": {}
      },
      "source": [
        "def bin_seasons(season):\n",
        "  if season in [2011, 2013, 2014, 2015, 2016, 2017, 2018]:\n",
        "    return True\n",
        "  else: \n",
        "    return False\n",
        "\n",
        "non_lockouts = season_progressions[season_progressions[\"season\"].apply(bin_seasons)]"
      ],
      "execution_count": 0,
      "outputs": []
    },
    {
      "cell_type": "code",
      "metadata": {
        "id": "31CnkbWdmxWo",
        "colab_type": "code",
        "outputId": "3979547f-750c-4c23-9ddc-a00ab60aced8",
        "colab": {
          "base_uri": "https://localhost:8080/",
          "height": 195
        }
      },
      "source": [
        "non_lockouts.head()"
      ],
      "execution_count": 118,
      "outputs": [
        {
          "output_type": "execute_result",
          "data": {
            "text/html": [
              "<div>\n",
              "<style scoped>\n",
              "    .dataframe tbody tr th:only-of-type {\n",
              "        vertical-align: middle;\n",
              "    }\n",
              "\n",
              "    .dataframe tbody tr th {\n",
              "        vertical-align: top;\n",
              "    }\n",
              "\n",
              "    .dataframe thead th {\n",
              "        text-align: right;\n",
              "    }\n",
              "</style>\n",
              "<table border=\"1\" class=\"dataframe\">\n",
              "  <thead>\n",
              "    <tr style=\"text-align: right;\">\n",
              "      <th></th>\n",
              "      <th>season</th>\n",
              "      <th>binned_days</th>\n",
              "      <th>n_injuries</th>\n",
              "    </tr>\n",
              "  </thead>\n",
              "  <tbody>\n",
              "    <tr>\n",
              "      <th>0</th>\n",
              "      <td>2011.0</td>\n",
              "      <td>0</td>\n",
              "      <td>19</td>\n",
              "    </tr>\n",
              "    <tr>\n",
              "      <th>1</th>\n",
              "      <td>2011.0</td>\n",
              "      <td>1</td>\n",
              "      <td>20</td>\n",
              "    </tr>\n",
              "    <tr>\n",
              "      <th>2</th>\n",
              "      <td>2011.0</td>\n",
              "      <td>2</td>\n",
              "      <td>24</td>\n",
              "    </tr>\n",
              "    <tr>\n",
              "      <th>3</th>\n",
              "      <td>2011.0</td>\n",
              "      <td>3</td>\n",
              "      <td>29</td>\n",
              "    </tr>\n",
              "    <tr>\n",
              "      <th>4</th>\n",
              "      <td>2011.0</td>\n",
              "      <td>4</td>\n",
              "      <td>35</td>\n",
              "    </tr>\n",
              "  </tbody>\n",
              "</table>\n",
              "</div>"
            ],
            "text/plain": [
              "   season  binned_days  n_injuries\n",
              "0  2011.0            0          19\n",
              "1  2011.0            1          20\n",
              "2  2011.0            2          24\n",
              "3  2011.0            3          29\n",
              "4  2011.0            4          35"
            ]
          },
          "metadata": {
            "tags": []
          },
          "execution_count": 118
        }
      ]
    },
    {
      "cell_type": "code",
      "metadata": {
        "id": "NrLWgQIXmCzt",
        "colab_type": "code",
        "outputId": "53f6b408-7786-42e5-8601-de1405ecd510",
        "colab": {
          "base_uri": "https://localhost:8080/",
          "height": 358
        }
      },
      "source": [
        "fig, ax = plt.subplots(figsize = (20, 5))\n",
        "sns.lineplot(x = \"binned_days\", y = \"n_injuries\", data = non_lockouts)\n",
        "sns.lineplot(x = \"binned_days\", y = \"n_injuries\", data = lockout_progression)\n",
        "\n",
        "ax.set_xlabel(\"Period of Season\", fontsize = 14)\n",
        "ax.set_ylabel(\"Number of Injuries\", fontsize = 14)\n",
        "ax.set_title(\"Injury Rates by Season Progress\", fontsize = 16, fontweight = \"bold\")\n",
        "plt.legend(labels=['Non-Lockout Seasons', 'Lockout'], fontsize = 14)\n",
        "\n",
        "plt.show()"
      ],
      "execution_count": 119,
      "outputs": [
        {
          "output_type": "display_data",
          "data": {
            "image/png": "[encoded data removed]",
            "text/plain": [
              "<Figure size 1440x360 with 1 Axes>"
            ]
          },
          "metadata": {
            "tags": []
          }
        }
      ]
    },
    {
      "cell_type": "markdown",
      "metadata": {
        "id": "l0TKRKE5TmCB",
        "colab_type": "text"
      },
      "source": [
        "We can see from the confidence intervals surrounding the bins that there's a meaningful increase in injuries between the beginning of the season and immediately pre-All-Star-Break. We then observe a decrease due to the break, which seems to temporarily reset injury rates. \n",
        "\n",
        "However, it only takes a few weeks for injury rates to go back up to their pre-ASB levels, which they then exceed. (The last bin is distorted by teams playing unusual rotations once they've clinched playoff seeding.)"
      ]
    },
    {
      "cell_type": "markdown",
      "metadata": {
        "id": "tC5Sh7Dk1sRK",
        "colab_type": "text"
      },
      "source": [
        "##In-Season Rest"
      ]
    },
    {
      "cell_type": "markdown",
      "metadata": {
        "id": "0Pri842bBAnT",
        "colab_type": "text"
      },
      "source": [
        "First I look at total days of rest by season, adjusting the 2012 season for the lockout."
      ]
    },
    {
      "cell_type": "code",
      "metadata": {
        "id": "e7XEvjfb1oj0",
        "colab_type": "code",
        "outputId": "8a5c07be-82a0-4819-c72b-3ae2e591236b",
        "colab": {
          "base_uri": "https://localhost:8080/",
          "height": 284
        }
      },
      "source": [
        "rest_totals = pd.DataFrame(rest[\"season\"].value_counts())\n",
        "rest_totals = rest_totals.reset_index()\n",
        "rest_totals.columns = [\"season\", \"days of rest\"]\n",
        "\n",
        "rest_totals = rest_totals.sort_values(by = \"season\")\n",
        "rest_totals = rest_totals.reset_index(drop = True)\n",
        "rest_totals.iloc[1, 1] = round((rest_totals.iloc[1,1] * 82/66), 2)\n",
        "rest_totals"
      ],
      "execution_count": 120,
      "outputs": [
        {
          "output_type": "execute_result",
          "data": {
            "text/html": [
              "<div>\n",
              "<style scoped>\n",
              "    .dataframe tbody tr th:only-of-type {\n",
              "        vertical-align: middle;\n",
              "    }\n",
              "\n",
              "    .dataframe tbody tr th {\n",
              "        vertical-align: top;\n",
              "    }\n",
              "\n",
              "    .dataframe thead th {\n",
              "        text-align: right;\n",
              "    }\n",
              "</style>\n",
              "<table border=\"1\" class=\"dataframe\">\n",
              "  <thead>\n",
              "    <tr style=\"text-align: right;\">\n",
              "      <th></th>\n",
              "      <th>season</th>\n",
              "      <th>days of rest</th>\n",
              "    </tr>\n",
              "  </thead>\n",
              "  <tbody>\n",
              "    <tr>\n",
              "      <th>0</th>\n",
              "      <td>2011.0</td>\n",
              "      <td>33.00</td>\n",
              "    </tr>\n",
              "    <tr>\n",
              "      <th>1</th>\n",
              "      <td>2012.0</td>\n",
              "      <td>89.45</td>\n",
              "    </tr>\n",
              "    <tr>\n",
              "      <th>2</th>\n",
              "      <td>2013.0</td>\n",
              "      <td>31.00</td>\n",
              "    </tr>\n",
              "    <tr>\n",
              "      <th>3</th>\n",
              "      <td>2014.0</td>\n",
              "      <td>61.00</td>\n",
              "    </tr>\n",
              "    <tr>\n",
              "      <th>4</th>\n",
              "      <td>2015.0</td>\n",
              "      <td>65.00</td>\n",
              "    </tr>\n",
              "    <tr>\n",
              "      <th>5</th>\n",
              "      <td>2016.0</td>\n",
              "      <td>108.00</td>\n",
              "    </tr>\n",
              "    <tr>\n",
              "      <th>6</th>\n",
              "      <td>2017.0</td>\n",
              "      <td>130.00</td>\n",
              "    </tr>\n",
              "    <tr>\n",
              "      <th>7</th>\n",
              "      <td>2018.0</td>\n",
              "      <td>42.00</td>\n",
              "    </tr>\n",
              "  </tbody>\n",
              "</table>\n",
              "</div>"
            ],
            "text/plain": [
              "   season  days of rest\n",
              "0  2011.0         33.00\n",
              "1  2012.0         89.45\n",
              "2  2013.0         31.00\n",
              "3  2014.0         61.00\n",
              "4  2015.0         65.00\n",
              "5  2016.0        108.00\n",
              "6  2017.0        130.00\n",
              "7  2018.0         42.00"
            ]
          },
          "metadata": {
            "tags": []
          },
          "execution_count": 120
        }
      ]
    },
    {
      "cell_type": "code",
      "metadata": {
        "id": "h5MkcPDmpLfU",
        "colab_type": "code",
        "colab": {
          "base_uri": "https://localhost:8080/",
          "height": 34
        },
        "outputId": "c61c1e43-a76e-4616-b3af-ef876d2e8785"
      },
      "source": [
        "pearsonr(rest_totals.drop(index = 1)[\"season\"], rest_totals.drop(index = 1)[\"days of rest\"])"
      ],
      "execution_count": 121,
      "outputs": [
        {
          "output_type": "execute_result",
          "data": {
            "text/plain": [
              "(0.5538042356185349, 0.1971072030018494)"
            ]
          },
          "metadata": {
            "tags": []
          },
          "execution_count": 121
        }
      ]
    },
    {
      "cell_type": "markdown",
      "metadata": {
        "id": "dlYWFBmXpcyr",
        "colab_type": "text"
      },
      "source": [
        "Though this relationship isn't statistically significant, the two highest totals of rest days are in the last few years. Organizations have talked at length about resting players and managing fatigue, so I'd expect these numbers to trend upward in the future."
      ]
    },
    {
      "cell_type": "code",
      "metadata": {
        "id": "QSgsne5pQr51",
        "colab_type": "code",
        "colab": {}
      },
      "source": [
        "merged_seasons = seasonal_totals.merge(rest_totals, on = \"season\")"
      ],
      "execution_count": 0,
      "outputs": []
    },
    {
      "cell_type": "markdown",
      "metadata": {
        "id": "6R_mDlDXBLY9",
        "colab_type": "text"
      },
      "source": [
        "A scatter plot doesn't show much relationship between days of rest and injuries, at least on a seasonal level."
      ]
    },
    {
      "cell_type": "code",
      "metadata": {
        "id": "qXkay-nxRAe8",
        "colab_type": "code",
        "outputId": "4275d5d9-3486-443f-eb3e-67faac0aa3ef",
        "colab": {
          "base_uri": "https://localhost:8080/",
          "height": 285
        }
      },
      "source": [
        "sns.scatterplot(x = merged_seasons[\"days of rest\"], y = merged_seasons[\"injuries\"])\n",
        "plt.show()"
      ],
      "execution_count": 123,
      "outputs": [
        {
          "output_type": "display_data",
          "data": {
            "image/png": "[encoded data removed]",
            "text/plain": [
              "<Figure size 432x288 with 1 Axes>"
            ]
          },
          "metadata": {
            "tags": []
          }
        }
      ]
    },
    {
      "cell_type": "code",
      "metadata": {
        "id": "05-Sn-PvdF91",
        "colab_type": "code",
        "outputId": "751216ff-4ffe-4e50-fa2a-87f94637aa36",
        "colab": {
          "base_uri": "https://localhost:8080/",
          "height": 301
        }
      },
      "source": [
        "fig, ax = plt.subplots()\n",
        "sns.distplot(rest[\"binned_days\"], kde = False)\n",
        "\n",
        "ax.set_xlabel(\"Portion of Season\")\n",
        "ax.set_ylabel(\"Frequency\")\n",
        "ax.set_title(\"Days of Rest Through Season\")\n",
        "plt.show()"
      ],
      "execution_count": 135,
      "outputs": [
        {
          "output_type": "display_data",
          "data": {
            "image/png": "[encoded data removed]",
            "text/plain": [
              "<Figure size 432x288 with 1 Axes>"
            ]
          },
          "metadata": {
            "tags": []
          }
        }
      ]
    },
    {
      "cell_type": "markdown",
      "metadata": {
        "id": "CQqDNrgXB41H",
        "colab_type": "text"
      },
      "source": [
        "We can see that the frequency of rest goes up dramatically in the second half of the season, peaking at the absolute end as teams either get ready for the playoffs or fall out of playoff contention."
      ]
    },
    {
      "cell_type": "markdown",
      "metadata": {
        "id": "cXsUrEuMmO8V",
        "colab_type": "text"
      },
      "source": [
        "##Team Data"
      ]
    },
    {
      "cell_type": "code",
      "metadata": {
        "id": "t0Su37WkdrGg",
        "colab_type": "code",
        "colab": {}
      },
      "source": [
        "# Generate team-level rest data\n",
        "rest_teams = pd.DataFrame(rest[\"team\"].value_counts()).reset_index()\n",
        "rest_teams.columns = [\"team\", \"days of rest\"]"
      ],
      "execution_count": 0,
      "outputs": []
    },
    {
      "cell_type": "code",
      "metadata": {
        "id": "KSzIs2lN3HnC",
        "colab_type": "code",
        "outputId": "4f714ee6-9369-48ec-cc5f-a133d2bf7f35",
        "colab": {
          "base_uri": "https://localhost:8080/",
          "height": 195
        }
      },
      "source": [
        "rest_teams.head()"
      ],
      "execution_count": 127,
      "outputs": [
        {
          "output_type": "execute_result",
          "data": {
            "text/html": [
              "<div>\n",
              "<style scoped>\n",
              "    .dataframe tbody tr th:only-of-type {\n",
              "        vertical-align: middle;\n",
              "    }\n",
              "\n",
              "    .dataframe tbody tr th {\n",
              "        vertical-align: top;\n",
              "    }\n",
              "\n",
              "    .dataframe thead th {\n",
              "        text-align: right;\n",
              "    }\n",
              "</style>\n",
              "<table border=\"1\" class=\"dataframe\">\n",
              "  <thead>\n",
              "    <tr style=\"text-align: right;\">\n",
              "      <th></th>\n",
              "      <th>team</th>\n",
              "      <th>days of rest</th>\n",
              "    </tr>\n",
              "  </thead>\n",
              "  <tbody>\n",
              "    <tr>\n",
              "      <th>0</th>\n",
              "      <td>Spurs</td>\n",
              "      <td>84</td>\n",
              "    </tr>\n",
              "    <tr>\n",
              "      <th>1</th>\n",
              "      <td>Kings</td>\n",
              "      <td>37</td>\n",
              "    </tr>\n",
              "    <tr>\n",
              "      <th>2</th>\n",
              "      <td>Mavericks</td>\n",
              "      <td>32</td>\n",
              "    </tr>\n",
              "    <tr>\n",
              "      <th>3</th>\n",
              "      <td>Hawks</td>\n",
              "      <td>31</td>\n",
              "    </tr>\n",
              "    <tr>\n",
              "      <th>4</th>\n",
              "      <td>Cavaliers</td>\n",
              "      <td>29</td>\n",
              "    </tr>\n",
              "  </tbody>\n",
              "</table>\n",
              "</div>"
            ],
            "text/plain": [
              "        team  days of rest\n",
              "0      Spurs            84\n",
              "1      Kings            37\n",
              "2  Mavericks            32\n",
              "3      Hawks            31\n",
              "4  Cavaliers            29"
            ]
          },
          "metadata": {
            "tags": []
          },
          "execution_count": 127
        }
      ]
    },
    {
      "cell_type": "code",
      "metadata": {
        "id": "PyB4qiI3mYqU",
        "colab_type": "code",
        "colab": {
          "base_uri": "https://localhost:8080/",
          "height": 195
        },
        "outputId": "fc65a550-5bc7-4e51-dab1-8a5a55d54f6d"
      },
      "source": [
        "rest_teams.tail()"
      ],
      "execution_count": 128,
      "outputs": [
        {
          "output_type": "execute_result",
          "data": {
            "text/html": [
              "<div>\n",
              "<style scoped>\n",
              "    .dataframe tbody tr th:only-of-type {\n",
              "        vertical-align: middle;\n",
              "    }\n",
              "\n",
              "    .dataframe tbody tr th {\n",
              "        vertical-align: top;\n",
              "    }\n",
              "\n",
              "    .dataframe thead th {\n",
              "        text-align: right;\n",
              "    }\n",
              "</style>\n",
              "<table border=\"1\" class=\"dataframe\">\n",
              "  <thead>\n",
              "    <tr style=\"text-align: right;\">\n",
              "      <th></th>\n",
              "      <th>team</th>\n",
              "      <th>days of rest</th>\n",
              "    </tr>\n",
              "  </thead>\n",
              "  <tbody>\n",
              "    <tr>\n",
              "      <th>25</th>\n",
              "      <td>Magic</td>\n",
              "      <td>7</td>\n",
              "    </tr>\n",
              "    <tr>\n",
              "      <th>26</th>\n",
              "      <td>Pistons</td>\n",
              "      <td>7</td>\n",
              "    </tr>\n",
              "    <tr>\n",
              "      <th>27</th>\n",
              "      <td>Timberwolves</td>\n",
              "      <td>3</td>\n",
              "    </tr>\n",
              "    <tr>\n",
              "      <th>28</th>\n",
              "      <td>Hornets</td>\n",
              "      <td>1</td>\n",
              "    </tr>\n",
              "    <tr>\n",
              "      <th>29</th>\n",
              "      <td>Jazz</td>\n",
              "      <td>1</td>\n",
              "    </tr>\n",
              "  </tbody>\n",
              "</table>\n",
              "</div>"
            ],
            "text/plain": [
              "            team  days of rest\n",
              "25         Magic             7\n",
              "26       Pistons             7\n",
              "27  Timberwolves             3\n",
              "28       Hornets             1\n",
              "29          Jazz             1"
            ]
          },
          "metadata": {
            "tags": []
          },
          "execution_count": 128
        }
      ]
    },
    {
      "cell_type": "markdown",
      "metadata": {
        "id": "b5pdKqdJCHmi",
        "colab_type": "text"
      },
      "source": [
        "The San Antonio Spurs have by far the most days of rest in the data set. This matches their reputation as pioneers of player rest and of getting the most out of their aging players."
      ]
    },
    {
      "cell_type": "code",
      "metadata": {
        "id": "9dyBJ2ePdvml",
        "colab_type": "code",
        "outputId": "d29ad4dc-732f-4280-a9c5-ce4149601b24",
        "colab": {
          "base_uri": "https://localhost:8080/",
          "height": 349
        }
      },
      "source": [
        "fig, ax = plt.subplots(figsize = (15, 5))\n",
        "\n",
        "colors = [\"black\" if team == \"Spurs\" else \"grey\" for team in rest_teams[\"team\"]]\n",
        "sns.barplot(x = rest_teams[\"team\"], y = rest_teams[\"days of rest\"], palette = colors)\n",
        "\n",
        "ax.set_xticklabels(\"\")\n",
        "ax.set_xlabel(\"Team\", fontweight = \"bold\", fontsize = 12)\n",
        "ax.set_ylabel(\"Days of Rest\", fontweight = \"bold\", fontsize = 12)\n",
        "ax.text(s = \"San Antonio Spurs: Rest Champions\", x = 9.6, y = 82, fontsize = 15)\n",
        "ax.set_title(\"Team days of rest, 2010-2018\", fontweight=\"bold\", fontsize = 17)\n",
        "\n",
        "plt.show()"
      ],
      "execution_count": 132,
      "outputs": [
        {
          "output_type": "display_data",
          "data": {
            "image/png": "[encoded data removed]",
            "text/plain": [
              "<Figure size 1080x360 with 1 Axes>"
            ]
          },
          "metadata": {
            "tags": []
          }
        }
      ]
    },
    {
      "cell_type": "code",
      "metadata": {
        "id": "RT0Y0Z61qLJm",
        "colab_type": "code",
        "colab": {}
      },
      "source": [
        "rest[\"player\"].value_counts().head(10)"
      ],
      "execution_count": 0,
      "outputs": []
    },
    {
      "cell_type": "markdown",
      "metadata": {
        "id": "1LqAWgw-qNP5",
        "colab_type": "text"
      },
      "source": [
        "As you might expect, the leaderboard for individuals is dominated by Spurs, with the Spurs' \"big three\" -- Manu Ginobili, Tim Duncan, and Tony Parker -- all in the top five. Teams competing for a title, as with the Spurs and the Celtics (Kevin Garnett, Rajon Rondo, and Paul Pierce) may consider the regular season less important than the playoffs, although, as the Spurs have shown, rest doesn't necessarily come at the expense of regular-season success."
      ]
    },
    {
      "cell_type": "markdown",
      "metadata": {
        "id": "jFypVJcYHrBz",
        "colab_type": "text"
      },
      "source": [
        "##Teams and Injuries"
      ]
    },
    {
      "cell_type": "code",
      "metadata": {
        "id": "EqYJ6yw-3nxn",
        "colab_type": "code",
        "colab": {}
      },
      "source": [
        "injury_teams = pd.DataFrame(just_injuries[\"team\"].value_counts()).reset_index()\n",
        "injury_teams.columns = [\"team\", \"injuries\"]\n",
        "injury_teams = injury_teams.drop(index = 30)"
      ],
      "execution_count": 0,
      "outputs": []
    },
    {
      "cell_type": "code",
      "metadata": {
        "id": "OtO7rmOa_uZw",
        "colab_type": "code",
        "colab": {}
      },
      "source": [
        "print(injury_teams[\"injuries\"].mean())\n",
        "injury_teams.head()"
      ],
      "execution_count": 0,
      "outputs": []
    },
    {
      "cell_type": "code",
      "metadata": {
        "id": "P4xEabiUACNF",
        "colab_type": "code",
        "colab": {}
      },
      "source": [
        "injury_teams.tail()"
      ],
      "execution_count": 0,
      "outputs": []
    },
    {
      "cell_type": "code",
      "metadata": {
        "id": "2CECVTPSyhPv",
        "colab_type": "code",
        "colab": {}
      },
      "source": [
        "sns.distplot(injury_teams[\"injuries\"], kde = False, bins = 15)\n",
        "plt.show()"
      ],
      "execution_count": 0,
      "outputs": []
    },
    {
      "cell_type": "code",
      "metadata": {
        "id": "1tzeKlI5y7Kp",
        "colab_type": "code",
        "colab": {}
      },
      "source": [
        "normaltest(injury_teams[\"injuries\"])"
      ],
      "execution_count": 0,
      "outputs": []
    },
    {
      "cell_type": "markdown",
      "metadata": {
        "id": "mZoUEQ2rzJ6I",
        "colab_type": "text"
      },
      "source": [
        "We can't reject the null hypothesis that injuries are normally distributed. Though, with 30 teams, we'd expect to see 1.5 teams that registered as p<.05 significant by chance, let's check the relationship between the Thunder (at 66 injuries) and the rest of the league (at an average of (check) 150 injuries. "
      ]
    },
    {
      "cell_type": "code",
      "metadata": {
        "id": "TRvzZwQLzkzk",
        "colab_type": "code",
        "colab": {}
      },
      "source": [
        "std = np.std(injury_teams[\"injuries\"], ddof = 1)\n",
        "mean = np.mean(injury_teams[\"injuries\"])\n",
        "thunder = injury_teams[injury_teams[\"team\"] == \"Thunder\"].iloc[0][1]\n",
        "deviations = (mean - thunder)/std\n",
        "deviations"
      ],
      "execution_count": 0,
      "outputs": []
    },
    {
      "cell_type": "markdown",
      "metadata": {
        "id": "dV2Ss9cIBLGZ",
        "colab_type": "text"
      },
      "source": [
        "The Thunder are 2.60 standard deviations from the mean, which is significant at the 1% level. However, given the likelihood of 1% outliers across a large data set with multiple features, I would say this effect is more \"something to look deeper into\" than a definite feature of reality."
      ]
    },
    {
      "cell_type": "code",
      "metadata": {
        "id": "2X1MsXHh33HQ",
        "colab_type": "code",
        "colab": {}
      },
      "source": [
        "team_data = injury_teams.merge(rest_teams, on = \"team\")"
      ],
      "execution_count": 0,
      "outputs": []
    },
    {
      "cell_type": "code",
      "metadata": {
        "id": "fsReXmFg4NBW",
        "colab_type": "code",
        "colab": {}
      },
      "source": [
        "np.corrcoef(team_data[\"injuries\"], team_data[\"days of rest\"])"
      ],
      "execution_count": 0,
      "outputs": []
    },
    {
      "cell_type": "markdown",
      "metadata": {
        "id": "zOM2y0bRKOhH",
        "colab_type": "text"
      },
      "source": [
        "There's almost zero correlation between total days of rest and total injuries. However, this is likely an artifact both of underlying variables and of our data set -- oft-injured players are more likely to get rested, and teams might label intended rest days as minor injuries. The best evidence that there's a relationship between rest and injury rate comes from observation: NBA teams, with millions of dollars in labor productivity at stake, have almost universally adopted the Spurs' style of giving players occasional rest day to keep them in peak condition."
      ]
    },
    {
      "cell_type": "markdown",
      "metadata": {
        "id": "RAMgbikgxZ27",
        "colab_type": "text"
      },
      "source": [
        "#Conclusions"
      ]
    },
    {
      "cell_type": "markdown",
      "metadata": {
        "id": "D63XufMLkRB4",
        "colab_type": "text"
      },
      "source": [
        "Though the NBA is more concerned with injuries than ever before, this data set was unable to draw out a consistent increase in injury rates over the last eight seasons. However, data that included missed games might yield different conclusions. \n",
        "\n",
        "Achilles injuries might be a useful bellwether -- as the most load-bearing tendon in the body, it's most susceptible to overuse injuries, and there is little flexibility in how the injury is reported. We did see a significant increase in Achilles injuries over the time frame. \n",
        "\n",
        "Given increased injury rates in the low-rest lockout season, increased injury rates as a season progresses, and anecdotal evidence from the league's most successful team, what this data set most strongly suggests to me is the effectiveness of rest in injury prevention."
      ]
    }
  ]
}