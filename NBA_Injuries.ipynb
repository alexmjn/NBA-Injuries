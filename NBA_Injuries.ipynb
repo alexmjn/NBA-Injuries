{
  "nbformat": 4,
  "nbformat_minor": 0,
  "metadata": {
    "colab": {
      "name": "NBA_Injuries.ipynb",
      "provenance": [],
      "collapsed_sections": [
        "me5PLY5XY_R1",
        "fsQ_wDHiZHe8",
        "B8g8n39bZQ1U"
      ],
      "include_colab_link": true
    },
    "kernelspec": {
      "name": "python3",
      "display_name": "Python 3"
    }
  },
  "cells": [
    {
      "cell_type": "markdown",
      "metadata": {
        "id": "view-in-github",
        "colab_type": "text"
      },
      "source": [
        "<a href=\"https://colab.research.google.com/github/alexmjn/NBA-Injuries/blob/master/NBA_Injuries.ipynb\" target=\"_parent\"><img src=\"https://colab.research.google.com/assets/colab-badge.svg\" alt=\"Open In Colab\"/></a>"
      ]
    },
    {
      "cell_type": "markdown",
      "metadata": {
        "id": "qVk-OCBWZAxE",
        "colab_type": "text"
      },
      "source": [
        "#NBA Injuries"
      ]
    },
    {
      "cell_type": "markdown",
      "metadata": {
        "id": "uJZZwACLG8YA",
        "colab_type": "text"
      },
      "source": [
        "*The unpredictable nature of injuries costs NBA teams millions of dollars each year (in addition to the cost in human suffering)*. I want to explore the patterns of injury and rest in the NBA. Have injury rates risen as the NBA has gotten more physically taxing? Did the 2011 NBA lockout affect injury rates for that season? Do different teams have different patterns of rest and injury? Using the NBA's published injury reports (sourced from Kaggle), I investigate these questions. \n"
      ]
    },
    {
      "cell_type": "markdown",
      "metadata": {
        "id": "me5PLY5XY_R1",
        "colab_type": "text"
      },
      "source": [
        "#Import Data"
      ]
    },
    {
      "cell_type": "code",
      "metadata": {
        "id": "wFESKxChWcv-",
        "colab_type": "code",
        "colab": {}
      },
      "source": [
        "import numpy as np\n",
        "import pandas as pd\n",
        "import matplotlib.pyplot as plt\n",
        "import seaborn as sns\n",
        "\n",
        "from scipy.stats import ttest_ind, ttest_1samp\n",
        "from sklearn.preprocessing import StandardScaler\n",
        "from sklearn.decomposition import PCA\n",
        "from sklearn.cluster import KMeans"
      ],
      "execution_count": 0,
      "outputs": []
    },
    {
      "cell_type": "code",
      "metadata": {
        "id": "hueHC3Flpf6Y",
        "colab_type": "code",
        "colab": {}
      },
      "source": [
        "url = \"https://raw.githubusercontent.com/alexmjn/NBA-Injuries/master/injuries.csv\"\n",
        "injuries = pd.read_csv(url)"
      ],
      "execution_count": 0,
      "outputs": []
    },
    {
      "cell_type": "code",
      "metadata": {
        "id": "zCuvjPR1Ysyf",
        "colab_type": "code",
        "outputId": "dca8a375-ff6c-4b90-f9ff-daa4c8380838",
        "colab": {
          "base_uri": "https://localhost:8080/",
          "height": 0
        }
      },
      "source": [
        "print(injuries.dtypes)\n",
        "injuries.head()"
      ],
      "execution_count": 82,
      "outputs": [
        {
          "output_type": "stream",
          "text": [
            "Date           object\n",
            "Team           object\n",
            "Acquired       object\n",
            "Relinquised    object\n",
            "Notes          object\n",
            "dtype: object\n"
          ],
          "name": "stdout"
        },
        {
          "output_type": "execute_result",
          "data": {
            "text/html": [
              "<div>\n",
              "<style scoped>\n",
              "    .dataframe tbody tr th:only-of-type {\n",
              "        vertical-align: middle;\n",
              "    }\n",
              "\n",
              "    .dataframe tbody tr th {\n",
              "        vertical-align: top;\n",
              "    }\n",
              "\n",
              "    .dataframe thead th {\n",
              "        text-align: right;\n",
              "    }\n",
              "</style>\n",
              "<table border=\"1\" class=\"dataframe\">\n",
              "  <thead>\n",
              "    <tr style=\"text-align: right;\">\n",
              "      <th></th>\n",
              "      <th>Date</th>\n",
              "      <th>Team</th>\n",
              "      <th>Acquired</th>\n",
              "      <th>Relinquised</th>\n",
              "      <th>Notes</th>\n",
              "    </tr>\n",
              "  </thead>\n",
              "  <tbody>\n",
              "    <tr>\n",
              "      <th>0</th>\n",
              "      <td>2010-10-03</td>\n",
              "      <td>Bulls</td>\n",
              "      <td>NaN</td>\n",
              "      <td>Carlos Boozer</td>\n",
              "      <td>fractured bone in right pinky finger (out inde...</td>\n",
              "    </tr>\n",
              "    <tr>\n",
              "      <th>1</th>\n",
              "      <td>2010-10-06</td>\n",
              "      <td>Pistons</td>\n",
              "      <td>NaN</td>\n",
              "      <td>Jonas Jerebko</td>\n",
              "      <td>torn right Acchilles tendon (out indefinitely)</td>\n",
              "    </tr>\n",
              "    <tr>\n",
              "      <th>2</th>\n",
              "      <td>2010-10-06</td>\n",
              "      <td>Pistons</td>\n",
              "      <td>NaN</td>\n",
              "      <td>Terrico White</td>\n",
              "      <td>broken fifth metatarsal in right foot (out ind...</td>\n",
              "    </tr>\n",
              "    <tr>\n",
              "      <th>3</th>\n",
              "      <td>2010-10-08</td>\n",
              "      <td>Blazers</td>\n",
              "      <td>NaN</td>\n",
              "      <td>Jeff Pendergraph / Jeff Ayres</td>\n",
              "      <td>torn ACL in right knee (out indefinitely)</td>\n",
              "    </tr>\n",
              "    <tr>\n",
              "      <th>4</th>\n",
              "      <td>2010-10-08</td>\n",
              "      <td>Nets</td>\n",
              "      <td>NaN</td>\n",
              "      <td>Troy Murphy</td>\n",
              "      <td>strained lower back (out indefinitely)</td>\n",
              "    </tr>\n",
              "  </tbody>\n",
              "</table>\n",
              "</div>"
            ],
            "text/plain": [
              "         Date  ...                                              Notes\n",
              "0  2010-10-03  ...  fractured bone in right pinky finger (out inde...\n",
              "1  2010-10-06  ...     torn right Acchilles tendon (out indefinitely)\n",
              "2  2010-10-06  ...  broken fifth metatarsal in right foot (out ind...\n",
              "3  2010-10-08  ...          torn ACL in right knee (out indefinitely)\n",
              "4  2010-10-08  ...             strained lower back (out indefinitely)\n",
              "\n",
              "[5 rows x 5 columns]"
            ]
          },
          "metadata": {
            "tags": []
          },
          "execution_count": 82
        }
      ]
    },
    {
      "cell_type": "markdown",
      "metadata": {
        "id": "fsQ_wDHiZHe8",
        "colab_type": "text"
      },
      "source": [
        "#Cleaning Data"
      ]
    },
    {
      "cell_type": "markdown",
      "metadata": {
        "id": "J36C-QWYIq7f",
        "colab_type": "text"
      },
      "source": [
        "The data contains four columns we're interested in: \"Date,\" \"Team,\" \"Relinquised,\" (a column that shows what player suffered the injury), and \"Notes,\" which is a brief text description of the injury.\n",
        "\n",
        "\"Acquired\" is used to denote rows where a player returned from injury. Though there is likely interesting analysis to be done on players' time of recovery, from scanning the data, the \"Acquired\" columns were reported inconsistently within seasons and for various types of injuries; thus, this data is out of the scope of this analysis.\n",
        "\n",
        "Therefore I drop rows which represent a return from injury and not an injury or rest and then drop the column itself."
      ]
    },
    {
      "cell_type": "code",
      "metadata": {
        "id": "oWyfElb_ZCAe",
        "colab_type": "code",
        "outputId": "2fad4ffb-4ab5-45de-958a-522869bb65a2",
        "colab": {
          "base_uri": "https://localhost:8080/",
          "height": 0
        }
      },
      "source": [
        "injuries.columns = injuries.columns.str.lower()\n",
        "injuries = injuries[injuries[\"acquired\"].isnull() == True]\n",
        "injuries = injuries.drop([\"acquired\"], axis = 1)\n",
        "injuries.shape"
      ],
      "execution_count": 83,
      "outputs": [
        {
          "output_type": "execute_result",
          "data": {
            "text/plain": [
              "(8194, 4)"
            ]
          },
          "metadata": {
            "tags": []
          },
          "execution_count": 83
        }
      ]
    },
    {
      "cell_type": "code",
      "metadata": {
        "id": "k8_rRNrWr1dU",
        "colab_type": "code",
        "outputId": "8c71afb9-6fe6-4707-ed4c-597ebe4a53ca",
        "colab": {
          "base_uri": "https://localhost:8080/",
          "height": 0
        }
      },
      "source": [
        "injuries.dtypes"
      ],
      "execution_count": 84,
      "outputs": [
        {
          "output_type": "execute_result",
          "data": {
            "text/plain": [
              "date           object\n",
              "team           object\n",
              "relinquised    object\n",
              "notes          object\n",
              "dtype: object"
            ]
          },
          "metadata": {
            "tags": []
          },
          "execution_count": 84
        }
      ]
    },
    {
      "cell_type": "markdown",
      "metadata": {
        "id": "pkNu1zlSKKBH",
        "colab_type": "text"
      },
      "source": [
        "To perform operations on the \"date\" column, I cast it as a datetime object. To prevent mismatches due to case-sensitivity, I make all 'notes' lowercase. Finally, I clean the column name."
      ]
    },
    {
      "cell_type": "code",
      "metadata": {
        "id": "4arfrxoWZLjX",
        "colab_type": "code",
        "outputId": "435f9a6e-a548-45e1-f43b-4b58bf5b1f05",
        "colab": {
          "base_uri": "https://localhost:8080/",
          "height": 0
        }
      },
      "source": [
        "injuries[\"date\"] = pd.to_datetime(injuries[\"date\"], infer_datetime_format = True)\n",
        "injuries[\"notes\"] = injuries[\"notes\"].apply(str.lower)\n",
        "injuries = injuries.rename(columns={\"relinquised\":\"player\"})\n",
        "injuries.head()"
      ],
      "execution_count": 85,
      "outputs": [
        {
          "output_type": "execute_result",
          "data": {
            "text/html": [
              "<div>\n",
              "<style scoped>\n",
              "    .dataframe tbody tr th:only-of-type {\n",
              "        vertical-align: middle;\n",
              "    }\n",
              "\n",
              "    .dataframe tbody tr th {\n",
              "        vertical-align: top;\n",
              "    }\n",
              "\n",
              "    .dataframe thead th {\n",
              "        text-align: right;\n",
              "    }\n",
              "</style>\n",
              "<table border=\"1\" class=\"dataframe\">\n",
              "  <thead>\n",
              "    <tr style=\"text-align: right;\">\n",
              "      <th></th>\n",
              "      <th>date</th>\n",
              "      <th>team</th>\n",
              "      <th>player</th>\n",
              "      <th>notes</th>\n",
              "    </tr>\n",
              "  </thead>\n",
              "  <tbody>\n",
              "    <tr>\n",
              "      <th>0</th>\n",
              "      <td>2010-10-03</td>\n",
              "      <td>Bulls</td>\n",
              "      <td>Carlos Boozer</td>\n",
              "      <td>fractured bone in right pinky finger (out inde...</td>\n",
              "    </tr>\n",
              "    <tr>\n",
              "      <th>1</th>\n",
              "      <td>2010-10-06</td>\n",
              "      <td>Pistons</td>\n",
              "      <td>Jonas Jerebko</td>\n",
              "      <td>torn right acchilles tendon (out indefinitely)</td>\n",
              "    </tr>\n",
              "    <tr>\n",
              "      <th>2</th>\n",
              "      <td>2010-10-06</td>\n",
              "      <td>Pistons</td>\n",
              "      <td>Terrico White</td>\n",
              "      <td>broken fifth metatarsal in right foot (out ind...</td>\n",
              "    </tr>\n",
              "    <tr>\n",
              "      <th>3</th>\n",
              "      <td>2010-10-08</td>\n",
              "      <td>Blazers</td>\n",
              "      <td>Jeff Pendergraph / Jeff Ayres</td>\n",
              "      <td>torn acl in right knee (out indefinitely)</td>\n",
              "    </tr>\n",
              "    <tr>\n",
              "      <th>4</th>\n",
              "      <td>2010-10-08</td>\n",
              "      <td>Nets</td>\n",
              "      <td>Troy Murphy</td>\n",
              "      <td>strained lower back (out indefinitely)</td>\n",
              "    </tr>\n",
              "  </tbody>\n",
              "</table>\n",
              "</div>"
            ],
            "text/plain": [
              "        date  ...                                              notes\n",
              "0 2010-10-03  ...  fractured bone in right pinky finger (out inde...\n",
              "1 2010-10-06  ...     torn right acchilles tendon (out indefinitely)\n",
              "2 2010-10-06  ...  broken fifth metatarsal in right foot (out ind...\n",
              "3 2010-10-08  ...          torn acl in right knee (out indefinitely)\n",
              "4 2010-10-08  ...             strained lower back (out indefinitely)\n",
              "\n",
              "[5 rows x 4 columns]"
            ]
          },
          "metadata": {
            "tags": []
          },
          "execution_count": 85
        }
      ]
    },
    {
      "cell_type": "markdown",
      "metadata": {
        "id": "zQLa28v6bGtF",
        "colab_type": "text"
      },
      "source": [
        "Rest is inconsistently logged as either \"DNP\" or \"Rest (DNP)\". To ensure consistency, I log each as the former."
      ]
    },
    {
      "cell_type": "code",
      "metadata": {
        "id": "auqY_lYqbUhi",
        "colab_type": "code",
        "colab": {}
      },
      "source": [
        "injuries[\"notes\"] = injuries[\"notes\"].replace({\"dnp\":\"rest (dnp)\"})"
      ],
      "execution_count": 0,
      "outputs": []
    },
    {
      "cell_type": "code",
      "metadata": {
        "id": "FGpPc3eCb62V",
        "colab_type": "code",
        "outputId": "64b8364b-5f73-43a8-bf31-1783926ded24",
        "colab": {
          "base_uri": "https://localhost:8080/",
          "height": 0
        }
      },
      "source": [
        "injuries[\"notes\"].value_counts().head()"
      ],
      "execution_count": 87,
      "outputs": [
        {
          "output_type": "execute_result",
          "data": {
            "text/plain": [
              "sprained left ankle (dnp)     362\n",
              "rest (dtd)                    288\n",
              "rest (dnp)                    191\n",
              "sprained right ankle (dnp)    175\n",
              "illness (dtd)                 149\n",
              "Name: notes, dtype: int64"
            ]
          },
          "metadata": {
            "tags": []
          },
          "execution_count": 87
        }
      ]
    },
    {
      "cell_type": "markdown",
      "metadata": {
        "id": "fKvVtQqjuFWU",
        "colab_type": "text"
      },
      "source": [
        "It's interesting that sprained left ankles are so much more common than sprained right ankles. I'm assuming this has something to do with biomechanics of right-footed players. Anyway, it's clear this is not perfect -- rest is logged as two different things -- but, since this column is for feature engineering, we don't have to worry about exact matches as long as they contain the right word. "
      ]
    },
    {
      "cell_type": "code",
      "metadata": {
        "id": "HWIdMU3VupbC",
        "colab_type": "code",
        "outputId": "4217fec6-e032-4f1e-f10c-8eec7162d323",
        "colab": {
          "base_uri": "https://localhost:8080/",
          "height": 0
        }
      },
      "source": [
        "injuries.isnull().sum()"
      ],
      "execution_count": 88,
      "outputs": [
        {
          "output_type": "execute_result",
          "data": {
            "text/plain": [
              "date      0\n",
              "team      3\n",
              "player    0\n",
              "notes     0\n",
              "dtype: int64"
            ]
          },
          "metadata": {
            "tags": []
          },
          "execution_count": 88
        }
      ]
    },
    {
      "cell_type": "code",
      "metadata": {
        "id": "y4jbSH0gvC09",
        "colab_type": "code",
        "outputId": "cad1bee3-aeac-48f2-d7b5-76559e6d4b82",
        "colab": {
          "base_uri": "https://localhost:8080/",
          "height": 0
        }
      },
      "source": [
        "injuries[injuries[\"team\"].isnull() == True]"
      ],
      "execution_count": 89,
      "outputs": [
        {
          "output_type": "execute_result",
          "data": {
            "text/html": [
              "<div>\n",
              "<style scoped>\n",
              "    .dataframe tbody tr th:only-of-type {\n",
              "        vertical-align: middle;\n",
              "    }\n",
              "\n",
              "    .dataframe tbody tr th {\n",
              "        vertical-align: top;\n",
              "    }\n",
              "\n",
              "    .dataframe thead th {\n",
              "        text-align: right;\n",
              "    }\n",
              "</style>\n",
              "<table border=\"1\" class=\"dataframe\">\n",
              "  <thead>\n",
              "    <tr style=\"text-align: right;\">\n",
              "      <th></th>\n",
              "      <th>date</th>\n",
              "      <th>team</th>\n",
              "      <th>player</th>\n",
              "      <th>notes</th>\n",
              "    </tr>\n",
              "  </thead>\n",
              "  <tbody>\n",
              "    <tr>\n",
              "      <th>6330</th>\n",
              "      <td>2015-09-02</td>\n",
              "      <td>NaN</td>\n",
              "      <td>Glen Davis</td>\n",
              "      <td>surgery on left ankle to repair torn ligaments...</td>\n",
              "    </tr>\n",
              "    <tr>\n",
              "      <th>6332</th>\n",
              "      <td>2015-09-03</td>\n",
              "      <td>NaN</td>\n",
              "      <td>Landry Fields</td>\n",
              "      <td>surgery on hip to repair torn labrum (out inde...</td>\n",
              "    </tr>\n",
              "    <tr>\n",
              "      <th>8349</th>\n",
              "      <td>2017-02-08</td>\n",
              "      <td>NaN</td>\n",
              "      <td>Dragan Bender</td>\n",
              "      <td>surgery on right ankle to remove bone spur (ou...</td>\n",
              "    </tr>\n",
              "  </tbody>\n",
              "</table>\n",
              "</div>"
            ],
            "text/plain": [
              "           date  ...                                              notes\n",
              "6330 2015-09-02  ...  surgery on left ankle to repair torn ligaments...\n",
              "6332 2015-09-03  ...  surgery on hip to repair torn labrum (out inde...\n",
              "8349 2017-02-08  ...  surgery on right ankle to remove bone spur (ou...\n",
              "\n",
              "[3 rows x 4 columns]"
            ]
          },
          "metadata": {
            "tags": []
          },
          "execution_count": 89
        }
      ]
    },
    {
      "cell_type": "markdown",
      "metadata": {
        "id": "IEvcCLKRvqIm",
        "colab_type": "text"
      },
      "source": [
        "From research, I see that the NaN values here represent when a player had surgery while he was not under contract with a team (a free agent or had been waived). So I replace the missing values with \"None\"."
      ]
    },
    {
      "cell_type": "code",
      "metadata": {
        "id": "PUn6Rz-fvIoX",
        "colab_type": "code",
        "colab": {}
      },
      "source": [
        "injuries[\"team\"] = injuries[\"team\"].replace({np.NaN: \"None\"})"
      ],
      "execution_count": 0,
      "outputs": []
    },
    {
      "cell_type": "code",
      "metadata": {
        "id": "XggHj_Lkvbt_",
        "colab_type": "code",
        "outputId": "bc2b65d2-2f21-4a5d-f4df-b85564502845",
        "colab": {
          "base_uri": "https://localhost:8080/",
          "height": 0
        }
      },
      "source": [
        "print(injuries.dtypes)\n",
        "injuries.isnull().sum()"
      ],
      "execution_count": 91,
      "outputs": [
        {
          "output_type": "stream",
          "text": [
            "date      datetime64[ns]\n",
            "team              object\n",
            "player            object\n",
            "notes             object\n",
            "dtype: object\n"
          ],
          "name": "stdout"
        },
        {
          "output_type": "execute_result",
          "data": {
            "text/plain": [
              "date      0\n",
              "team      0\n",
              "player    0\n",
              "notes     0\n",
              "dtype: int64"
            ]
          },
          "metadata": {
            "tags": []
          },
          "execution_count": 91
        }
      ]
    },
    {
      "cell_type": "markdown",
      "metadata": {
        "id": "wyF6d8IZK3Uu",
        "colab_type": "text"
      },
      "source": [
        "One issue with this dataset is the inconsistent logging of injuries over multiple days. For minor injuries, players will show up on the injury report for the same injury over multiple days or even weeks. However, for major injuries, the injury will be reported once and the player's absence will be assumed (they will be placed on the inactive list).\n",
        "\n",
        "To ensure consistency, I decide that every row representing an injury will represent a discrete player injury. To do this, I sort the data by player and date and remove rows where the same player has the same injury reported within ten days of the last report. "
      ]
    },
    {
      "cell_type": "code",
      "metadata": {
        "id": "c9AGB_wy7GtS",
        "colab_type": "code",
        "outputId": "cac4d79b-7735-4f04-8a77-8cfd2092256f",
        "colab": {
          "base_uri": "https://localhost:8080/",
          "height": 0
        }
      },
      "source": [
        "injuries = injuries.sort_values(by = [\"player\", \"date\"])\n",
        "injuries.head()"
      ],
      "execution_count": 92,
      "outputs": [
        {
          "output_type": "execute_result",
          "data": {
            "text/html": [
              "<div>\n",
              "<style scoped>\n",
              "    .dataframe tbody tr th:only-of-type {\n",
              "        vertical-align: middle;\n",
              "    }\n",
              "\n",
              "    .dataframe tbody tr th {\n",
              "        vertical-align: top;\n",
              "    }\n",
              "\n",
              "    .dataframe thead th {\n",
              "        text-align: right;\n",
              "    }\n",
              "</style>\n",
              "<table border=\"1\" class=\"dataframe\">\n",
              "  <thead>\n",
              "    <tr style=\"text-align: right;\">\n",
              "      <th></th>\n",
              "      <th>date</th>\n",
              "      <th>team</th>\n",
              "      <th>player</th>\n",
              "      <th>notes</th>\n",
              "    </tr>\n",
              "  </thead>\n",
              "  <tbody>\n",
              "    <tr>\n",
              "      <th>501</th>\n",
              "      <td>2011-02-28</td>\n",
              "      <td>Spurs</td>\n",
              "      <td>(William) Tony Parker</td>\n",
              "      <td>strained left calf muscle (out indefinitely)</td>\n",
              "    </tr>\n",
              "    <tr>\n",
              "      <th>630</th>\n",
              "      <td>2011-03-28</td>\n",
              "      <td>Spurs</td>\n",
              "      <td>(William) Tony Parker</td>\n",
              "      <td>bruised left patella (dnp)</td>\n",
              "    </tr>\n",
              "    <tr>\n",
              "      <th>777</th>\n",
              "      <td>2011-04-12</td>\n",
              "      <td>Spurs</td>\n",
              "      <td>(William) Tony Parker</td>\n",
              "      <td>rest (dnp)</td>\n",
              "    </tr>\n",
              "    <tr>\n",
              "      <th>1379</th>\n",
              "      <td>2012-02-21</td>\n",
              "      <td>Spurs</td>\n",
              "      <td>(William) Tony Parker</td>\n",
              "      <td>rest (dnp)</td>\n",
              "    </tr>\n",
              "    <tr>\n",
              "      <th>1645</th>\n",
              "      <td>2012-03-23</td>\n",
              "      <td>Spurs</td>\n",
              "      <td>(William) Tony Parker</td>\n",
              "      <td>sore left hamstring (dnp)</td>\n",
              "    </tr>\n",
              "  </tbody>\n",
              "</table>\n",
              "</div>"
            ],
            "text/plain": [
              "           date  ...                                         notes\n",
              "501  2011-02-28  ...  strained left calf muscle (out indefinitely)\n",
              "630  2011-03-28  ...                    bruised left patella (dnp)\n",
              "777  2011-04-12  ...                                    rest (dnp)\n",
              "1379 2012-02-21  ...                                    rest (dnp)\n",
              "1645 2012-03-23  ...                     sore left hamstring (dnp)\n",
              "\n",
              "[5 rows x 4 columns]"
            ]
          },
          "metadata": {
            "tags": []
          },
          "execution_count": 92
        }
      ]
    },
    {
      "cell_type": "code",
      "metadata": {
        "id": "tX-EQ2qk89uP",
        "colab_type": "code",
        "colab": {}
      },
      "source": [
        "# reset index for clean subsetting\n",
        "injuries = injuries.reset_index(drop = True)"
      ],
      "execution_count": 0,
      "outputs": []
    },
    {
      "cell_type": "code",
      "metadata": {
        "id": "FiN1FfgNv2am",
        "colab_type": "code",
        "colab": {}
      },
      "source": [
        "def same_player(df, i):\n",
        "  return (df[\"player\"][i] == df[\"player\"][i-1])\n",
        "\n",
        "def same_injury(df, i):\n",
        "  return (df[\"notes\"][i] == df[\"notes\"][i-1])\n",
        "\n",
        "def within_cutoff(df, i):\n",
        "  return ((df[\"date\"][i] - df[\"date\"][i - 1]).days < 10)\n",
        "\n",
        "def injury(df, i):\n",
        "  return ((\"rest\" in df[\"notes\"][i]) == False)"
      ],
      "execution_count": 0,
      "outputs": []
    },
    {
      "cell_type": "code",
      "metadata": {
        "id": "5rFj3523MvmR",
        "colab_type": "code",
        "colab": {}
      },
      "source": [
        "def clean_injuries(df):\n",
        "  redundant_rows = []\n",
        "\n",
        "  for i in range(1, df.shape[0]):\n",
        "    if same_player(df, i) & same_injury(df, i) & within_cutoff(df, i) & injury(df, i):\n",
        "      redundant_rows.append(i)\n",
        "\n",
        "  df = df.drop(redundant_rows)\n",
        "  df = df.reset_index(drop = True)\n",
        "\n",
        "  return df\n"
      ],
      "execution_count": 0,
      "outputs": []
    },
    {
      "cell_type": "code",
      "metadata": {
        "id": "PsUWm8_9JD5A",
        "colab_type": "code",
        "outputId": "e065e3c5-d7c3-4586-b94b-13e267fbf570",
        "colab": {
          "base_uri": "https://localhost:8080/",
          "height": 0
        }
      },
      "source": [
        "injuries = clean_injuries(injuries)\n",
        "print(injuries.shape)\n",
        "injuries.head()"
      ],
      "execution_count": 96,
      "outputs": [
        {
          "output_type": "stream",
          "text": [
            "(5482, 4)\n"
          ],
          "name": "stdout"
        },
        {
          "output_type": "execute_result",
          "data": {
            "text/html": [
              "<div>\n",
              "<style scoped>\n",
              "    .dataframe tbody tr th:only-of-type {\n",
              "        vertical-align: middle;\n",
              "    }\n",
              "\n",
              "    .dataframe tbody tr th {\n",
              "        vertical-align: top;\n",
              "    }\n",
              "\n",
              "    .dataframe thead th {\n",
              "        text-align: right;\n",
              "    }\n",
              "</style>\n",
              "<table border=\"1\" class=\"dataframe\">\n",
              "  <thead>\n",
              "    <tr style=\"text-align: right;\">\n",
              "      <th></th>\n",
              "      <th>date</th>\n",
              "      <th>team</th>\n",
              "      <th>player</th>\n",
              "      <th>notes</th>\n",
              "    </tr>\n",
              "  </thead>\n",
              "  <tbody>\n",
              "    <tr>\n",
              "      <th>0</th>\n",
              "      <td>2011-02-28</td>\n",
              "      <td>Spurs</td>\n",
              "      <td>(William) Tony Parker</td>\n",
              "      <td>strained left calf muscle (out indefinitely)</td>\n",
              "    </tr>\n",
              "    <tr>\n",
              "      <th>1</th>\n",
              "      <td>2011-03-28</td>\n",
              "      <td>Spurs</td>\n",
              "      <td>(William) Tony Parker</td>\n",
              "      <td>bruised left patella (dnp)</td>\n",
              "    </tr>\n",
              "    <tr>\n",
              "      <th>2</th>\n",
              "      <td>2011-04-12</td>\n",
              "      <td>Spurs</td>\n",
              "      <td>(William) Tony Parker</td>\n",
              "      <td>rest (dnp)</td>\n",
              "    </tr>\n",
              "    <tr>\n",
              "      <th>3</th>\n",
              "      <td>2012-02-21</td>\n",
              "      <td>Spurs</td>\n",
              "      <td>(William) Tony Parker</td>\n",
              "      <td>rest (dnp)</td>\n",
              "    </tr>\n",
              "    <tr>\n",
              "      <th>4</th>\n",
              "      <td>2012-03-23</td>\n",
              "      <td>Spurs</td>\n",
              "      <td>(William) Tony Parker</td>\n",
              "      <td>sore left hamstring (dnp)</td>\n",
              "    </tr>\n",
              "  </tbody>\n",
              "</table>\n",
              "</div>"
            ],
            "text/plain": [
              "        date  ...                                         notes\n",
              "0 2011-02-28  ...  strained left calf muscle (out indefinitely)\n",
              "1 2011-03-28  ...                    bruised left patella (dnp)\n",
              "2 2011-04-12  ...                                    rest (dnp)\n",
              "3 2012-02-21  ...                                    rest (dnp)\n",
              "4 2012-03-23  ...                     sore left hamstring (dnp)\n",
              "\n",
              "[5 rows x 4 columns]"
            ]
          },
          "metadata": {
            "tags": []
          },
          "execution_count": 96
        }
      ]
    },
    {
      "cell_type": "markdown",
      "metadata": {
        "id": "kf9bwz0dN1_Y",
        "colab_type": "text"
      },
      "source": [
        "Looks like we got rid of the redundant injuries! Now every row represents (approximately) either a discrete injury or a voluntary day of rest. "
      ]
    },
    {
      "cell_type": "markdown",
      "metadata": {
        "id": "B8g8n39bZQ1U",
        "colab_type": "text"
      },
      "source": [
        "#Feature Engineering"
      ]
    },
    {
      "cell_type": "markdown",
      "metadata": {
        "id": "rLzWKQMLjw7f",
        "colab_type": "text"
      },
      "source": [
        "Now that the data set is cleaned, it's time to engineer some features so that we can analyze the data. I'll start by adding features that represent which month of the season and year each injury occured. Then I'll use the season beginning and ending dates to place each injury within a particular season. "
      ]
    },
    {
      "cell_type": "code",
      "metadata": {
        "id": "ZpX9jG_WjtGH",
        "colab_type": "code",
        "colab": {}
      },
      "source": [
        "injuries[\"month\"] = (injuries[\"date\"].dt.month - 9) % 12 \n",
        "injuries[\"year\"] = injuries[\"date\"].dt.year"
      ],
      "execution_count": 0,
      "outputs": []
    },
    {
      "cell_type": "code",
      "metadata": {
        "id": "0xuvbPC6r-pD",
        "colab_type": "code",
        "colab": {}
      },
      "source": [
        "start_2011 = pd.Timestamp(2010, 10, 25, 12)\n",
        "start_2012 = pd.Timestamp(2011, 12, 24, 12)\n",
        "start_2013 = pd.Timestamp(2012, 10, 29, 12)\n",
        "start_2014 = pd.Timestamp(2013, 10, 28, 12)\n",
        "start_2015 = pd.Timestamp(2014, 10, 27, 12)\n",
        "start_2016 = pd.Timestamp(2015, 10, 26, 12)\n",
        "start_2017 = pd.Timestamp(2016, 10, 24, 12)\n",
        "start_2018 = pd.Timestamp(2017, 10, 16, 12)"
      ],
      "execution_count": 0,
      "outputs": []
    },
    {
      "cell_type": "code",
      "metadata": {
        "id": "cat2qr9V4crx",
        "colab_type": "code",
        "colab": {}
      },
      "source": [
        "def season(date):\n",
        "  if start_2011 < date < pd.Timestamp(2011, 4, 14, 12):\n",
        "    return 2011\n",
        "  elif start_2012 < date < pd.Timestamp(2012, 4, 27, 12):\n",
        "    return 2012\n",
        "  elif start_2013 < date < pd.Timestamp(2013, 4, 18, 12):\n",
        "    return 2013\n",
        "  elif start_2014 < date < pd.Timestamp(2014, 4, 17, 12):\n",
        "    return 2014\n",
        "  elif start_2015 < date < pd.Timestamp(2015, 4, 16, 12):\n",
        "    return 2015\n",
        "  elif start_2016 < date < pd.Timestamp(2016, 4, 14, 12):\n",
        "    return 2016\n",
        "  elif start_2017 < date < pd.Timestamp(2017, 4, 13, 12):\n",
        "    return 2017\n",
        "  elif start_2018 < date < pd.Timestamp(2018, 4, 12, 12):\n",
        "    return 2018\n",
        "  else: \n",
        "    return np.NaN\n",
        "\n",
        "injuries[\"season\"] = injuries[\"date\"].apply(season)\n",
        "\n",
        "# if time -- look at cleaning up this function (case switching)"
      ],
      "execution_count": 0,
      "outputs": []
    },
    {
      "cell_type": "markdown",
      "metadata": {
        "id": "KOVnwU5nrPMH",
        "colab_type": "text"
      },
      "source": [
        "As the timing and total games of the playoffs vary each year depending on how early rounds go, I've chosen to use only regular-season injuries for this data to make year-on-year comparisons valid. I've also omitted injury reports from the offseason (which, from looking at the data set, are typically surgeries on pre-existing conditions which occurred during the season itself). \n"
      ]
    },
    {
      "cell_type": "code",
      "metadata": {
        "id": "lO-JQfrXv-7y",
        "colab_type": "code",
        "colab": {}
      },
      "source": [
        "injuries = injuries[injuries[\"season\"].isnull() == False]"
      ],
      "execution_count": 0,
      "outputs": []
    },
    {
      "cell_type": "code",
      "metadata": {
        "id": "BrBUQI6EVKtW",
        "colab_type": "code",
        "colab": {}
      },
      "source": [
        "def days_since_start(season, date):\n",
        "  if season == 2011:\n",
        "    return (date - start_2011).days\n",
        "  elif season == 2012:\n",
        "    return (date - start_2012).days\n",
        "  elif season == 2013:\n",
        "    return (date - start_2013).days\n",
        "  elif season == 2014:\n",
        "    return (date - start_2014).days\n",
        "  elif season == 2015:\n",
        "    return (date - start_2015).days\n",
        "  elif season == 2016:\n",
        "    return (date - start_2016).days\n",
        "  elif season == 2017:\n",
        "    return (date - start_2017).days\n",
        "  elif season == 2018:\n",
        "    return (date - start_2018).days\n",
        "  "
      ],
      "execution_count": 0,
      "outputs": []
    },
    {
      "cell_type": "code",
      "metadata": {
        "id": "BZGTRNK_WucY",
        "colab_type": "code",
        "colab": {}
      },
      "source": [
        "injuries[\"days_since_start\"] = injuries.apply(lambda x: days_since_start(x.season, x.date), axis = 1)"
      ],
      "execution_count": 0,
      "outputs": []
    },
    {
      "cell_type": "markdown",
      "metadata": {
        "id": "zzvfW9s2uPo_",
        "colab_type": "text"
      },
      "source": [
        "I'm also going to create a binned column so that there's something finer-grained than months but without the variation of individual days."
      ]
    },
    {
      "cell_type": "code",
      "metadata": {
        "id": "Y9rYZxYFTlK5",
        "colab_type": "code",
        "colab": {}
      },
      "source": [
        "injuries[\"binned_days\"] = pd.cut(injuries[\"days_since_start\"], 15, labels = False)"
      ],
      "execution_count": 0,
      "outputs": []
    },
    {
      "cell_type": "markdown",
      "metadata": {
        "id": "NrkEPG2S2voj",
        "colab_type": "text"
      },
      "source": [
        "Now that we have seasons, we can fix another issue with the data. The New Orleans Hornets became the New Orleans Pelicans after the 2013 season. With \"Hornets\" freed, Charlotte ditched the short, ignominious history of the Bobcats to reclaim its historical moniker. Let's adjust for that so that franchises are grouped together."
      ]
    },
    {
      "cell_type": "code",
      "metadata": {
        "id": "uaeiND5a3Cuu",
        "colab_type": "code",
        "colab": {}
      },
      "source": [
        "def clean_teams(team, season):\n",
        "  if (team ==\"Hornets\") & (2011 <= season <= 2013):\n",
        "    return \"Pelicans\"\n",
        "  elif (team == \"Bobcats\") & (2011 <= season <= 2014):\n",
        "    return \"Hornets\"\n",
        "  else:\n",
        "    return team"
      ],
      "execution_count": 0,
      "outputs": []
    },
    {
      "cell_type": "code",
      "metadata": {
        "id": "fDtBUpeM5EGb",
        "colab_type": "code",
        "colab": {}
      },
      "source": [
        "injuries[\"team\"] = injuries.apply(lambda x: clean_teams(x.team, x.season), axis = 1)"
      ],
      "execution_count": 0,
      "outputs": []
    },
    {
      "cell_type": "code",
      "metadata": {
        "id": "67n-eURX3zSp",
        "colab_type": "code",
        "outputId": "5e492637-8eb2-4bff-834a-24a164c5261e",
        "colab": {
          "base_uri": "https://localhost:8080/",
          "height": 0
        }
      },
      "source": [
        "injuries = injuries.sort_values(by = [\"player\", \"date\"])\n",
        "injuries.reset_index()\n",
        "injuries.head()"
      ],
      "execution_count": 106,
      "outputs": [
        {
          "output_type": "execute_result",
          "data": {
            "text/html": [
              "<div>\n",
              "<style scoped>\n",
              "    .dataframe tbody tr th:only-of-type {\n",
              "        vertical-align: middle;\n",
              "    }\n",
              "\n",
              "    .dataframe tbody tr th {\n",
              "        vertical-align: top;\n",
              "    }\n",
              "\n",
              "    .dataframe thead th {\n",
              "        text-align: right;\n",
              "    }\n",
              "</style>\n",
              "<table border=\"1\" class=\"dataframe\">\n",
              "  <thead>\n",
              "    <tr style=\"text-align: right;\">\n",
              "      <th></th>\n",
              "      <th>date</th>\n",
              "      <th>team</th>\n",
              "      <th>player</th>\n",
              "      <th>notes</th>\n",
              "      <th>month</th>\n",
              "      <th>year</th>\n",
              "      <th>season</th>\n",
              "      <th>days_since_start</th>\n",
              "      <th>binned_days</th>\n",
              "    </tr>\n",
              "  </thead>\n",
              "  <tbody>\n",
              "    <tr>\n",
              "      <th>0</th>\n",
              "      <td>2011-02-28</td>\n",
              "      <td>Spurs</td>\n",
              "      <td>(William) Tony Parker</td>\n",
              "      <td>strained left calf muscle (out indefinitely)</td>\n",
              "      <td>5</td>\n",
              "      <td>2011</td>\n",
              "      <td>2011.0</td>\n",
              "      <td>125</td>\n",
              "      <td>10</td>\n",
              "    </tr>\n",
              "    <tr>\n",
              "      <th>1</th>\n",
              "      <td>2011-03-28</td>\n",
              "      <td>Spurs</td>\n",
              "      <td>(William) Tony Parker</td>\n",
              "      <td>bruised left patella (dnp)</td>\n",
              "      <td>6</td>\n",
              "      <td>2011</td>\n",
              "      <td>2011.0</td>\n",
              "      <td>153</td>\n",
              "      <td>12</td>\n",
              "    </tr>\n",
              "    <tr>\n",
              "      <th>2</th>\n",
              "      <td>2011-04-12</td>\n",
              "      <td>Spurs</td>\n",
              "      <td>(William) Tony Parker</td>\n",
              "      <td>rest (dnp)</td>\n",
              "      <td>7</td>\n",
              "      <td>2011</td>\n",
              "      <td>2011.0</td>\n",
              "      <td>168</td>\n",
              "      <td>14</td>\n",
              "    </tr>\n",
              "    <tr>\n",
              "      <th>3</th>\n",
              "      <td>2012-02-21</td>\n",
              "      <td>Spurs</td>\n",
              "      <td>(William) Tony Parker</td>\n",
              "      <td>rest (dnp)</td>\n",
              "      <td>5</td>\n",
              "      <td>2012</td>\n",
              "      <td>2012.0</td>\n",
              "      <td>58</td>\n",
              "      <td>4</td>\n",
              "    </tr>\n",
              "    <tr>\n",
              "      <th>4</th>\n",
              "      <td>2012-03-23</td>\n",
              "      <td>Spurs</td>\n",
              "      <td>(William) Tony Parker</td>\n",
              "      <td>sore left hamstring (dnp)</td>\n",
              "      <td>6</td>\n",
              "      <td>2012</td>\n",
              "      <td>2012.0</td>\n",
              "      <td>89</td>\n",
              "      <td>7</td>\n",
              "    </tr>\n",
              "  </tbody>\n",
              "</table>\n",
              "</div>"
            ],
            "text/plain": [
              "        date   team  ... days_since_start binned_days\n",
              "0 2011-02-28  Spurs  ...              125          10\n",
              "1 2011-03-28  Spurs  ...              153          12\n",
              "2 2011-04-12  Spurs  ...              168          14\n",
              "3 2012-02-21  Spurs  ...               58           4\n",
              "4 2012-03-23  Spurs  ...               89           7\n",
              "\n",
              "[5 rows x 9 columns]"
            ]
          },
          "metadata": {
            "tags": []
          },
          "execution_count": 106
        }
      ]
    },
    {
      "cell_type": "code",
      "metadata": {
        "id": "TwffVvOYXKzl",
        "colab_type": "code",
        "outputId": "83ebca50-123a-4b25-a22b-495b9658f66c",
        "colab": {
          "base_uri": "https://localhost:8080/",
          "height": 0
        }
      },
      "source": [
        "injuries.isnull().sum()"
      ],
      "execution_count": 107,
      "outputs": [
        {
          "output_type": "execute_result",
          "data": {
            "text/plain": [
              "date                0\n",
              "team                0\n",
              "player              0\n",
              "notes               0\n",
              "month               0\n",
              "year                0\n",
              "season              0\n",
              "days_since_start    0\n",
              "binned_days         0\n",
              "dtype: int64"
            ]
          },
          "metadata": {
            "tags": []
          },
          "execution_count": 107
        }
      ]
    },
    {
      "cell_type": "markdown",
      "metadata": {
        "id": "NDueYSSpXMI9",
        "colab_type": "text"
      },
      "source": [
        "Now that the data is clean at a baseline, we can get to analysis. For the remainder of the analysis, it'll be useful to separate rest -- which, after all, is not an injury -- with the actual injuries, such that inferences drawn on the data sets are conceptually valid."
      ]
    },
    {
      "cell_type": "code",
      "metadata": {
        "id": "V3W76a5NXFBI",
        "colab_type": "code",
        "colab": {}
      },
      "source": [
        "rest = injuries[injuries[\"notes\"].str.contains(\"rest\") == True]\n",
        "just_injuries = injuries[injuries[\"notes\"].str.contains(\"rest\") == False].copy()"
      ],
      "execution_count": 0,
      "outputs": []
    },
    {
      "cell_type": "code",
      "metadata": {
        "id": "e-8S6GzM-TFq",
        "colab_type": "code",
        "outputId": "5484c4f3-2a99-49b4-823d-ade958c670f8",
        "colab": {
          "base_uri": "https://localhost:8080/",
          "height": 0
        }
      },
      "source": [
        "for word in [\"achilles\", \"knee\", \"foot\", \"hand\", \"ankle\", \"back\", \"hip\",\n",
        "          \"wrist\", \"hamstring\", \"quadriceps\", \"neck\", \"calf\", \"thumb\",\n",
        "          \"elbow\", \"shoulder\", \"groin\", \"concussion\", \"finger\"]:\n",
        "          just_injuries[word] = just_injuries[\"notes\"].str.contains(word)\n",
        "just_injuries.head()"
      ],
      "execution_count": 109,
      "outputs": [
        {
          "output_type": "execute_result",
          "data": {
            "text/html": [
              "<div>\n",
              "<style scoped>\n",
              "    .dataframe tbody tr th:only-of-type {\n",
              "        vertical-align: middle;\n",
              "    }\n",
              "\n",
              "    .dataframe tbody tr th {\n",
              "        vertical-align: top;\n",
              "    }\n",
              "\n",
              "    .dataframe thead th {\n",
              "        text-align: right;\n",
              "    }\n",
              "</style>\n",
              "<table border=\"1\" class=\"dataframe\">\n",
              "  <thead>\n",
              "    <tr style=\"text-align: right;\">\n",
              "      <th></th>\n",
              "      <th>date</th>\n",
              "      <th>team</th>\n",
              "      <th>player</th>\n",
              "      <th>notes</th>\n",
              "      <th>month</th>\n",
              "      <th>year</th>\n",
              "      <th>season</th>\n",
              "      <th>days_since_start</th>\n",
              "      <th>binned_days</th>\n",
              "      <th>achilles</th>\n",
              "      <th>knee</th>\n",
              "      <th>foot</th>\n",
              "      <th>hand</th>\n",
              "      <th>ankle</th>\n",
              "      <th>back</th>\n",
              "      <th>hip</th>\n",
              "      <th>wrist</th>\n",
              "      <th>hamstring</th>\n",
              "      <th>quadriceps</th>\n",
              "      <th>neck</th>\n",
              "      <th>calf</th>\n",
              "      <th>thumb</th>\n",
              "      <th>elbow</th>\n",
              "      <th>shoulder</th>\n",
              "      <th>groin</th>\n",
              "      <th>concussion</th>\n",
              "      <th>finger</th>\n",
              "    </tr>\n",
              "  </thead>\n",
              "  <tbody>\n",
              "    <tr>\n",
              "      <th>0</th>\n",
              "      <td>2011-02-28</td>\n",
              "      <td>Spurs</td>\n",
              "      <td>(William) Tony Parker</td>\n",
              "      <td>strained left calf muscle (out indefinitely)</td>\n",
              "      <td>5</td>\n",
              "      <td>2011</td>\n",
              "      <td>2011.0</td>\n",
              "      <td>125</td>\n",
              "      <td>10</td>\n",
              "      <td>False</td>\n",
              "      <td>False</td>\n",
              "      <td>False</td>\n",
              "      <td>False</td>\n",
              "      <td>False</td>\n",
              "      <td>False</td>\n",
              "      <td>False</td>\n",
              "      <td>False</td>\n",
              "      <td>False</td>\n",
              "      <td>False</td>\n",
              "      <td>False</td>\n",
              "      <td>True</td>\n",
              "      <td>False</td>\n",
              "      <td>False</td>\n",
              "      <td>False</td>\n",
              "      <td>False</td>\n",
              "      <td>False</td>\n",
              "      <td>False</td>\n",
              "    </tr>\n",
              "    <tr>\n",
              "      <th>1</th>\n",
              "      <td>2011-03-28</td>\n",
              "      <td>Spurs</td>\n",
              "      <td>(William) Tony Parker</td>\n",
              "      <td>bruised left patella (dnp)</td>\n",
              "      <td>6</td>\n",
              "      <td>2011</td>\n",
              "      <td>2011.0</td>\n",
              "      <td>153</td>\n",
              "      <td>12</td>\n",
              "      <td>False</td>\n",
              "      <td>False</td>\n",
              "      <td>False</td>\n",
              "      <td>False</td>\n",
              "      <td>False</td>\n",
              "      <td>False</td>\n",
              "      <td>False</td>\n",
              "      <td>False</td>\n",
              "      <td>False</td>\n",
              "      <td>False</td>\n",
              "      <td>False</td>\n",
              "      <td>False</td>\n",
              "      <td>False</td>\n",
              "      <td>False</td>\n",
              "      <td>False</td>\n",
              "      <td>False</td>\n",
              "      <td>False</td>\n",
              "      <td>False</td>\n",
              "    </tr>\n",
              "    <tr>\n",
              "      <th>4</th>\n",
              "      <td>2012-03-23</td>\n",
              "      <td>Spurs</td>\n",
              "      <td>(William) Tony Parker</td>\n",
              "      <td>sore left hamstring (dnp)</td>\n",
              "      <td>6</td>\n",
              "      <td>2012</td>\n",
              "      <td>2012.0</td>\n",
              "      <td>89</td>\n",
              "      <td>7</td>\n",
              "      <td>False</td>\n",
              "      <td>False</td>\n",
              "      <td>False</td>\n",
              "      <td>False</td>\n",
              "      <td>False</td>\n",
              "      <td>False</td>\n",
              "      <td>False</td>\n",
              "      <td>False</td>\n",
              "      <td>True</td>\n",
              "      <td>False</td>\n",
              "      <td>False</td>\n",
              "      <td>False</td>\n",
              "      <td>False</td>\n",
              "      <td>False</td>\n",
              "      <td>False</td>\n",
              "      <td>False</td>\n",
              "      <td>False</td>\n",
              "      <td>False</td>\n",
              "    </tr>\n",
              "    <tr>\n",
              "      <th>7</th>\n",
              "      <td>2013-02-11</td>\n",
              "      <td>Spurs</td>\n",
              "      <td>(William) Tony Parker</td>\n",
              "      <td>knee injury (dnp)</td>\n",
              "      <td>5</td>\n",
              "      <td>2013</td>\n",
              "      <td>2013.0</td>\n",
              "      <td>104</td>\n",
              "      <td>8</td>\n",
              "      <td>False</td>\n",
              "      <td>True</td>\n",
              "      <td>False</td>\n",
              "      <td>False</td>\n",
              "      <td>False</td>\n",
              "      <td>False</td>\n",
              "      <td>False</td>\n",
              "      <td>False</td>\n",
              "      <td>False</td>\n",
              "      <td>False</td>\n",
              "      <td>False</td>\n",
              "      <td>False</td>\n",
              "      <td>False</td>\n",
              "      <td>False</td>\n",
              "      <td>False</td>\n",
              "      <td>False</td>\n",
              "      <td>False</td>\n",
              "      <td>False</td>\n",
              "    </tr>\n",
              "    <tr>\n",
              "      <th>8</th>\n",
              "      <td>2013-02-24</td>\n",
              "      <td>Spurs</td>\n",
              "      <td>(William) Tony Parker</td>\n",
              "      <td>sore triceps (dnp)</td>\n",
              "      <td>5</td>\n",
              "      <td>2013</td>\n",
              "      <td>2013.0</td>\n",
              "      <td>117</td>\n",
              "      <td>9</td>\n",
              "      <td>False</td>\n",
              "      <td>False</td>\n",
              "      <td>False</td>\n",
              "      <td>False</td>\n",
              "      <td>False</td>\n",
              "      <td>False</td>\n",
              "      <td>False</td>\n",
              "      <td>False</td>\n",
              "      <td>False</td>\n",
              "      <td>False</td>\n",
              "      <td>False</td>\n",
              "      <td>False</td>\n",
              "      <td>False</td>\n",
              "      <td>False</td>\n",
              "      <td>False</td>\n",
              "      <td>False</td>\n",
              "      <td>False</td>\n",
              "      <td>False</td>\n",
              "    </tr>\n",
              "  </tbody>\n",
              "</table>\n",
              "</div>"
            ],
            "text/plain": [
              "        date   team                 player  ...  groin  concussion  finger\n",
              "0 2011-02-28  Spurs  (William) Tony Parker  ...  False       False   False\n",
              "1 2011-03-28  Spurs  (William) Tony Parker  ...  False       False   False\n",
              "4 2012-03-23  Spurs  (William) Tony Parker  ...  False       False   False\n",
              "7 2013-02-11  Spurs  (William) Tony Parker  ...  False       False   False\n",
              "8 2013-02-24  Spurs  (William) Tony Parker  ...  False       False   False\n",
              "\n",
              "[5 rows x 27 columns]"
            ]
          },
          "metadata": {
            "tags": []
          },
          "execution_count": 109
        }
      ]
    },
    {
      "cell_type": "code",
      "metadata": {
        "id": "SLFPNRmXCvCg",
        "colab_type": "code",
        "colab": {}
      },
      "source": [
        "illness = [\"illness\", \"virus\", \"flu\", \"gastroenteritis\", \"stomach\", \"poisoning\", \"infection\", \"bronchitis\", \"cold\"]"
      ],
      "execution_count": 0,
      "outputs": []
    },
    {
      "cell_type": "code",
      "metadata": {
        "id": "lF2bNRFsEHPe",
        "colab_type": "code",
        "colab": {}
      },
      "source": [
        "def test_string(word):\n",
        "  return any(string in word for string in illness)\n",
        "\n",
        "just_injuries[\"illness\"] = just_injuries[\"notes\"].apply(test_string)"
      ],
      "execution_count": 0,
      "outputs": []
    },
    {
      "cell_type": "code",
      "metadata": {
        "id": "Jkm4SWzSCktH",
        "colab_type": "code",
        "outputId": "ea02d469-134d-45ef-e71c-aa1a575e366d",
        "colab": {
          "base_uri": "https://localhost:8080/",
          "height": 0
        }
      },
      "source": [
        "just_injuries.select_dtypes(include=['bool']).sum()"
      ],
      "execution_count": 112,
      "outputs": [
        {
          "output_type": "execute_result",
          "data": {
            "text/plain": [
              "achilles       85\n",
              "knee          880\n",
              "foot          250\n",
              "hand           70\n",
              "ankle         767\n",
              "back          349\n",
              "hip           159\n",
              "wrist         101\n",
              "hamstring     184\n",
              "quadriceps     39\n",
              "neck           24\n",
              "calf          131\n",
              "thumb          62\n",
              "elbow          62\n",
              "shoulder      194\n",
              "groin         127\n",
              "concussion     80\n",
              "finger         47\n",
              "illness       454\n",
              "dtype: int64"
            ]
          },
          "metadata": {
            "tags": []
          },
          "execution_count": 112
        }
      ]
    },
    {
      "cell_type": "markdown",
      "metadata": {
        "id": "eCVrOyTMVFvk",
        "colab_type": "text"
      },
      "source": [
        "From looking at this, I think it might be more beneficial to group some of these."
      ]
    },
    {
      "cell_type": "markdown",
      "metadata": {
        "id": "anuLe96UZck4",
        "colab_type": "text"
      },
      "source": [
        "# Exploration and Analysis"
      ]
    },
    {
      "cell_type": "markdown",
      "metadata": {
        "id": "Yw92ncwVvTyo",
        "colab_type": "text"
      },
      "source": [
        "##Player Injuries"
      ]
    },
    {
      "cell_type": "markdown",
      "metadata": {
        "id": "lbVgWLlB6uJs",
        "colab_type": "text"
      },
      "source": [
        "The first thing I was curious about was the most frequently injured players."
      ]
    },
    {
      "cell_type": "code",
      "metadata": {
        "id": "H5_zqOxN60zJ",
        "colab_type": "code",
        "outputId": "03deb6b7-abb7-48a7-ad53-03cc198bff0c",
        "colab": {
          "base_uri": "https://localhost:8080/",
          "height": 221
        }
      },
      "source": [
        "just_injuries[\"player\"].value_counts()"
      ],
      "execution_count": 113,
      "outputs": [
        {
          "output_type": "execute_result",
          "data": {
            "text/plain": [
              "Tyreke Evans                                33\n",
              "Jameer Nelson                               33\n",
              "Danilo Gallinari                            31\n",
              "Nene / Nene Hilario / Maybyner Hilario      31\n",
              "Anthony Davis                               29\n",
              "                                            ..\n",
              "Melvin Ely                                   1\n",
              "Jan Vesely                                   1\n",
              "Johnny O'Bryant III                          1\n",
              "Tyler Ulis                                   1\n",
              "Timothe Luwawu / Timothe Luwawu-Cabarrot     1\n",
              "Name: player, Length: 743, dtype: int64"
            ]
          },
          "metadata": {
            "tags": []
          },
          "execution_count": 113
        }
      ]
    },
    {
      "cell_type": "code",
      "metadata": {
        "id": "lhU51gNh75zc",
        "colab_type": "code",
        "outputId": "dc956067-0dac-459f-a2d9-44e6662e4557",
        "colab": {
          "base_uri": "https://localhost:8080/",
          "height": 527
        }
      },
      "source": [
        "just_injuries[just_injuries[\"player\"] == \"Kevin Love\"][\"notes\"]"
      ],
      "execution_count": 114,
      "outputs": [
        {
          "output_type": "execute_result",
          "data": {
            "text/plain": [
              "3047                            strained left groin (dtd)\n",
              "3048                            strained left groin (dnp)\n",
              "3049                                    back spasms (dnp)\n",
              "3050                                     concussion (dnp)\n",
              "3052             flu (p) / right thumb injury (cbc) (dnp)\n",
              "3053                                left eye injury (dnp)\n",
              "3054                    fractured right hand/finger (dnp)\n",
              "3055        surgery to repair fractured right hand/finger\n",
              "3056    recovering from surgery to repair fractured ri...\n",
              "3057    surgery on left knee to remove scar tissue (ou...\n",
              "3058                                     stiff neck (dnp)\n",
              "3059                        bruised left quadriceps (dnp)\n",
              "3060                                    back spasms (dnp)\n",
              "3061                      hyperextended right elbow (dnp)\n",
              "3062                                    back spasms (dtd)\n",
              "3063                                    back spasms (dtd)\n",
              "3064                               right eye injury (dtd)\n",
              "3067                        bruised left quadriceps (dtd)\n",
              "3068                                       sore leg (dtd)\n",
              "3069                               left knee injury (dtd)\n",
              "3070                                        illness (dtd)\n",
              "3074                              bruised left knee (dtd)\n",
              "3075                                        illness (dtd)\n",
              "3076                                sore lower back (dtd)\n",
              "3077                              lower back spasms (dtd)\n",
              "3078                               left knee injury (dtd)\n",
              "3081                                  sore left hip (dtd)\n",
              "3082               fractured left hand (out indefinitely)\n",
              "3083                        concussion (out indefinitely)\n",
              "Name: notes, dtype: object"
            ]
          },
          "metadata": {
            "tags": []
          },
          "execution_count": 114
        }
      ]
    },
    {
      "cell_type": "markdown",
      "metadata": {
        "id": "e4TG4Vtk8Nkc",
        "colab_type": "text"
      },
      "source": [
        "The procedure for distinguishing different injuries was not quite perfect (I deemed it impractical for the purposes of this analysis to go line by line). Nevertheless: ouch. \n",
        "\n",
        "As a lesson in overcoming adversity: Kevin Love signed a 4-year, $120,000,000 contract extension this past offseason."
      ]
    },
    {
      "cell_type": "markdown",
      "metadata": {
        "id": "JLvy9uwgvpt3",
        "colab_type": "text"
      },
      "source": [
        "##Injury Rates and Seasons"
      ]
    },
    {
      "cell_type": "markdown",
      "metadata": {
        "id": "RnSHWCSBTzIP",
        "colab_type": "text"
      },
      "source": [
        "To look at how injury rates have changed across seasons, I created a data frame of the sum of each type of injury grouped by season. I then scale the 2012 season to take into account the 2011 NBA lockout, reset the value of 2012 itself, and drop the columns that no longer make conceptual sense once summed."
      ]
    },
    {
      "cell_type": "code",
      "metadata": {
        "id": "MLEkw6lJEaRi",
        "colab_type": "code",
        "colab": {}
      },
      "source": [
        "lockout_factor = (82/66)\n",
        "\n",
        "seasons = just_injuries.groupby(\"season\", as_index = False).sum()\n",
        "seasons.iloc[1] = round(seasons.iloc[1] * lockout_factor, 2) \n",
        "seasons[\"season\"][1] = 2012\n",
        "seasons = seasons.drop([\"month\", \"year\", \"days_since_start\"], axis = 1)"
      ],
      "execution_count": 0,
      "outputs": []
    },
    {
      "cell_type": "code",
      "metadata": {
        "id": "tgLgsEYaGMHM",
        "colab_type": "code",
        "outputId": "c4cf0303-8dd9-4f10-b46d-0cc22780d195",
        "colab": {
          "base_uri": "https://localhost:8080/",
          "height": 297
        }
      },
      "source": [
        "seasons.head(8)"
      ],
      "execution_count": 116,
      "outputs": [
        {
          "output_type": "execute_result",
          "data": {
            "text/html": [
              "<div>\n",
              "<style scoped>\n",
              "    .dataframe tbody tr th:only-of-type {\n",
              "        vertical-align: middle;\n",
              "    }\n",
              "\n",
              "    .dataframe tbody tr th {\n",
              "        vertical-align: top;\n",
              "    }\n",
              "\n",
              "    .dataframe thead th {\n",
              "        text-align: right;\n",
              "    }\n",
              "</style>\n",
              "<table border=\"1\" class=\"dataframe\">\n",
              "  <thead>\n",
              "    <tr style=\"text-align: right;\">\n",
              "      <th></th>\n",
              "      <th>season</th>\n",
              "      <th>binned_days</th>\n",
              "      <th>achilles</th>\n",
              "      <th>knee</th>\n",
              "      <th>foot</th>\n",
              "      <th>hand</th>\n",
              "      <th>ankle</th>\n",
              "      <th>back</th>\n",
              "      <th>hip</th>\n",
              "      <th>wrist</th>\n",
              "      <th>hamstring</th>\n",
              "      <th>quadriceps</th>\n",
              "      <th>neck</th>\n",
              "      <th>calf</th>\n",
              "      <th>thumb</th>\n",
              "      <th>elbow</th>\n",
              "      <th>shoulder</th>\n",
              "      <th>groin</th>\n",
              "      <th>concussion</th>\n",
              "      <th>finger</th>\n",
              "      <th>illness</th>\n",
              "    </tr>\n",
              "  </thead>\n",
              "  <tbody>\n",
              "    <tr>\n",
              "      <th>0</th>\n",
              "      <td>2011.0</td>\n",
              "      <td>3442.00</td>\n",
              "      <td>6.00</td>\n",
              "      <td>102.00</td>\n",
              "      <td>39.00</td>\n",
              "      <td>1.00</td>\n",
              "      <td>72.0</td>\n",
              "      <td>39.00</td>\n",
              "      <td>11.00</td>\n",
              "      <td>14.00</td>\n",
              "      <td>15.00</td>\n",
              "      <td>7.00</td>\n",
              "      <td>2.0</td>\n",
              "      <td>13.00</td>\n",
              "      <td>7.00</td>\n",
              "      <td>6.0</td>\n",
              "      <td>14.00</td>\n",
              "      <td>13.00</td>\n",
              "      <td>5.00</td>\n",
              "      <td>5.00</td>\n",
              "      <td>50.00</td>\n",
              "    </tr>\n",
              "    <tr>\n",
              "      <th>1</th>\n",
              "      <td>2012.0</td>\n",
              "      <td>3530.97</td>\n",
              "      <td>14.91</td>\n",
              "      <td>119.27</td>\n",
              "      <td>38.52</td>\n",
              "      <td>4.97</td>\n",
              "      <td>123.0</td>\n",
              "      <td>60.88</td>\n",
              "      <td>18.64</td>\n",
              "      <td>11.18</td>\n",
              "      <td>24.85</td>\n",
              "      <td>6.21</td>\n",
              "      <td>0.0</td>\n",
              "      <td>17.39</td>\n",
              "      <td>4.97</td>\n",
              "      <td>8.7</td>\n",
              "      <td>33.55</td>\n",
              "      <td>37.27</td>\n",
              "      <td>16.15</td>\n",
              "      <td>6.21</td>\n",
              "      <td>62.12</td>\n",
              "    </tr>\n",
              "    <tr>\n",
              "      <th>2</th>\n",
              "      <td>2013.0</td>\n",
              "      <td>4324.00</td>\n",
              "      <td>7.00</td>\n",
              "      <td>123.00</td>\n",
              "      <td>37.00</td>\n",
              "      <td>11.00</td>\n",
              "      <td>108.0</td>\n",
              "      <td>45.00</td>\n",
              "      <td>22.00</td>\n",
              "      <td>5.00</td>\n",
              "      <td>23.00</td>\n",
              "      <td>6.00</td>\n",
              "      <td>7.0</td>\n",
              "      <td>17.00</td>\n",
              "      <td>9.00</td>\n",
              "      <td>14.0</td>\n",
              "      <td>27.00</td>\n",
              "      <td>19.00</td>\n",
              "      <td>10.00</td>\n",
              "      <td>10.00</td>\n",
              "      <td>67.00</td>\n",
              "    </tr>\n",
              "    <tr>\n",
              "      <th>3</th>\n",
              "      <td>2014.0</td>\n",
              "      <td>4401.00</td>\n",
              "      <td>9.00</td>\n",
              "      <td>143.00</td>\n",
              "      <td>38.00</td>\n",
              "      <td>14.00</td>\n",
              "      <td>110.0</td>\n",
              "      <td>53.00</td>\n",
              "      <td>14.00</td>\n",
              "      <td>15.00</td>\n",
              "      <td>31.00</td>\n",
              "      <td>4.00</td>\n",
              "      <td>4.0</td>\n",
              "      <td>21.00</td>\n",
              "      <td>5.00</td>\n",
              "      <td>7.0</td>\n",
              "      <td>19.00</td>\n",
              "      <td>13.00</td>\n",
              "      <td>2.00</td>\n",
              "      <td>5.00</td>\n",
              "      <td>65.00</td>\n",
              "    </tr>\n",
              "    <tr>\n",
              "      <th>4</th>\n",
              "      <td>2015.0</td>\n",
              "      <td>4047.00</td>\n",
              "      <td>12.00</td>\n",
              "      <td>78.00</td>\n",
              "      <td>18.00</td>\n",
              "      <td>12.00</td>\n",
              "      <td>95.0</td>\n",
              "      <td>47.00</td>\n",
              "      <td>23.00</td>\n",
              "      <td>12.00</td>\n",
              "      <td>22.00</td>\n",
              "      <td>3.00</td>\n",
              "      <td>3.0</td>\n",
              "      <td>16.00</td>\n",
              "      <td>7.00</td>\n",
              "      <td>11.0</td>\n",
              "      <td>27.00</td>\n",
              "      <td>15.00</td>\n",
              "      <td>11.00</td>\n",
              "      <td>5.00</td>\n",
              "      <td>59.00</td>\n",
              "    </tr>\n",
              "    <tr>\n",
              "      <th>5</th>\n",
              "      <td>2016.0</td>\n",
              "      <td>4331.00</td>\n",
              "      <td>12.00</td>\n",
              "      <td>115.00</td>\n",
              "      <td>32.00</td>\n",
              "      <td>6.00</td>\n",
              "      <td>82.0</td>\n",
              "      <td>53.00</td>\n",
              "      <td>26.00</td>\n",
              "      <td>10.00</td>\n",
              "      <td>24.00</td>\n",
              "      <td>4.00</td>\n",
              "      <td>2.0</td>\n",
              "      <td>16.00</td>\n",
              "      <td>9.00</td>\n",
              "      <td>4.0</td>\n",
              "      <td>37.00</td>\n",
              "      <td>12.00</td>\n",
              "      <td>14.00</td>\n",
              "      <td>7.00</td>\n",
              "      <td>61.00</td>\n",
              "    </tr>\n",
              "    <tr>\n",
              "      <th>6</th>\n",
              "      <td>2017.0</td>\n",
              "      <td>4079.00</td>\n",
              "      <td>16.00</td>\n",
              "      <td>111.00</td>\n",
              "      <td>32.00</td>\n",
              "      <td>10.00</td>\n",
              "      <td>97.0</td>\n",
              "      <td>30.00</td>\n",
              "      <td>28.00</td>\n",
              "      <td>19.00</td>\n",
              "      <td>33.00</td>\n",
              "      <td>5.00</td>\n",
              "      <td>1.0</td>\n",
              "      <td>22.00</td>\n",
              "      <td>13.00</td>\n",
              "      <td>5.0</td>\n",
              "      <td>19.00</td>\n",
              "      <td>14.00</td>\n",
              "      <td>11.00</td>\n",
              "      <td>7.00</td>\n",
              "      <td>61.00</td>\n",
              "    </tr>\n",
              "    <tr>\n",
              "      <th>7</th>\n",
              "      <td>2018.0</td>\n",
              "      <td>4079.00</td>\n",
              "      <td>11.00</td>\n",
              "      <td>112.00</td>\n",
              "      <td>23.00</td>\n",
              "      <td>12.00</td>\n",
              "      <td>104.0</td>\n",
              "      <td>33.00</td>\n",
              "      <td>20.00</td>\n",
              "      <td>17.00</td>\n",
              "      <td>16.00</td>\n",
              "      <td>5.00</td>\n",
              "      <td>5.0</td>\n",
              "      <td>12.00</td>\n",
              "      <td>8.00</td>\n",
              "      <td>8.0</td>\n",
              "      <td>24.00</td>\n",
              "      <td>11.00</td>\n",
              "      <td>14.00</td>\n",
              "      <td>3.00</td>\n",
              "      <td>41.00</td>\n",
              "    </tr>\n",
              "  </tbody>\n",
              "</table>\n",
              "</div>"
            ],
            "text/plain": [
              "   season  binned_days  achilles    knee  ...  groin  concussion  finger  illness\n",
              "0  2011.0      3442.00      6.00  102.00  ...  13.00        5.00    5.00    50.00\n",
              "1  2012.0      3530.97     14.91  119.27  ...  37.27       16.15    6.21    62.12\n",
              "2  2013.0      4324.00      7.00  123.00  ...  19.00       10.00   10.00    67.00\n",
              "3  2014.0      4401.00      9.00  143.00  ...  13.00        2.00    5.00    65.00\n",
              "4  2015.0      4047.00     12.00   78.00  ...  15.00       11.00    5.00    59.00\n",
              "5  2016.0      4331.00     12.00  115.00  ...  12.00       14.00    7.00    61.00\n",
              "6  2017.0      4079.00     16.00  111.00  ...  14.00       11.00    7.00    61.00\n",
              "7  2018.0      4079.00     11.00  112.00  ...  11.00       14.00    3.00    41.00\n",
              "\n",
              "[8 rows x 21 columns]"
            ]
          },
          "metadata": {
            "tags": []
          },
          "execution_count": 116
        }
      ]
    },
    {
      "cell_type": "markdown",
      "metadata": {
        "id": "xKgDlMzIwxC_",
        "colab_type": "text"
      },
      "source": [
        "This is a placeholder for any analysis of how rates of a specific injury vary by season."
      ]
    },
    {
      "cell_type": "code",
      "metadata": {
        "id": "eWr2gnz1E6MI",
        "colab_type": "code",
        "outputId": "74e1ccb8-d216-4ca8-80e9-a6d6f50f5d75",
        "colab": {
          "base_uri": "https://localhost:8080/",
          "height": 297
        }
      },
      "source": [
        "seasonal_totals = pd.DataFrame(just_injuries[\"season\"].value_counts())\n",
        "seasonal_totals = seasonal_totals.reset_index()\n",
        "seasonal_totals.columns = [\"season\", \"injuries\"]\n",
        "seasonal_totals = seasonal_totals.sort_values(by = \"season\")\n",
        "seasonal_totals = seasonal_totals.reset_index(drop = True)\n",
        "\n",
        "adj_seasonal_totals = seasonal_totals.copy()\n",
        "adj_seasonal_totals.iloc[1, 1] = round((adj_seasonal_totals.iloc[1,1] * lockout_factor), 2)\n",
        "adj_seasonal_totals"
      ],
      "execution_count": 117,
      "outputs": [
        {
          "output_type": "execute_result",
          "data": {
            "text/html": [
              "<div>\n",
              "<style scoped>\n",
              "    .dataframe tbody tr th:only-of-type {\n",
              "        vertical-align: middle;\n",
              "    }\n",
              "\n",
              "    .dataframe tbody tr th {\n",
              "        vertical-align: top;\n",
              "    }\n",
              "\n",
              "    .dataframe thead th {\n",
              "        text-align: right;\n",
              "    }\n",
              "</style>\n",
              "<table border=\"1\" class=\"dataframe\">\n",
              "  <thead>\n",
              "    <tr style=\"text-align: right;\">\n",
              "      <th></th>\n",
              "      <th>season</th>\n",
              "      <th>injuries</th>\n",
              "    </tr>\n",
              "  </thead>\n",
              "  <tbody>\n",
              "    <tr>\n",
              "      <th>0</th>\n",
              "      <td>2011.0</td>\n",
              "      <td>457.00</td>\n",
              "    </tr>\n",
              "    <tr>\n",
              "      <th>1</th>\n",
              "      <td>2012.0</td>\n",
              "      <td>690.79</td>\n",
              "    </tr>\n",
              "    <tr>\n",
              "      <th>2</th>\n",
              "      <td>2013.0</td>\n",
              "      <td>595.00</td>\n",
              "    </tr>\n",
              "    <tr>\n",
              "      <th>3</th>\n",
              "      <td>2014.0</td>\n",
              "      <td>625.00</td>\n",
              "    </tr>\n",
              "    <tr>\n",
              "      <th>4</th>\n",
              "      <td>2015.0</td>\n",
              "      <td>540.00</td>\n",
              "    </tr>\n",
              "    <tr>\n",
              "      <th>5</th>\n",
              "      <td>2016.0</td>\n",
              "      <td>608.00</td>\n",
              "    </tr>\n",
              "    <tr>\n",
              "      <th>6</th>\n",
              "      <td>2017.0</td>\n",
              "      <td>585.00</td>\n",
              "    </tr>\n",
              "    <tr>\n",
              "      <th>7</th>\n",
              "      <td>2018.0</td>\n",
              "      <td>546.00</td>\n",
              "    </tr>\n",
              "  </tbody>\n",
              "</table>\n",
              "</div>"
            ],
            "text/plain": [
              "   season  injuries\n",
              "0  2011.0    457.00\n",
              "1  2012.0    690.79\n",
              "2  2013.0    595.00\n",
              "3  2014.0    625.00\n",
              "4  2015.0    540.00\n",
              "5  2016.0    608.00\n",
              "6  2017.0    585.00\n",
              "7  2018.0    546.00"
            ]
          },
          "metadata": {
            "tags": []
          },
          "execution_count": 117
        }
      ]
    },
    {
      "cell_type": "code",
      "metadata": {
        "id": "nAbfbeA-IH5O",
        "colab_type": "code",
        "outputId": "d651cba1-36d6-49c6-e841-6a5d1f42d420",
        "colab": {
          "base_uri": "https://localhost:8080/",
          "height": 287
        }
      },
      "source": [
        "sns.lineplot(x = adj_seasonal_totals[\"season\"], y = adj_seasonal_totals[\"injuries\"])\n",
        "plt.show()"
      ],
      "execution_count": 118,
      "outputs": [
        {
          "output_type": "display_data",
          "data": {
            "image/png": "[encoded data removed]",
            "text/plain": [
              "<Figure size 432x288 with 1 Axes>"
            ]
          },
          "metadata": {
            "tags": []
          }
        }
      ]
    },
    {
      "cell_type": "markdown",
      "metadata": {
        "id": "slqv0f8WADQG",
        "colab_type": "text"
      },
      "source": [
        "It looks like, when adjusted for the number of games played, the lockout-shortened 2012 season had the most injuries by far. I want to investigate whether this difference is statistically significant. I can't use the adjusted totals -- if the null hypothesis that this difference is due to chance were true, then we would expect the missed 16 games of the season to be filled in with the mean injury rate across all seasons, not with the mean injury rate for 2012.\n",
        "\n",
        "To account for this, I convert the 2012 number into \"injuries per game\" with a sample size of 66 and compare it to the mean injuries per game across the entire sample."
      ]
    },
    {
      "cell_type": "code",
      "metadata": {
        "id": "vs53pbELEQZQ",
        "colab_type": "code",
        "outputId": "d9ef5623-405c-41d1-cd07-9bb0802eeb85",
        "colab": {
          "base_uri": "https://localhost:8080/",
          "height": 51
        }
      },
      "source": [
        "injuries_per_game = seasonal_totals[\"injuries\"].sum() / (82 * 7 + 66)\n",
        "print(injuries_per_game)\n",
        "lockout_ipg = seasonal_totals[\"injuries\"][1] / 66\n",
        "print(lockout_ipg)\n",
        "\n",
        "#6.89 without lockout year"
      ],
      "execution_count": 119,
      "outputs": [
        {
          "output_type": "stream",
          "text": [
            "7.05\n",
            "8.424242424242424\n"
          ],
          "name": "stdout"
        }
      ]
    },
    {
      "cell_type": "markdown",
      "metadata": {
        "id": "1iSxkQLNGA7a",
        "colab_type": "text"
      },
      "source": [
        "def confidence_interval(data, =n = 66\n",
        "dof = n-1\n",
        "mean = 10.466\n",
        "std = "
      ]
    },
    {
      "cell_type": "markdown",
      "metadata": {
        "id": "YCcdE4Jyw_Az",
        "colab_type": "text"
      },
      "source": [
        "##Injuries Within Seasons"
      ]
    },
    {
      "cell_type": "code",
      "metadata": {
        "id": "q5NmlA0Kk77I",
        "colab_type": "code",
        "colab": {}
      },
      "source": [
        "season_progressions = just_injuries.groupby(by = [\"season\", \"binned_days\"]).count()"
      ],
      "execution_count": 0,
      "outputs": []
    },
    {
      "cell_type": "code",
      "metadata": {
        "id": "-HKCAZvplXia",
        "colab_type": "code",
        "outputId": "e45c3978-ffbb-4d90-f0dc-a03c0eb9bb44",
        "colab": {
          "base_uri": "https://localhost:8080/",
          "height": 204
        }
      },
      "source": [
        "season_progressions = season_progressions.reset_index()\n",
        "season_progressions = season_progressions[[\"season\", \"binned_days\", \"date\"]]\n",
        "season_progressions.columns = [\"season\", \"binned_days\", \"n_injuries\"]"
      ],
      "execution_count": 121,
      "outputs": [
        {
          "output_type": "execute_result",
          "data": {
            "text/html": [
              "<div>\n",
              "<style scoped>\n",
              "    .dataframe tbody tr th:only-of-type {\n",
              "        vertical-align: middle;\n",
              "    }\n",
              "\n",
              "    .dataframe tbody tr th {\n",
              "        vertical-align: top;\n",
              "    }\n",
              "\n",
              "    .dataframe thead th {\n",
              "        text-align: right;\n",
              "    }\n",
              "</style>\n",
              "<table border=\"1\" class=\"dataframe\">\n",
              "  <thead>\n",
              "    <tr style=\"text-align: right;\">\n",
              "      <th></th>\n",
              "      <th>season</th>\n",
              "      <th>binned_days</th>\n",
              "      <th>n_injuries</th>\n",
              "    </tr>\n",
              "  </thead>\n",
              "  <tbody>\n",
              "    <tr>\n",
              "      <th>0</th>\n",
              "      <td>2011.0</td>\n",
              "      <td>0</td>\n",
              "      <td>19</td>\n",
              "    </tr>\n",
              "    <tr>\n",
              "      <th>1</th>\n",
              "      <td>2011.0</td>\n",
              "      <td>1</td>\n",
              "      <td>20</td>\n",
              "    </tr>\n",
              "    <tr>\n",
              "      <th>2</th>\n",
              "      <td>2011.0</td>\n",
              "      <td>2</td>\n",
              "      <td>24</td>\n",
              "    </tr>\n",
              "    <tr>\n",
              "      <th>3</th>\n",
              "      <td>2011.0</td>\n",
              "      <td>3</td>\n",
              "      <td>29</td>\n",
              "    </tr>\n",
              "    <tr>\n",
              "      <th>4</th>\n",
              "      <td>2011.0</td>\n",
              "      <td>4</td>\n",
              "      <td>35</td>\n",
              "    </tr>\n",
              "  </tbody>\n",
              "</table>\n",
              "</div>"
            ],
            "text/plain": [
              "   season  binned_days  n_injuries\n",
              "0  2011.0            0          19\n",
              "1  2011.0            1          20\n",
              "2  2011.0            2          24\n",
              "3  2011.0            3          29\n",
              "4  2011.0            4          35"
            ]
          },
          "metadata": {
            "tags": []
          },
          "execution_count": 121
        }
      ]
    },
    {
      "cell_type": "code",
      "metadata": {
        "id": "D-F9-HmIOqJL",
        "colab_type": "code",
        "colab": {}
      },
      "source": [
        "lockout_progression = season_progressions[season_progressions[\"season\"] == 2012]"
      ],
      "execution_count": 0,
      "outputs": []
    },
    {
      "cell_type": "code",
      "metadata": {
        "id": "DpYoZOVMSM1p",
        "colab_type": "code",
        "colab": {}
      },
      "source": [
        "def bin_seasons(season):\n",
        "  if season in [2011, 2013, 2014, 2015, 2016, 2017, 2018]:\n",
        "    return True\n",
        "  else: \n",
        "    return False\n",
        "\n",
        "non_lockouts = season_progressions[season_progressions[\"season\"].apply(bin_seasons)]"
      ],
      "execution_count": 0,
      "outputs": []
    },
    {
      "cell_type": "code",
      "metadata": {
        "id": "31CnkbWdmxWo",
        "colab_type": "code",
        "outputId": "8127b244-d0bc-41ba-f261-8261f51f1697",
        "colab": {
          "base_uri": "https://localhost:8080/",
          "height": 204
        }
      },
      "source": [
        "non_lockouts.head()"
      ],
      "execution_count": 156,
      "outputs": [
        {
          "output_type": "execute_result",
          "data": {
            "text/html": [
              "<div>\n",
              "<style scoped>\n",
              "    .dataframe tbody tr th:only-of-type {\n",
              "        vertical-align: middle;\n",
              "    }\n",
              "\n",
              "    .dataframe tbody tr th {\n",
              "        vertical-align: top;\n",
              "    }\n",
              "\n",
              "    .dataframe thead th {\n",
              "        text-align: right;\n",
              "    }\n",
              "</style>\n",
              "<table border=\"1\" class=\"dataframe\">\n",
              "  <thead>\n",
              "    <tr style=\"text-align: right;\">\n",
              "      <th></th>\n",
              "      <th>season</th>\n",
              "      <th>binned_days</th>\n",
              "      <th>n_injuries</th>\n",
              "    </tr>\n",
              "  </thead>\n",
              "  <tbody>\n",
              "    <tr>\n",
              "      <th>0</th>\n",
              "      <td>2011.0</td>\n",
              "      <td>0</td>\n",
              "      <td>19</td>\n",
              "    </tr>\n",
              "    <tr>\n",
              "      <th>1</th>\n",
              "      <td>2011.0</td>\n",
              "      <td>1</td>\n",
              "      <td>20</td>\n",
              "    </tr>\n",
              "    <tr>\n",
              "      <th>2</th>\n",
              "      <td>2011.0</td>\n",
              "      <td>2</td>\n",
              "      <td>24</td>\n",
              "    </tr>\n",
              "    <tr>\n",
              "      <th>3</th>\n",
              "      <td>2011.0</td>\n",
              "      <td>3</td>\n",
              "      <td>29</td>\n",
              "    </tr>\n",
              "    <tr>\n",
              "      <th>4</th>\n",
              "      <td>2011.0</td>\n",
              "      <td>4</td>\n",
              "      <td>35</td>\n",
              "    </tr>\n",
              "  </tbody>\n",
              "</table>\n",
              "</div>"
            ],
            "text/plain": [
              "   season  binned_days  n_injuries\n",
              "0  2011.0            0          19\n",
              "1  2011.0            1          20\n",
              "2  2011.0            2          24\n",
              "3  2011.0            3          29\n",
              "4  2011.0            4          35"
            ]
          },
          "metadata": {
            "tags": []
          },
          "execution_count": 156
        }
      ]
    },
    {
      "cell_type": "code",
      "metadata": {
        "id": "NrLWgQIXmCzt",
        "colab_type": "code",
        "outputId": "7f68eff4-66e4-448f-9d4c-9a96cd778fe9",
        "colab": {
          "base_uri": "https://localhost:8080/",
          "height": 339
        }
      },
      "source": [
        "fig, ax = plt.subplots(figsize = (20, 5))\n",
        "sns.lineplot(x = non_lockouts[\"binned_days\"], y = non_lockouts[\"n_injuries\"])\n",
        "sns.lineplot(x = lockout_progression[\"binned_days\"], y = lockout_progression[\"n_injuries\"])\n",
        "plt.show()"
      ],
      "execution_count": 157,
      "outputs": [
        {
          "output_type": "display_data",
          "data": {
            "image/png": "[encoded data removed]",
            "text/plain": [
              "<Figure size 1440x360 with 1 Axes>"
            ]
          },
          "metadata": {
            "tags": []
          }
        }
      ]
    },
    {
      "cell_type": "markdown",
      "metadata": {
        "id": "l0TKRKE5TmCB",
        "colab_type": "text"
      },
      "source": [
        "We can see from the confidence intervals surrounding the bins that there's a meaningful trend in injury increase between bin 1 and bin 8, then a decrease due to the All-Star break, which seems to temporarily reset injury rates. However, it only takes a few weeks for injury rates to go back up to their pre-ASB levels, which they then exceed."
      ]
    },
    {
      "cell_type": "markdown",
      "metadata": {
        "id": "tC5Sh7Dk1sRK",
        "colab_type": "text"
      },
      "source": [
        "##Analyzing Rest"
      ]
    },
    {
      "cell_type": "code",
      "metadata": {
        "id": "e7XEvjfb1oj0",
        "colab_type": "code",
        "outputId": "1969dd9a-19ea-4694-b11b-6642f92085ca",
        "colab": {
          "base_uri": "https://localhost:8080/",
          "height": 297
        }
      },
      "source": [
        "rest_totals = pd.DataFrame(rest[\"season\"].value_counts())\n",
        "rest_totals = rest_totals.reset_index()\n",
        "rest_totals.columns = [\"season\", \"days of rest\"]\n",
        "rest_totals = rest_totals.sort_values(by = \"season\")\n",
        "rest_totals = rest_totals.reset_index(drop = True)\n",
        "rest_totals.iloc[1, 1] = round((rest_totals.iloc[1,1] * 82/66), 2)\n",
        "rest_totals"
      ],
      "execution_count": 124,
      "outputs": [
        {
          "output_type": "execute_result",
          "data": {
            "text/html": [
              "<div>\n",
              "<style scoped>\n",
              "    .dataframe tbody tr th:only-of-type {\n",
              "        vertical-align: middle;\n",
              "    }\n",
              "\n",
              "    .dataframe tbody tr th {\n",
              "        vertical-align: top;\n",
              "    }\n",
              "\n",
              "    .dataframe thead th {\n",
              "        text-align: right;\n",
              "    }\n",
              "</style>\n",
              "<table border=\"1\" class=\"dataframe\">\n",
              "  <thead>\n",
              "    <tr style=\"text-align: right;\">\n",
              "      <th></th>\n",
              "      <th>season</th>\n",
              "      <th>days of rest</th>\n",
              "    </tr>\n",
              "  </thead>\n",
              "  <tbody>\n",
              "    <tr>\n",
              "      <th>0</th>\n",
              "      <td>2011.0</td>\n",
              "      <td>33.00</td>\n",
              "    </tr>\n",
              "    <tr>\n",
              "      <th>1</th>\n",
              "      <td>2012.0</td>\n",
              "      <td>89.45</td>\n",
              "    </tr>\n",
              "    <tr>\n",
              "      <th>2</th>\n",
              "      <td>2013.0</td>\n",
              "      <td>31.00</td>\n",
              "    </tr>\n",
              "    <tr>\n",
              "      <th>3</th>\n",
              "      <td>2014.0</td>\n",
              "      <td>61.00</td>\n",
              "    </tr>\n",
              "    <tr>\n",
              "      <th>4</th>\n",
              "      <td>2015.0</td>\n",
              "      <td>65.00</td>\n",
              "    </tr>\n",
              "    <tr>\n",
              "      <th>5</th>\n",
              "      <td>2016.0</td>\n",
              "      <td>108.00</td>\n",
              "    </tr>\n",
              "    <tr>\n",
              "      <th>6</th>\n",
              "      <td>2017.0</td>\n",
              "      <td>130.00</td>\n",
              "    </tr>\n",
              "    <tr>\n",
              "      <th>7</th>\n",
              "      <td>2018.0</td>\n",
              "      <td>42.00</td>\n",
              "    </tr>\n",
              "  </tbody>\n",
              "</table>\n",
              "</div>"
            ],
            "text/plain": [
              "   season  days of rest\n",
              "0  2011.0         33.00\n",
              "1  2012.0         89.45\n",
              "2  2013.0         31.00\n",
              "3  2014.0         61.00\n",
              "4  2015.0         65.00\n",
              "5  2016.0        108.00\n",
              "6  2017.0        130.00\n",
              "7  2018.0         42.00"
            ]
          },
          "metadata": {
            "tags": []
          },
          "execution_count": 124
        }
      ]
    },
    {
      "cell_type": "code",
      "metadata": {
        "id": "QSgsne5pQr51",
        "colab_type": "code",
        "colab": {}
      },
      "source": [
        "merged_seasons = seasonal_totals.merge(rest_totals, on = \"season\")"
      ],
      "execution_count": 0,
      "outputs": []
    },
    {
      "cell_type": "code",
      "metadata": {
        "id": "qXkay-nxRAe8",
        "colab_type": "code",
        "outputId": "ed469d4f-5b7f-471f-9afa-46d1a07d1a5d",
        "colab": {
          "base_uri": "https://localhost:8080/",
          "height": 285
        }
      },
      "source": [
        "sns.scatterplot(x = merged_seasons[\"days of rest\"], y = merged_seasons[\"injuries\"])\n",
        "plt.show()"
      ],
      "execution_count": 126,
      "outputs": [
        {
          "output_type": "display_data",
          "data": {
            "image/png": "[encoded data removed]",
            "text/plain": [
              "<Figure size 432x288 with 1 Axes>"
            ]
          },
          "metadata": {
            "tags": []
          }
        }
      ]
    },
    {
      "cell_type": "code",
      "metadata": {
        "id": "s_ZDZ0S9SZnp",
        "colab_type": "code",
        "outputId": "648f122e-5560-4ad9-a705-cb080dbdca0c",
        "colab": {
          "base_uri": "https://localhost:8080/",
          "height": 483
        }
      },
      "source": [
        " #drop 2012 \n",
        "binned_day_totals = pd.DataFrame(just_injuries[\"binned_days\"].value_counts())\n",
        "binned_day_totals = binned_day_totals.reset_index()\n",
        "binned_day_totals.columns = [\"bin\", \"injuries\"]\n",
        "binned_day_totals = binned_day_totals.sort_values(by = \"bin\")\n",
        "binned_day_totals = binned_day_totals.reset_index(drop = True)\n",
        "binned_day_totals = binned_day_totals.drop(index = 14)\n",
        "binned_day_totals\n",
        "\n",
        "# check for ASB, end of season. perhaps drop last row. check for statistical significance."
      ],
      "execution_count": 127,
      "outputs": [
        {
          "output_type": "execute_result",
          "data": {
            "text/html": [
              "<div>\n",
              "<style scoped>\n",
              "    .dataframe tbody tr th:only-of-type {\n",
              "        vertical-align: middle;\n",
              "    }\n",
              "\n",
              "    .dataframe tbody tr th {\n",
              "        vertical-align: top;\n",
              "    }\n",
              "\n",
              "    .dataframe thead th {\n",
              "        text-align: right;\n",
              "    }\n",
              "</style>\n",
              "<table border=\"1\" class=\"dataframe\">\n",
              "  <thead>\n",
              "    <tr style=\"text-align: right;\">\n",
              "      <th></th>\n",
              "      <th>bin</th>\n",
              "      <th>injuries</th>\n",
              "    </tr>\n",
              "  </thead>\n",
              "  <tbody>\n",
              "    <tr>\n",
              "      <th>0</th>\n",
              "      <td>0</td>\n",
              "      <td>275</td>\n",
              "    </tr>\n",
              "    <tr>\n",
              "      <th>1</th>\n",
              "      <td>1</td>\n",
              "      <td>280</td>\n",
              "    </tr>\n",
              "    <tr>\n",
              "      <th>2</th>\n",
              "      <td>2</td>\n",
              "      <td>282</td>\n",
              "    </tr>\n",
              "    <tr>\n",
              "      <th>3</th>\n",
              "      <td>3</td>\n",
              "      <td>312</td>\n",
              "    </tr>\n",
              "    <tr>\n",
              "      <th>4</th>\n",
              "      <td>4</td>\n",
              "      <td>314</td>\n",
              "    </tr>\n",
              "    <tr>\n",
              "      <th>5</th>\n",
              "      <td>5</td>\n",
              "      <td>290</td>\n",
              "    </tr>\n",
              "    <tr>\n",
              "      <th>6</th>\n",
              "      <td>6</td>\n",
              "      <td>322</td>\n",
              "    </tr>\n",
              "    <tr>\n",
              "      <th>7</th>\n",
              "      <td>7</td>\n",
              "      <td>368</td>\n",
              "    </tr>\n",
              "    <tr>\n",
              "      <th>8</th>\n",
              "      <td>8</td>\n",
              "      <td>379</td>\n",
              "    </tr>\n",
              "    <tr>\n",
              "      <th>9</th>\n",
              "      <td>9</td>\n",
              "      <td>234</td>\n",
              "    </tr>\n",
              "    <tr>\n",
              "      <th>10</th>\n",
              "      <td>10</td>\n",
              "      <td>259</td>\n",
              "    </tr>\n",
              "    <tr>\n",
              "      <th>11</th>\n",
              "      <td>11</td>\n",
              "      <td>295</td>\n",
              "    </tr>\n",
              "    <tr>\n",
              "      <th>12</th>\n",
              "      <td>12</td>\n",
              "      <td>338</td>\n",
              "    </tr>\n",
              "    <tr>\n",
              "      <th>13</th>\n",
              "      <td>13</td>\n",
              "      <td>374</td>\n",
              "    </tr>\n",
              "  </tbody>\n",
              "</table>\n",
              "</div>"
            ],
            "text/plain": [
              "    bin  injuries\n",
              "0     0       275\n",
              "1     1       280\n",
              "2     2       282\n",
              "3     3       312\n",
              "4     4       314\n",
              "5     5       290\n",
              "6     6       322\n",
              "7     7       368\n",
              "8     8       379\n",
              "9     9       234\n",
              "10   10       259\n",
              "11   11       295\n",
              "12   12       338\n",
              "13   13       374"
            ]
          },
          "metadata": {
            "tags": []
          },
          "execution_count": 127
        }
      ]
    },
    {
      "cell_type": "code",
      "metadata": {
        "id": "JNPC2AwjI6DO",
        "colab_type": "code",
        "outputId": "8435b955-6140-40c4-e2d7-8562111f8121",
        "colab": {
          "base_uri": "https://localhost:8080/",
          "height": 285
        }
      },
      "source": [
        "sns.lineplot(x = binned_day_totals[\"bin\"], y = binned_day_totals[\"injuries\"])\n",
        "plt.show()"
      ],
      "execution_count": 128,
      "outputs": [
        {
          "output_type": "display_data",
          "data": {
            "image/png": "[encoded data removed]",
            "text/plain": [
              "<Figure size 432x288 with 1 Axes>"
            ]
          },
          "metadata": {
            "tags": []
          }
        }
      ]
    },
    {
      "cell_type": "code",
      "metadata": {
        "id": "3RUbD0sbWhdJ",
        "colab_type": "code",
        "outputId": "9f3e2199-95c4-4082-c6d0-41a420175ef3",
        "colab": {
          "base_uri": "https://localhost:8080/",
          "height": 285
        }
      },
      "source": [
        "sns.set()\n",
        "sns.lineplot(x = seasonal_totals[\"season\"], y = seasonal_totals[\"injuries\"])\n",
        "sns.lineplot(x = rest_totals[\"season\"], y = rest_totals[\"days of rest\"])\n",
        "plt.show()"
      ],
      "execution_count": 129,
      "outputs": [
        {
          "output_type": "display_data",
          "data": {
            "image/png": "[encoded data removed]",
            "text/plain": [
              "<Figure size 432x288 with 1 Axes>"
            ]
          },
          "metadata": {
            "tags": []
          }
        }
      ]
    },
    {
      "cell_type": "code",
      "metadata": {
        "id": "05-Sn-PvdF91",
        "colab_type": "code",
        "outputId": "e03b88f7-8707-4419-8290-06a17400b285",
        "colab": {
          "base_uri": "https://localhost:8080/",
          "height": 285
        }
      },
      "source": [
        "sns.distplot(rest[\"binned_days\"])\n",
        "plt.show()\n",
        "# Plots - add markdown explaining what to look for in the plot (whether interesting or unremarkable)"
      ],
      "execution_count": 130,
      "outputs": [
        {
          "output_type": "display_data",
          "data": {
            "image/png": "[encoded data removed]",
            "text/plain": [
              "<Figure size 432x288 with 1 Axes>"
            ]
          },
          "metadata": {
            "tags": []
          }
        }
      ]
    },
    {
      "cell_type": "code",
      "metadata": {
        "id": "BWlaH5AhJkEN",
        "colab_type": "code",
        "outputId": "1d39ea61-43fb-483d-a74c-cfa60d3f75db",
        "colab": {
          "base_uri": "https://localhost:8080/",
          "height": 302
        }
      },
      "source": [
        "sns.distplot(just_injuries[\"days_since_start\"])"
      ],
      "execution_count": 131,
      "outputs": [
        {
          "output_type": "execute_result",
          "data": {
            "text/plain": [
              "<matplotlib.axes._subplots.AxesSubplot at 0x7f8e7e3a8860>"
            ]
          },
          "metadata": {
            "tags": []
          },
          "execution_count": 131
        },
        {
          "output_type": "display_data",
          "data": {
            "image/png": "[encoded data removed]",
            "text/plain": [
              "<Figure size 432x288 with 1 Axes>"
            ]
          },
          "metadata": {
            "tags": []
          }
        }
      ]
    },
    {
      "cell_type": "code",
      "metadata": {
        "id": "rC0ZX9kKxLp5",
        "colab_type": "code",
        "outputId": "761354f7-13c5-4e9d-9e75-e201ca4654a7",
        "colab": {
          "base_uri": "https://localhost:8080/",
          "height": 297
        }
      },
      "source": [
        "rest_totals = pd.DataFrame(rest[\"season\"].value_counts())\n",
        "rest_totals = rest_totals.reset_index()\n",
        "rest_totals.columns = [\"season\", \"days of rest\"]\n",
        "rest_totals = rest_totals.sort_values(by = \"season\")\n",
        "rest_totals = rest_totals.reset_index(drop = True)\n",
        "rest_totals.iloc[1, 1] = round((rest_totals.iloc[1,1] * 82/66), 2)\n",
        "rest_totals"
      ],
      "execution_count": 132,
      "outputs": [
        {
          "output_type": "execute_result",
          "data": {
            "text/html": [
              "<div>\n",
              "<style scoped>\n",
              "    .dataframe tbody tr th:only-of-type {\n",
              "        vertical-align: middle;\n",
              "    }\n",
              "\n",
              "    .dataframe tbody tr th {\n",
              "        vertical-align: top;\n",
              "    }\n",
              "\n",
              "    .dataframe thead th {\n",
              "        text-align: right;\n",
              "    }\n",
              "</style>\n",
              "<table border=\"1\" class=\"dataframe\">\n",
              "  <thead>\n",
              "    <tr style=\"text-align: right;\">\n",
              "      <th></th>\n",
              "      <th>season</th>\n",
              "      <th>days of rest</th>\n",
              "    </tr>\n",
              "  </thead>\n",
              "  <tbody>\n",
              "    <tr>\n",
              "      <th>0</th>\n",
              "      <td>2011.0</td>\n",
              "      <td>33.00</td>\n",
              "    </tr>\n",
              "    <tr>\n",
              "      <th>1</th>\n",
              "      <td>2012.0</td>\n",
              "      <td>89.45</td>\n",
              "    </tr>\n",
              "    <tr>\n",
              "      <th>2</th>\n",
              "      <td>2013.0</td>\n",
              "      <td>31.00</td>\n",
              "    </tr>\n",
              "    <tr>\n",
              "      <th>3</th>\n",
              "      <td>2014.0</td>\n",
              "      <td>61.00</td>\n",
              "    </tr>\n",
              "    <tr>\n",
              "      <th>4</th>\n",
              "      <td>2015.0</td>\n",
              "      <td>65.00</td>\n",
              "    </tr>\n",
              "    <tr>\n",
              "      <th>5</th>\n",
              "      <td>2016.0</td>\n",
              "      <td>108.00</td>\n",
              "    </tr>\n",
              "    <tr>\n",
              "      <th>6</th>\n",
              "      <td>2017.0</td>\n",
              "      <td>130.00</td>\n",
              "    </tr>\n",
              "    <tr>\n",
              "      <th>7</th>\n",
              "      <td>2018.0</td>\n",
              "      <td>42.00</td>\n",
              "    </tr>\n",
              "  </tbody>\n",
              "</table>\n",
              "</div>"
            ],
            "text/plain": [
              "   season  days of rest\n",
              "0  2011.0         33.00\n",
              "1  2012.0         89.45\n",
              "2  2013.0         31.00\n",
              "3  2014.0         61.00\n",
              "4  2015.0         65.00\n",
              "5  2016.0        108.00\n",
              "6  2017.0        130.00\n",
              "7  2018.0         42.00"
            ]
          },
          "metadata": {
            "tags": []
          },
          "execution_count": 132
        }
      ]
    },
    {
      "cell_type": "code",
      "metadata": {
        "id": "t0Su37WkdrGg",
        "colab_type": "code",
        "colab": {}
      },
      "source": [
        "rest_teams = pd.DataFrame(rest[\"team\"].value_counts()).reset_index()\n",
        "rest_teams.columns = [\"team\", \"days of rest\"]"
      ],
      "execution_count": 0,
      "outputs": []
    },
    {
      "cell_type": "code",
      "metadata": {
        "id": "KSzIs2lN3HnC",
        "colab_type": "code",
        "outputId": "d6b3e1b7-42af-467c-f000-29dafca5cf60",
        "colab": {
          "base_uri": "https://localhost:8080/",
          "height": 979
        }
      },
      "source": [
        "rest_teams.head(30)"
      ],
      "execution_count": 134,
      "outputs": [
        {
          "output_type": "execute_result",
          "data": {
            "text/html": [
              "<div>\n",
              "<style scoped>\n",
              "    .dataframe tbody tr th:only-of-type {\n",
              "        vertical-align: middle;\n",
              "    }\n",
              "\n",
              "    .dataframe tbody tr th {\n",
              "        vertical-align: top;\n",
              "    }\n",
              "\n",
              "    .dataframe thead th {\n",
              "        text-align: right;\n",
              "    }\n",
              "</style>\n",
              "<table border=\"1\" class=\"dataframe\">\n",
              "  <thead>\n",
              "    <tr style=\"text-align: right;\">\n",
              "      <th></th>\n",
              "      <th>team</th>\n",
              "      <th>days of rest</th>\n",
              "    </tr>\n",
              "  </thead>\n",
              "  <tbody>\n",
              "    <tr>\n",
              "      <th>0</th>\n",
              "      <td>Spurs</td>\n",
              "      <td>84</td>\n",
              "    </tr>\n",
              "    <tr>\n",
              "      <th>1</th>\n",
              "      <td>Kings</td>\n",
              "      <td>37</td>\n",
              "    </tr>\n",
              "    <tr>\n",
              "      <th>2</th>\n",
              "      <td>Mavericks</td>\n",
              "      <td>32</td>\n",
              "    </tr>\n",
              "    <tr>\n",
              "      <th>3</th>\n",
              "      <td>Hawks</td>\n",
              "      <td>31</td>\n",
              "    </tr>\n",
              "    <tr>\n",
              "      <th>4</th>\n",
              "      <td>Cavaliers</td>\n",
              "      <td>29</td>\n",
              "    </tr>\n",
              "    <tr>\n",
              "      <th>5</th>\n",
              "      <td>Grizzlies</td>\n",
              "      <td>27</td>\n",
              "    </tr>\n",
              "    <tr>\n",
              "      <th>6</th>\n",
              "      <td>76ers</td>\n",
              "      <td>25</td>\n",
              "    </tr>\n",
              "    <tr>\n",
              "      <th>7</th>\n",
              "      <td>Nets</td>\n",
              "      <td>25</td>\n",
              "    </tr>\n",
              "    <tr>\n",
              "      <th>8</th>\n",
              "      <td>Celtics</td>\n",
              "      <td>22</td>\n",
              "    </tr>\n",
              "    <tr>\n",
              "      <th>9</th>\n",
              "      <td>Clippers</td>\n",
              "      <td>20</td>\n",
              "    </tr>\n",
              "    <tr>\n",
              "      <th>10</th>\n",
              "      <td>Warriors</td>\n",
              "      <td>19</td>\n",
              "    </tr>\n",
              "    <tr>\n",
              "      <th>11</th>\n",
              "      <td>Raptors</td>\n",
              "      <td>18</td>\n",
              "    </tr>\n",
              "    <tr>\n",
              "      <th>12</th>\n",
              "      <td>Pelicans</td>\n",
              "      <td>17</td>\n",
              "    </tr>\n",
              "    <tr>\n",
              "      <th>13</th>\n",
              "      <td>Rockets</td>\n",
              "      <td>15</td>\n",
              "    </tr>\n",
              "    <tr>\n",
              "      <th>14</th>\n",
              "      <td>Knicks</td>\n",
              "      <td>14</td>\n",
              "    </tr>\n",
              "    <tr>\n",
              "      <th>15</th>\n",
              "      <td>Nuggets</td>\n",
              "      <td>14</td>\n",
              "    </tr>\n",
              "    <tr>\n",
              "      <th>16</th>\n",
              "      <td>Thunder</td>\n",
              "      <td>12</td>\n",
              "    </tr>\n",
              "    <tr>\n",
              "      <th>17</th>\n",
              "      <td>Lakers</td>\n",
              "      <td>12</td>\n",
              "    </tr>\n",
              "    <tr>\n",
              "      <th>18</th>\n",
              "      <td>Bulls</td>\n",
              "      <td>11</td>\n",
              "    </tr>\n",
              "    <tr>\n",
              "      <th>19</th>\n",
              "      <td>Pacers</td>\n",
              "      <td>11</td>\n",
              "    </tr>\n",
              "    <tr>\n",
              "      <th>20</th>\n",
              "      <td>Heat</td>\n",
              "      <td>11</td>\n",
              "    </tr>\n",
              "    <tr>\n",
              "      <th>21</th>\n",
              "      <td>Blazers</td>\n",
              "      <td>10</td>\n",
              "    </tr>\n",
              "    <tr>\n",
              "      <th>22</th>\n",
              "      <td>Bucks</td>\n",
              "      <td>10</td>\n",
              "    </tr>\n",
              "    <tr>\n",
              "      <th>23</th>\n",
              "      <td>Wizards</td>\n",
              "      <td>9</td>\n",
              "    </tr>\n",
              "    <tr>\n",
              "      <th>24</th>\n",
              "      <td>Suns</td>\n",
              "      <td>8</td>\n",
              "    </tr>\n",
              "    <tr>\n",
              "      <th>25</th>\n",
              "      <td>Magic</td>\n",
              "      <td>7</td>\n",
              "    </tr>\n",
              "    <tr>\n",
              "      <th>26</th>\n",
              "      <td>Pistons</td>\n",
              "      <td>7</td>\n",
              "    </tr>\n",
              "    <tr>\n",
              "      <th>27</th>\n",
              "      <td>Timberwolves</td>\n",
              "      <td>3</td>\n",
              "    </tr>\n",
              "    <tr>\n",
              "      <th>28</th>\n",
              "      <td>Hornets</td>\n",
              "      <td>1</td>\n",
              "    </tr>\n",
              "    <tr>\n",
              "      <th>29</th>\n",
              "      <td>Jazz</td>\n",
              "      <td>1</td>\n",
              "    </tr>\n",
              "  </tbody>\n",
              "</table>\n",
              "</div>"
            ],
            "text/plain": [
              "            team  days of rest\n",
              "0          Spurs            84\n",
              "1          Kings            37\n",
              "2      Mavericks            32\n",
              "3          Hawks            31\n",
              "4      Cavaliers            29\n",
              "5      Grizzlies            27\n",
              "6          76ers            25\n",
              "7           Nets            25\n",
              "8        Celtics            22\n",
              "9       Clippers            20\n",
              "10      Warriors            19\n",
              "11       Raptors            18\n",
              "12      Pelicans            17\n",
              "13       Rockets            15\n",
              "14        Knicks            14\n",
              "15       Nuggets            14\n",
              "16       Thunder            12\n",
              "17        Lakers            12\n",
              "18         Bulls            11\n",
              "19        Pacers            11\n",
              "20          Heat            11\n",
              "21       Blazers            10\n",
              "22         Bucks            10\n",
              "23       Wizards             9\n",
              "24          Suns             8\n",
              "25         Magic             7\n",
              "26       Pistons             7\n",
              "27  Timberwolves             3\n",
              "28       Hornets             1\n",
              "29          Jazz             1"
            ]
          },
          "metadata": {
            "tags": []
          },
          "execution_count": 134
        }
      ]
    },
    {
      "cell_type": "code",
      "metadata": {
        "id": "9dyBJ2ePdvml",
        "colab_type": "code",
        "outputId": "b4650531-8f97-417e-be4d-207d4fabeaed",
        "colab": {
          "base_uri": "https://localhost:8080/",
          "height": 289
        }
      },
      "source": [
        "fig, ax = plt.subplots()\n",
        "ax.set(facecolor = \"white\")\n",
        "fig.patch.set(facecolor = \"white\")\n",
        "sns.barplot(x = rest_teams[\"team\"], y = rest_teams[\"days of rest\"])\n",
        "\n",
        "ax.set_xticklabels(\"\")\n",
        "ax.set_xlabel(\"Team\", fontweight = \"bold\", fontsize = 10)\n",
        "ax.set_ylabel(\"Days of Rest\", fontweight = \"bold\", fontsize = 10)\n",
        "ax.text(s = \"San Antonio Spurs: Rest Champions\", x = 5, y = 85, fontsize = 12)\n",
        "ax.set_title(\"Team days of rest, 2010-2018\", fontweight=\"bold\", fontsize = 14)\n",
        "\n",
        "plt.show()"
      ],
      "execution_count": 135,
      "outputs": [
        {
          "output_type": "display_data",
          "data": {
            "image/png": "[encoded data removed]",
            "text/plain": [
              "<Figure size 432x288 with 1 Axes>"
            ]
          },
          "metadata": {
            "tags": []
          }
        }
      ]
    },
    {
      "cell_type": "code",
      "metadata": {
        "id": "RT0Y0Z61qLJm",
        "colab_type": "code",
        "colab": {
          "base_uri": "https://localhost:8080/",
          "height": 204
        },
        "outputId": "ad330b17-2632-4851-bc70-18fc76d87a12"
      },
      "source": [
        "rest[\"player\"].value_counts().head(10)"
      ],
      "execution_count": 136,
      "outputs": [
        {
          "output_type": "execute_result",
          "data": {
            "text/plain": [
              "Emanuel Ginobili / Manu Ginobili    20\n",
              "Tim Duncan                          19\n",
              "Kevin Garnett                       17\n",
              "(William) Tony Parker               16\n",
              "Rajon Rondo                         16\n",
              "LeBron James                        15\n",
              "Chandler Parsons                    12\n",
              "Joel Embiid                         12\n",
              "Eric Gordon                         10\n",
              "LaMarcus Aldridge                    9\n",
              "Name: player, dtype: int64"
            ]
          },
          "metadata": {
            "tags": []
          },
          "execution_count": 136
        }
      ]
    },
    {
      "cell_type": "markdown",
      "metadata": {
        "id": "1LqAWgw-qNP5",
        "colab_type": "text"
      },
      "source": [
        "As you might expect, the leaderboard for individuals is dominated by Spurs, with the Spurs' \"big three\" -- Manu Ginobili, Tim Duncan, and Tony Parker -- all in the top five. Teams competing for a title, as with the Spurs and the Celtics (Kevin Garnett, Rajon Rondo, and Paul Pierce) may consider the regular season less important than the playoffs, although, as the Spurs have shown, rest doesn't necessarily come at the expense of regular-season success."
      ]
    },
    {
      "cell_type": "markdown",
      "metadata": {
        "id": "jFypVJcYHrBz",
        "colab_type": "text"
      },
      "source": [
        "##Teams and Injuries"
      ]
    },
    {
      "cell_type": "code",
      "metadata": {
        "id": "EqYJ6yw-3nxn",
        "colab_type": "code",
        "colab": {}
      },
      "source": [
        "injury_teams = pd.DataFrame(just_injuries[\"team\"].value_counts()).reset_index()\n",
        "injury_teams.columns = [\"team\", \"injuries\"]\n",
        "injury_teams = injury_teams.drop(index = 30)"
      ],
      "execution_count": 0,
      "outputs": []
    },
    {
      "cell_type": "code",
      "metadata": {
        "id": "OtO7rmOa_uZw",
        "colab_type": "code",
        "colab": {
          "base_uri": "https://localhost:8080/",
          "height": 221
        },
        "outputId": "0fa2b58b-6456-4118-9c4a-8d877f5f7ec5"
      },
      "source": [
        "print(injury_teams[\"injuries\"].mean())\n",
        "injury_teams.head()"
      ],
      "execution_count": 145,
      "outputs": [
        {
          "output_type": "stream",
          "text": [
            "150.36666666666667\n"
          ],
          "name": "stdout"
        },
        {
          "output_type": "execute_result",
          "data": {
            "text/html": [
              "<div>\n",
              "<style scoped>\n",
              "    .dataframe tbody tr th:only-of-type {\n",
              "        vertical-align: middle;\n",
              "    }\n",
              "\n",
              "    .dataframe tbody tr th {\n",
              "        vertical-align: top;\n",
              "    }\n",
              "\n",
              "    .dataframe thead th {\n",
              "        text-align: right;\n",
              "    }\n",
              "</style>\n",
              "<table border=\"1\" class=\"dataframe\">\n",
              "  <thead>\n",
              "    <tr style=\"text-align: right;\">\n",
              "      <th></th>\n",
              "      <th>team</th>\n",
              "      <th>injuries</th>\n",
              "    </tr>\n",
              "  </thead>\n",
              "  <tbody>\n",
              "    <tr>\n",
              "      <th>0</th>\n",
              "      <td>76ers</td>\n",
              "      <td>205</td>\n",
              "    </tr>\n",
              "    <tr>\n",
              "      <th>1</th>\n",
              "      <td>Bucks</td>\n",
              "      <td>204</td>\n",
              "    </tr>\n",
              "    <tr>\n",
              "      <th>2</th>\n",
              "      <td>Nuggets</td>\n",
              "      <td>189</td>\n",
              "    </tr>\n",
              "    <tr>\n",
              "      <th>3</th>\n",
              "      <td>Rockets</td>\n",
              "      <td>186</td>\n",
              "    </tr>\n",
              "    <tr>\n",
              "      <th>4</th>\n",
              "      <td>Pelicans</td>\n",
              "      <td>181</td>\n",
              "    </tr>\n",
              "  </tbody>\n",
              "</table>\n",
              "</div>"
            ],
            "text/plain": [
              "       team  injuries\n",
              "0     76ers       205\n",
              "1     Bucks       204\n",
              "2   Nuggets       189\n",
              "3   Rockets       186\n",
              "4  Pelicans       181"
            ]
          },
          "metadata": {
            "tags": []
          },
          "execution_count": 145
        }
      ]
    },
    {
      "cell_type": "code",
      "metadata": {
        "id": "P4xEabiUACNF",
        "colab_type": "code",
        "colab": {
          "base_uri": "https://localhost:8080/",
          "height": 204
        },
        "outputId": "9b2b5d4f-d4b9-4daa-8b16-c1fb9a63fdea"
      },
      "source": [
        "injury_teams.tail()"
      ],
      "execution_count": 143,
      "outputs": [
        {
          "output_type": "execute_result",
          "data": {
            "text/html": [
              "<div>\n",
              "<style scoped>\n",
              "    .dataframe tbody tr th:only-of-type {\n",
              "        vertical-align: middle;\n",
              "    }\n",
              "\n",
              "    .dataframe tbody tr th {\n",
              "        vertical-align: top;\n",
              "    }\n",
              "\n",
              "    .dataframe thead th {\n",
              "        text-align: right;\n",
              "    }\n",
              "</style>\n",
              "<table border=\"1\" class=\"dataframe\">\n",
              "  <thead>\n",
              "    <tr style=\"text-align: right;\">\n",
              "      <th></th>\n",
              "      <th>team</th>\n",
              "      <th>injuries</th>\n",
              "    </tr>\n",
              "  </thead>\n",
              "  <tbody>\n",
              "    <tr>\n",
              "      <th>25</th>\n",
              "      <td>Blazers</td>\n",
              "      <td>109</td>\n",
              "    </tr>\n",
              "    <tr>\n",
              "      <th>26</th>\n",
              "      <td>Mavericks</td>\n",
              "      <td>109</td>\n",
              "    </tr>\n",
              "    <tr>\n",
              "      <th>27</th>\n",
              "      <td>Pistons</td>\n",
              "      <td>107</td>\n",
              "    </tr>\n",
              "    <tr>\n",
              "      <th>28</th>\n",
              "      <td>Pacers</td>\n",
              "      <td>102</td>\n",
              "    </tr>\n",
              "    <tr>\n",
              "      <th>29</th>\n",
              "      <td>Thunder</td>\n",
              "      <td>66</td>\n",
              "    </tr>\n",
              "  </tbody>\n",
              "</table>\n",
              "</div>"
            ],
            "text/plain": [
              "         team  injuries\n",
              "25    Blazers       109\n",
              "26  Mavericks       109\n",
              "27    Pistons       107\n",
              "28     Pacers       102\n",
              "29    Thunder        66"
            ]
          },
          "metadata": {
            "tags": []
          },
          "execution_count": 143
        }
      ]
    },
    {
      "cell_type": "code",
      "metadata": {
        "id": "2X1MsXHh33HQ",
        "colab_type": "code",
        "colab": {}
      },
      "source": [
        "team_data = injury_teams.merge(rest_teams, on = \"team\")"
      ],
      "execution_count": 0,
      "outputs": []
    },
    {
      "cell_type": "code",
      "metadata": {
        "id": "fsReXmFg4NBW",
        "colab_type": "code",
        "outputId": "c93adc3d-adb3-49bf-f33c-2d332330a406",
        "colab": {
          "base_uri": "https://localhost:8080/",
          "height": 51
        }
      },
      "source": [
        "np.corrcoef(team_data[\"injuries\"], team_data[\"days of rest\"])"
      ],
      "execution_count": 146,
      "outputs": [
        {
          "output_type": "execute_result",
          "data": {
            "text/plain": [
              "array([[1.        , 0.00288544],\n",
              "       [0.00288544, 1.        ]])"
            ]
          },
          "metadata": {
            "tags": []
          },
          "execution_count": 146
        }
      ]
    },
    {
      "cell_type": "markdown",
      "metadata": {
        "id": "zOM2y0bRKOhH",
        "colab_type": "text"
      },
      "source": [
        "There's almost zero correlation between total days of rest and total injuries. However, this is likely an artifact both of underlying variables and of our data set -- oft-injured players are more likely to get rested, and teams might label intended rest days as minor injuries. The best evidence that there's a relationship between rest and injury rate comes from observation: NBA teams, with millions of dollars in labor productivity at stake, have almost universally adopted the Spurs' style of giving players occasional rest day to keep them in peak condition."
      ]
    },
    {
      "cell_type": "markdown",
      "metadata": {
        "id": "RAMgbikgxZ27",
        "colab_type": "text"
      },
      "source": [
        "#Conclusions"
      ]
    }
  ]
}