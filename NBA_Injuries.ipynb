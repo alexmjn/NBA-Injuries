{
  "nbformat": 4,
  "nbformat_minor": 0,
  "metadata": {
    "colab": {
      "name": "NBA_Injuries.ipynb",
      "provenance": [],
      "collapsed_sections": [],
      "include_colab_link": true
    },
    "kernelspec": {
      "name": "python3",
      "display_name": "Python 3"
    }
  },
  "cells": [
    {
      "cell_type": "markdown",
      "metadata": {
        "id": "view-in-github",
        "colab_type": "text"
      },
      "source": [
        "<a href=\"https://colab.research.google.com/github/alexmjn/NBA-Injuries/blob/master/NBA_Injuries.ipynb\" target=\"_parent\"><img src=\"https://colab.research.google.com/assets/colab-badge.svg\" alt=\"Open In Colab\"/></a>"
      ]
    },
    {
      "cell_type": "markdown",
      "metadata": {
        "id": "qVk-OCBWZAxE",
        "colab_type": "text"
      },
      "source": [
        "#NBA Injuries"
      ]
    },
    {
      "cell_type": "markdown",
      "metadata": {
        "id": "uJZZwACLG8YA",
        "colab_type": "text"
      },
      "source": [
        "The unpredictable nature of injuries costs NBA teams millions of dollars each year (in addition to the cost in human suffering). (transition sentence) Have injury rates risen as the NBA has gotten more physically taxing? Did the 2011 NBA lockout affect injury rates for that season? Do different teams have different patterns of rest and injury? Using the NBA's published injury reports (sourced from Kaggle), I want to look at patterns and correlations within NBA injuries and rest.\n",
        "\n"
      ]
    },
    {
      "cell_type": "markdown",
      "metadata": {
        "id": "me5PLY5XY_R1",
        "colab_type": "text"
      },
      "source": [
        "#Import Data"
      ]
    },
    {
      "cell_type": "code",
      "metadata": {
        "id": "wFESKxChWcv-",
        "colab_type": "code",
        "colab": {}
      },
      "source": [
        "import numpy as np\n",
        "import pandas as pd\n",
        "import matplotlib.pyplot as plt\n",
        "import seaborn as sns\n",
        "\n",
        "from sklearn.preprocessing import StandardScaler\n",
        "from sklearn.decomposition import PCA\n",
        "from sklearn.cluster import KMeans"
      ],
      "execution_count": 0,
      "outputs": []
    },
    {
      "cell_type": "code",
      "metadata": {
        "id": "hueHC3Flpf6Y",
        "colab_type": "code",
        "colab": {}
      },
      "source": [
        "url = \"https://raw.githubusercontent.com/alexmjn/NBA-Injuries/master/injuries.csv\"\n",
        "df = pd.read_csv(url)"
      ],
      "execution_count": 0,
      "outputs": []
    },
    {
      "cell_type": "code",
      "metadata": {
        "id": "a0S5mrCXYkj4",
        "colab_type": "code",
        "colab": {}
      },
      "source": [
        "injuries = df.copy()"
      ],
      "execution_count": 0,
      "outputs": []
    },
    {
      "cell_type": "code",
      "metadata": {
        "id": "zCuvjPR1Ysyf",
        "colab_type": "code",
        "outputId": "1dbeb718-9146-4bf0-8b58-eb4a2eb69a46",
        "colab": {
          "base_uri": "https://localhost:8080/",
          "height": 306
        }
      },
      "source": [
        "print(injuries.dtypes)\n",
        "injuries.head()"
      ],
      "execution_count": 164,
      "outputs": [
        {
          "output_type": "stream",
          "text": [
            "Date           object\n",
            "Team           object\n",
            "Acquired       object\n",
            "Relinquised    object\n",
            "Notes          object\n",
            "dtype: object\n"
          ],
          "name": "stdout"
        },
        {
          "output_type": "execute_result",
          "data": {
            "text/html": [
              "<div>\n",
              "<style scoped>\n",
              "    .dataframe tbody tr th:only-of-type {\n",
              "        vertical-align: middle;\n",
              "    }\n",
              "\n",
              "    .dataframe tbody tr th {\n",
              "        vertical-align: top;\n",
              "    }\n",
              "\n",
              "    .dataframe thead th {\n",
              "        text-align: right;\n",
              "    }\n",
              "</style>\n",
              "<table border=\"1\" class=\"dataframe\">\n",
              "  <thead>\n",
              "    <tr style=\"text-align: right;\">\n",
              "      <th></th>\n",
              "      <th>Date</th>\n",
              "      <th>Team</th>\n",
              "      <th>Acquired</th>\n",
              "      <th>Relinquised</th>\n",
              "      <th>Notes</th>\n",
              "    </tr>\n",
              "  </thead>\n",
              "  <tbody>\n",
              "    <tr>\n",
              "      <th>0</th>\n",
              "      <td>2010-10-03</td>\n",
              "      <td>Bulls</td>\n",
              "      <td>NaN</td>\n",
              "      <td>Carlos Boozer</td>\n",
              "      <td>fractured bone in right pinky finger (out inde...</td>\n",
              "    </tr>\n",
              "    <tr>\n",
              "      <th>1</th>\n",
              "      <td>2010-10-06</td>\n",
              "      <td>Pistons</td>\n",
              "      <td>NaN</td>\n",
              "      <td>Jonas Jerebko</td>\n",
              "      <td>torn right Acchilles tendon (out indefinitely)</td>\n",
              "    </tr>\n",
              "    <tr>\n",
              "      <th>2</th>\n",
              "      <td>2010-10-06</td>\n",
              "      <td>Pistons</td>\n",
              "      <td>NaN</td>\n",
              "      <td>Terrico White</td>\n",
              "      <td>broken fifth metatarsal in right foot (out ind...</td>\n",
              "    </tr>\n",
              "    <tr>\n",
              "      <th>3</th>\n",
              "      <td>2010-10-08</td>\n",
              "      <td>Blazers</td>\n",
              "      <td>NaN</td>\n",
              "      <td>Jeff Pendergraph / Jeff Ayres</td>\n",
              "      <td>torn ACL in right knee (out indefinitely)</td>\n",
              "    </tr>\n",
              "    <tr>\n",
              "      <th>4</th>\n",
              "      <td>2010-10-08</td>\n",
              "      <td>Nets</td>\n",
              "      <td>NaN</td>\n",
              "      <td>Troy Murphy</td>\n",
              "      <td>strained lower back (out indefinitely)</td>\n",
              "    </tr>\n",
              "  </tbody>\n",
              "</table>\n",
              "</div>"
            ],
            "text/plain": [
              "         Date  ...                                              Notes\n",
              "0  2010-10-03  ...  fractured bone in right pinky finger (out inde...\n",
              "1  2010-10-06  ...     torn right Acchilles tendon (out indefinitely)\n",
              "2  2010-10-06  ...  broken fifth metatarsal in right foot (out ind...\n",
              "3  2010-10-08  ...          torn ACL in right knee (out indefinitely)\n",
              "4  2010-10-08  ...             strained lower back (out indefinitely)\n",
              "\n",
              "[5 rows x 5 columns]"
            ]
          },
          "metadata": {
            "tags": []
          },
          "execution_count": 164
        }
      ]
    },
    {
      "cell_type": "markdown",
      "metadata": {
        "id": "fsQ_wDHiZHe8",
        "colab_type": "text"
      },
      "source": [
        "#Cleaning Data"
      ]
    },
    {
      "cell_type": "markdown",
      "metadata": {
        "id": "J36C-QWYIq7f",
        "colab_type": "text"
      },
      "source": [
        "The data contains four columns we're interested in: \"Date,\" \"Team,\" \"Relinquised,\" (a column that shows what player suffered the injury), and \"Notes,\" which is a brief text description of the injury.\n",
        "\n",
        "\"Acquired\" is used to denote rows where a player returned from injury. Though there is likely interesting analysis to be done on players' time of recovery, from scanning the data, the \"Acquired\" columns were reported inconsistently within seasons and for various types of injuries; thus, this data is out of the scope of this analysis.\n",
        "\n",
        "Therefore I drop rows which represent a return from injury and not an injury or rest and then drop the column itself."
      ]
    },
    {
      "cell_type": "code",
      "metadata": {
        "id": "oWyfElb_ZCAe",
        "colab_type": "code",
        "colab": {}
      },
      "source": [
        "injuries.columns = injuries.columns.str.lower()\n",
        "injuries = injuries[injuries[\"acquired\"].isnull() == True]\n",
        "injuries = injuries.drop([\"acquired\"], axis = 1)\n",
        "injuries.shape"
      ],
      "execution_count": 0,
      "outputs": []
    },
    {
      "cell_type": "code",
      "metadata": {
        "id": "k8_rRNrWr1dU",
        "colab_type": "code",
        "outputId": "5a74eb81-2f5c-467d-f0f5-38a7dd2e98e8",
        "colab": {
          "base_uri": "https://localhost:8080/",
          "height": 119
        }
      },
      "source": [
        "injuries.dtypes"
      ],
      "execution_count": 168,
      "outputs": [
        {
          "output_type": "execute_result",
          "data": {
            "text/plain": [
              "date           object\n",
              "team           object\n",
              "acquired       object\n",
              "relinquised    object\n",
              "notes          object\n",
              "dtype: object"
            ]
          },
          "metadata": {
            "tags": []
          },
          "execution_count": 168
        }
      ]
    },
    {
      "cell_type": "markdown",
      "metadata": {
        "id": "pkNu1zlSKKBH",
        "colab_type": "text"
      },
      "source": [
        "To perform operations on the \"date\" column, I cast it as a datetime object. To prevent mismatches due to case-sensitivity, I make all 'notes' lowercase. Finally, I clean the column name."
      ]
    },
    {
      "cell_type": "code",
      "metadata": {
        "id": "4arfrxoWZLjX",
        "colab_type": "code",
        "outputId": "0d9e6c77-0e7b-4fb8-85cf-3dbe28df6b6c",
        "colab": {
          "base_uri": "https://localhost:8080/",
          "height": 204
        }
      },
      "source": [
        "injuries[\"date\"] = pd.to_datetime(injuries[\"date\"], infer_datetime_format = True)\n",
        "injuries[\"notes\"] = injuries[\"notes\"].apply(str.lower)\n",
        "injuries = injuries.rename(columns={\"relinquised\":\"player\"})\n",
        "injuries.head()"
      ],
      "execution_count": 169,
      "outputs": [
        {
          "output_type": "execute_result",
          "data": {
            "text/html": [
              "<div>\n",
              "<style scoped>\n",
              "    .dataframe tbody tr th:only-of-type {\n",
              "        vertical-align: middle;\n",
              "    }\n",
              "\n",
              "    .dataframe tbody tr th {\n",
              "        vertical-align: top;\n",
              "    }\n",
              "\n",
              "    .dataframe thead th {\n",
              "        text-align: right;\n",
              "    }\n",
              "</style>\n",
              "<table border=\"1\" class=\"dataframe\">\n",
              "  <thead>\n",
              "    <tr style=\"text-align: right;\">\n",
              "      <th></th>\n",
              "      <th>date</th>\n",
              "      <th>team</th>\n",
              "      <th>player</th>\n",
              "      <th>notes</th>\n",
              "    </tr>\n",
              "  </thead>\n",
              "  <tbody>\n",
              "    <tr>\n",
              "      <th>0</th>\n",
              "      <td>2010-10-03</td>\n",
              "      <td>Bulls</td>\n",
              "      <td>Carlos Boozer</td>\n",
              "      <td>fractured bone in right pinky finger (out inde...</td>\n",
              "    </tr>\n",
              "    <tr>\n",
              "      <th>1</th>\n",
              "      <td>2010-10-06</td>\n",
              "      <td>Pistons</td>\n",
              "      <td>Jonas Jerebko</td>\n",
              "      <td>torn right acchilles tendon (out indefinitely)</td>\n",
              "    </tr>\n",
              "    <tr>\n",
              "      <th>2</th>\n",
              "      <td>2010-10-06</td>\n",
              "      <td>Pistons</td>\n",
              "      <td>Terrico White</td>\n",
              "      <td>broken fifth metatarsal in right foot (out ind...</td>\n",
              "    </tr>\n",
              "    <tr>\n",
              "      <th>3</th>\n",
              "      <td>2010-10-08</td>\n",
              "      <td>Blazers</td>\n",
              "      <td>Jeff Pendergraph / Jeff Ayres</td>\n",
              "      <td>torn acl in right knee (out indefinitely)</td>\n",
              "    </tr>\n",
              "    <tr>\n",
              "      <th>4</th>\n",
              "      <td>2010-10-08</td>\n",
              "      <td>Nets</td>\n",
              "      <td>Troy Murphy</td>\n",
              "      <td>strained lower back (out indefinitely)</td>\n",
              "    </tr>\n",
              "  </tbody>\n",
              "</table>\n",
              "</div>"
            ],
            "text/plain": [
              "        date  ...                                              notes\n",
              "0 2010-10-03  ...  fractured bone in right pinky finger (out inde...\n",
              "1 2010-10-06  ...     torn right acchilles tendon (out indefinitely)\n",
              "2 2010-10-06  ...  broken fifth metatarsal in right foot (out ind...\n",
              "3 2010-10-08  ...          torn acl in right knee (out indefinitely)\n",
              "4 2010-10-08  ...             strained lower back (out indefinitely)\n",
              "\n",
              "[5 rows x 4 columns]"
            ]
          },
          "metadata": {
            "tags": []
          },
          "execution_count": 169
        }
      ]
    },
    {
      "cell_type": "markdown",
      "metadata": {
        "id": "zQLa28v6bGtF",
        "colab_type": "text"
      },
      "source": [
        "Rest is inconsistently logged as either \"DNP\" or \"Rest (DNP)\". To ensure consistency, I log each as the former."
      ]
    },
    {
      "cell_type": "code",
      "metadata": {
        "id": "auqY_lYqbUhi",
        "colab_type": "code",
        "colab": {}
      },
      "source": [
        "injuries[\"notes\"] = injuries[\"notes\"].replace({\"dnp\":\"rest (dnp)\"})"
      ],
      "execution_count": 0,
      "outputs": []
    },
    {
      "cell_type": "code",
      "metadata": {
        "id": "FGpPc3eCb62V",
        "colab_type": "code",
        "outputId": "af022c96-5b67-4346-e891-aff41083fc02",
        "colab": {
          "base_uri": "https://localhost:8080/",
          "height": 119
        }
      },
      "source": [
        "injuries[\"notes\"].value_counts().head()"
      ],
      "execution_count": 171,
      "outputs": [
        {
          "output_type": "execute_result",
          "data": {
            "text/plain": [
              "sprained left ankle (dnp)     362\n",
              "rest (dtd)                    288\n",
              "rest (dnp)                    191\n",
              "sprained right ankle (dnp)    175\n",
              "illness (dtd)                 149\n",
              "Name: notes, dtype: int64"
            ]
          },
          "metadata": {
            "tags": []
          },
          "execution_count": 171
        }
      ]
    },
    {
      "cell_type": "markdown",
      "metadata": {
        "id": "fKvVtQqjuFWU",
        "colab_type": "text"
      },
      "source": [
        "It's interesting that sprained left ankles are so much more common than sprained right ankles. I'm assuming this has something to do with biomechanics of right-footed players. Anyway, it's clear this is not perfect -- rest is logged as two different things -- but, since this column is for feature engineering, we don't have to worry about exact matches as long as they contain the right word. "
      ]
    },
    {
      "cell_type": "code",
      "metadata": {
        "id": "HWIdMU3VupbC",
        "colab_type": "code",
        "outputId": "89e3393b-2da1-4fb2-b2d3-9a802a120f83",
        "colab": {
          "base_uri": "https://localhost:8080/",
          "height": 102
        }
      },
      "source": [
        "injuries.isnull().sum()"
      ],
      "execution_count": 172,
      "outputs": [
        {
          "output_type": "execute_result",
          "data": {
            "text/plain": [
              "date      0\n",
              "team      3\n",
              "player    0\n",
              "notes     0\n",
              "dtype: int64"
            ]
          },
          "metadata": {
            "tags": []
          },
          "execution_count": 172
        }
      ]
    },
    {
      "cell_type": "code",
      "metadata": {
        "id": "y4jbSH0gvC09",
        "colab_type": "code",
        "outputId": "afb53be0-3ccf-48fd-beeb-a1e9b8321a6b",
        "colab": {
          "base_uri": "https://localhost:8080/",
          "height": 142
        }
      },
      "source": [
        "injuries[injuries[\"team\"].isnull() == True]"
      ],
      "execution_count": 173,
      "outputs": [
        {
          "output_type": "execute_result",
          "data": {
            "text/html": [
              "<div>\n",
              "<style scoped>\n",
              "    .dataframe tbody tr th:only-of-type {\n",
              "        vertical-align: middle;\n",
              "    }\n",
              "\n",
              "    .dataframe tbody tr th {\n",
              "        vertical-align: top;\n",
              "    }\n",
              "\n",
              "    .dataframe thead th {\n",
              "        text-align: right;\n",
              "    }\n",
              "</style>\n",
              "<table border=\"1\" class=\"dataframe\">\n",
              "  <thead>\n",
              "    <tr style=\"text-align: right;\">\n",
              "      <th></th>\n",
              "      <th>date</th>\n",
              "      <th>team</th>\n",
              "      <th>player</th>\n",
              "      <th>notes</th>\n",
              "    </tr>\n",
              "  </thead>\n",
              "  <tbody>\n",
              "    <tr>\n",
              "      <th>6330</th>\n",
              "      <td>2015-09-02</td>\n",
              "      <td>NaN</td>\n",
              "      <td>Glen Davis</td>\n",
              "      <td>surgery on left ankle to repair torn ligaments...</td>\n",
              "    </tr>\n",
              "    <tr>\n",
              "      <th>6332</th>\n",
              "      <td>2015-09-03</td>\n",
              "      <td>NaN</td>\n",
              "      <td>Landry Fields</td>\n",
              "      <td>surgery on hip to repair torn labrum (out inde...</td>\n",
              "    </tr>\n",
              "    <tr>\n",
              "      <th>8349</th>\n",
              "      <td>2017-02-08</td>\n",
              "      <td>NaN</td>\n",
              "      <td>Dragan Bender</td>\n",
              "      <td>surgery on right ankle to remove bone spur (ou...</td>\n",
              "    </tr>\n",
              "  </tbody>\n",
              "</table>\n",
              "</div>"
            ],
            "text/plain": [
              "           date  ...                                              notes\n",
              "6330 2015-09-02  ...  surgery on left ankle to repair torn ligaments...\n",
              "6332 2015-09-03  ...  surgery on hip to repair torn labrum (out inde...\n",
              "8349 2017-02-08  ...  surgery on right ankle to remove bone spur (ou...\n",
              "\n",
              "[3 rows x 4 columns]"
            ]
          },
          "metadata": {
            "tags": []
          },
          "execution_count": 173
        }
      ]
    },
    {
      "cell_type": "markdown",
      "metadata": {
        "id": "IEvcCLKRvqIm",
        "colab_type": "text"
      },
      "source": [
        "From research, I see that the NaN values here represent when a player had surgery while he was not under contract with a team (a free agent or had been waived). So I replace the missing values with \"None\"."
      ]
    },
    {
      "cell_type": "code",
      "metadata": {
        "id": "PUn6Rz-fvIoX",
        "colab_type": "code",
        "colab": {}
      },
      "source": [
        "injuries[\"team\"] = injuries[\"team\"].replace({np.NaN: \"None\"})"
      ],
      "execution_count": 0,
      "outputs": []
    },
    {
      "cell_type": "code",
      "metadata": {
        "id": "XggHj_Lkvbt_",
        "colab_type": "code",
        "outputId": "ee341e76-ea5f-4b10-8d72-d76f6216f968",
        "colab": {
          "base_uri": "https://localhost:8080/",
          "height": 102
        }
      },
      "source": [
        "print(injuries.dtypes)\n",
        "injuries.isnull().sum()"
      ],
      "execution_count": 175,
      "outputs": [
        {
          "output_type": "execute_result",
          "data": {
            "text/plain": [
              "date      0\n",
              "team      0\n",
              "player    0\n",
              "notes     0\n",
              "dtype: int64"
            ]
          },
          "metadata": {
            "tags": []
          },
          "execution_count": 175
        }
      ]
    },
    {
      "cell_type": "markdown",
      "metadata": {
        "id": "wyF6d8IZK3Uu",
        "colab_type": "text"
      },
      "source": [
        "One issue with this dataset is the inconsistent logging of injuries over multiple days. For minor injuries, players will show up on the injury report for the same injury over multiple days or even weeks. However, for major injuries, the injury will be reported once and the player's absence will be assumed (they will be placed on the inactive list).\n",
        "\n",
        "To ensure consistency, I decide that every row representing an injury will represent a discrete player injury. To do this, I sort the data by player and date and remove rows where the same player has the same injury reported within ten days of the last report. "
      ]
    },
    {
      "cell_type": "code",
      "metadata": {
        "id": "c9AGB_wy7GtS",
        "colab_type": "code",
        "outputId": "b000098b-871a-48de-c4d6-1d736357ba72",
        "colab": {
          "base_uri": "https://localhost:8080/",
          "height": 669
        }
      },
      "source": [
        "injuries = injuries.sort_values(by = [\"player\", \"date\"])\n",
        "injuries.head()"
      ],
      "execution_count": 177,
      "outputs": [
        {
          "output_type": "execute_result",
          "data": {
            "text/html": [
              "<div>\n",
              "<style scoped>\n",
              "    .dataframe tbody tr th:only-of-type {\n",
              "        vertical-align: middle;\n",
              "    }\n",
              "\n",
              "    .dataframe tbody tr th {\n",
              "        vertical-align: top;\n",
              "    }\n",
              "\n",
              "    .dataframe thead th {\n",
              "        text-align: right;\n",
              "    }\n",
              "</style>\n",
              "<table border=\"1\" class=\"dataframe\">\n",
              "  <thead>\n",
              "    <tr style=\"text-align: right;\">\n",
              "      <th></th>\n",
              "      <th>date</th>\n",
              "      <th>team</th>\n",
              "      <th>player</th>\n",
              "      <th>notes</th>\n",
              "    </tr>\n",
              "  </thead>\n",
              "  <tbody>\n",
              "    <tr>\n",
              "      <th>501</th>\n",
              "      <td>2011-02-28</td>\n",
              "      <td>Spurs</td>\n",
              "      <td>(William) Tony Parker</td>\n",
              "      <td>strained left calf muscle (out indefinitely)</td>\n",
              "    </tr>\n",
              "    <tr>\n",
              "      <th>630</th>\n",
              "      <td>2011-03-28</td>\n",
              "      <td>Spurs</td>\n",
              "      <td>(William) Tony Parker</td>\n",
              "      <td>bruised left patella (dnp)</td>\n",
              "    </tr>\n",
              "    <tr>\n",
              "      <th>777</th>\n",
              "      <td>2011-04-12</td>\n",
              "      <td>Spurs</td>\n",
              "      <td>(William) Tony Parker</td>\n",
              "      <td>rest (dnp)</td>\n",
              "    </tr>\n",
              "    <tr>\n",
              "      <th>1379</th>\n",
              "      <td>2012-02-21</td>\n",
              "      <td>Spurs</td>\n",
              "      <td>(William) Tony Parker</td>\n",
              "      <td>rest (dnp)</td>\n",
              "    </tr>\n",
              "    <tr>\n",
              "      <th>1645</th>\n",
              "      <td>2012-03-23</td>\n",
              "      <td>Spurs</td>\n",
              "      <td>(William) Tony Parker</td>\n",
              "      <td>sore left hamstring (dnp)</td>\n",
              "    </tr>\n",
              "    <tr>\n",
              "      <th>1864</th>\n",
              "      <td>2012-04-09</td>\n",
              "      <td>Spurs</td>\n",
              "      <td>(William) Tony Parker</td>\n",
              "      <td>rest (dnp)</td>\n",
              "    </tr>\n",
              "    <tr>\n",
              "      <th>2347</th>\n",
              "      <td>2012-11-29</td>\n",
              "      <td>Spurs</td>\n",
              "      <td>(William) Tony Parker</td>\n",
              "      <td>rest (dnp)</td>\n",
              "    </tr>\n",
              "    <tr>\n",
              "      <th>2889</th>\n",
              "      <td>2013-02-11</td>\n",
              "      <td>Spurs</td>\n",
              "      <td>(William) Tony Parker</td>\n",
              "      <td>knee injury (dnp)</td>\n",
              "    </tr>\n",
              "    <tr>\n",
              "      <th>2930</th>\n",
              "      <td>2013-02-24</td>\n",
              "      <td>Spurs</td>\n",
              "      <td>(William) Tony Parker</td>\n",
              "      <td>sore triceps (dnp)</td>\n",
              "    </tr>\n",
              "    <tr>\n",
              "      <th>2963</th>\n",
              "      <td>2013-03-02</td>\n",
              "      <td>Spurs</td>\n",
              "      <td>(William) Tony Parker</td>\n",
              "      <td>sprained left ankle (out indefinitely)</td>\n",
              "    </tr>\n",
              "    <tr>\n",
              "      <th>3222</th>\n",
              "      <td>2013-04-03</td>\n",
              "      <td>Spurs</td>\n",
              "      <td>(William) Tony Parker</td>\n",
              "      <td>sore left ankle (dnp)</td>\n",
              "    </tr>\n",
              "    <tr>\n",
              "      <th>3354</th>\n",
              "      <td>2013-04-15</td>\n",
              "      <td>Spurs</td>\n",
              "      <td>(William) Tony Parker</td>\n",
              "      <td>sore neck (dnp)</td>\n",
              "    </tr>\n",
              "    <tr>\n",
              "      <th>4165</th>\n",
              "      <td>2014-01-19</td>\n",
              "      <td>Spurs</td>\n",
              "      <td>(William) Tony Parker</td>\n",
              "      <td>bruised right shin (dnp)</td>\n",
              "    </tr>\n",
              "    <tr>\n",
              "      <th>4424</th>\n",
              "      <td>2014-02-12</td>\n",
              "      <td>Spurs</td>\n",
              "      <td>(William) Tony Parker</td>\n",
              "      <td>rest (dnp)</td>\n",
              "    </tr>\n",
              "    <tr>\n",
              "      <th>4770</th>\n",
              "      <td>2014-03-24</td>\n",
              "      <td>Spurs</td>\n",
              "      <td>(William) Tony Parker</td>\n",
              "      <td>left achilles injury (dnp)</td>\n",
              "    </tr>\n",
              "    <tr>\n",
              "      <th>5400</th>\n",
              "      <td>2014-12-01</td>\n",
              "      <td>Spurs</td>\n",
              "      <td>(William) Tony Parker</td>\n",
              "      <td>bruised ribs (dtd)</td>\n",
              "    </tr>\n",
              "    <tr>\n",
              "      <th>5424</th>\n",
              "      <td>2014-12-06</td>\n",
              "      <td>Spurs</td>\n",
              "      <td>(William) Tony Parker</td>\n",
              "      <td>strained left hamstring (dtd)</td>\n",
              "    </tr>\n",
              "    <tr>\n",
              "      <th>5539</th>\n",
              "      <td>2014-12-26</td>\n",
              "      <td>Spurs</td>\n",
              "      <td>(William) Tony Parker</td>\n",
              "      <td>strained hamstring (dtd)</td>\n",
              "    </tr>\n",
              "    <tr>\n",
              "      <th>6879</th>\n",
              "      <td>2016-01-20</td>\n",
              "      <td>Spurs</td>\n",
              "      <td>(William) Tony Parker</td>\n",
              "      <td>right hip injury (dtd)</td>\n",
              "    </tr>\n",
              "    <tr>\n",
              "      <th>7026</th>\n",
              "      <td>2016-02-10</td>\n",
              "      <td>Spurs</td>\n",
              "      <td>(William) Tony Parker</td>\n",
              "      <td>left ankle injury (dtd)</td>\n",
              "    </tr>\n",
              "  </tbody>\n",
              "</table>\n",
              "</div>"
            ],
            "text/plain": [
              "           date  ...                                         notes\n",
              "501  2011-02-28  ...  strained left calf muscle (out indefinitely)\n",
              "630  2011-03-28  ...                    bruised left patella (dnp)\n",
              "777  2011-04-12  ...                                    rest (dnp)\n",
              "1379 2012-02-21  ...                                    rest (dnp)\n",
              "1645 2012-03-23  ...                     sore left hamstring (dnp)\n",
              "1864 2012-04-09  ...                                    rest (dnp)\n",
              "2347 2012-11-29  ...                                    rest (dnp)\n",
              "2889 2013-02-11  ...                             knee injury (dnp)\n",
              "2930 2013-02-24  ...                            sore triceps (dnp)\n",
              "2963 2013-03-02  ...        sprained left ankle (out indefinitely)\n",
              "3222 2013-04-03  ...                         sore left ankle (dnp)\n",
              "3354 2013-04-15  ...                               sore neck (dnp)\n",
              "4165 2014-01-19  ...                      bruised right shin (dnp)\n",
              "4424 2014-02-12  ...                                    rest (dnp)\n",
              "4770 2014-03-24  ...                    left achilles injury (dnp)\n",
              "5400 2014-12-01  ...                            bruised ribs (dtd)\n",
              "5424 2014-12-06  ...                 strained left hamstring (dtd)\n",
              "5539 2014-12-26  ...                      strained hamstring (dtd)\n",
              "6879 2016-01-20  ...                        right hip injury (dtd)\n",
              "7026 2016-02-10  ...                       left ankle injury (dtd)\n",
              "\n",
              "[20 rows x 4 columns]"
            ]
          },
          "metadata": {
            "tags": []
          },
          "execution_count": 177
        }
      ]
    },
    {
      "cell_type": "code",
      "metadata": {
        "id": "tX-EQ2qk89uP",
        "colab_type": "code",
        "colab": {}
      },
      "source": [
        "# reset index for clean subsetting\n",
        "injuries = injuries.reset_index(drop = True)"
      ],
      "execution_count": 0,
      "outputs": []
    },
    {
      "cell_type": "code",
      "metadata": {
        "id": "FiN1FfgNv2am",
        "colab_type": "code",
        "colab": {}
      },
      "source": [
        "def same_player(i):\n",
        "  return (df[\"player\"][i] == df[\"player\"][i-1])\n",
        "\n",
        "def same_injury(i):\n",
        "  return (df[\"notes\"][i] == df[\"notes\"][i-1])\n",
        "\n",
        "def within_cutoff(i):\n",
        "  return ((df[\"date\"][i] - df[\"date\"][i - 1]).days < 10)\n",
        "\n",
        "def injury(i):\n",
        "  return ((\"rest\" in df[\"notes\"][i]) == False)"
      ],
      "execution_count": 0,
      "outputs": []
    },
    {
      "cell_type": "code",
      "metadata": {
        "id": "5rFj3523MvmR",
        "colab_type": "code",
        "colab": {}
      },
      "source": [
        "def clean_injuries(df):\n",
        "  redundant_rows = []\n",
        "\n",
        "  for i in range(1, df.shape[0]):\n",
        "    if same_player(i) & same_injury(i) & within_cutoff(i) & injury(i):\n",
        "      redundant_rows.append(i)\n",
        "\n",
        "  df = df.drop(redundant_rows)\n",
        "  df = df.reset_index(drop = True)\n",
        "\n",
        "  return df\n"
      ],
      "execution_count": 0,
      "outputs": []
    },
    {
      "cell_type": "code",
      "metadata": {
        "id": "PsUWm8_9JD5A",
        "colab_type": "code",
        "outputId": "1d702f80-dd61-49ca-cb09-8233bfc4ec7e",
        "colab": {
          "base_uri": "https://localhost:8080/",
          "height": 436
        }
      },
      "source": [
        "cl_injuries = clean_injuries(injuries)\n",
        "print(cl_injuries.shape)\n",
        "cl_injuries.head(100)"
      ],
      "execution_count": 180,
      "outputs": [
        {
          "output_type": "stream",
          "text": [
            "(5482, 4)\n"
          ],
          "name": "stdout"
        },
        {
          "output_type": "execute_result",
          "data": {
            "text/html": [
              "<div>\n",
              "<style scoped>\n",
              "    .dataframe tbody tr th:only-of-type {\n",
              "        vertical-align: middle;\n",
              "    }\n",
              "\n",
              "    .dataframe tbody tr th {\n",
              "        vertical-align: top;\n",
              "    }\n",
              "\n",
              "    .dataframe thead th {\n",
              "        text-align: right;\n",
              "    }\n",
              "</style>\n",
              "<table border=\"1\" class=\"dataframe\">\n",
              "  <thead>\n",
              "    <tr style=\"text-align: right;\">\n",
              "      <th></th>\n",
              "      <th>date</th>\n",
              "      <th>team</th>\n",
              "      <th>player</th>\n",
              "      <th>notes</th>\n",
              "    </tr>\n",
              "  </thead>\n",
              "  <tbody>\n",
              "    <tr>\n",
              "      <th>0</th>\n",
              "      <td>2011-02-28</td>\n",
              "      <td>Spurs</td>\n",
              "      <td>(William) Tony Parker</td>\n",
              "      <td>strained left calf muscle (out indefinitely)</td>\n",
              "    </tr>\n",
              "    <tr>\n",
              "      <th>1</th>\n",
              "      <td>2011-03-28</td>\n",
              "      <td>Spurs</td>\n",
              "      <td>(William) Tony Parker</td>\n",
              "      <td>bruised left patella (dnp)</td>\n",
              "    </tr>\n",
              "    <tr>\n",
              "      <th>2</th>\n",
              "      <td>2011-04-12</td>\n",
              "      <td>Spurs</td>\n",
              "      <td>(William) Tony Parker</td>\n",
              "      <td>rest (dnp)</td>\n",
              "    </tr>\n",
              "    <tr>\n",
              "      <th>3</th>\n",
              "      <td>2012-02-21</td>\n",
              "      <td>Spurs</td>\n",
              "      <td>(William) Tony Parker</td>\n",
              "      <td>rest (dnp)</td>\n",
              "    </tr>\n",
              "    <tr>\n",
              "      <th>4</th>\n",
              "      <td>2012-03-23</td>\n",
              "      <td>Spurs</td>\n",
              "      <td>(William) Tony Parker</td>\n",
              "      <td>sore left hamstring (dnp)</td>\n",
              "    </tr>\n",
              "    <tr>\n",
              "      <th>...</th>\n",
              "      <td>...</td>\n",
              "      <td>...</td>\n",
              "      <td>...</td>\n",
              "      <td>...</td>\n",
              "    </tr>\n",
              "    <tr>\n",
              "      <th>95</th>\n",
              "      <td>2014-04-28</td>\n",
              "      <td>Bobcats</td>\n",
              "      <td>Al Jefferson</td>\n",
              "      <td>strained plantar fascia in left foot (dnp)</td>\n",
              "    </tr>\n",
              "    <tr>\n",
              "      <th>96</th>\n",
              "      <td>2014-12-31</td>\n",
              "      <td>Hornets</td>\n",
              "      <td>Al Jefferson</td>\n",
              "      <td>strained adductor muscle in left groin (out in...</td>\n",
              "    </tr>\n",
              "    <tr>\n",
              "      <th>97</th>\n",
              "      <td>2015-04-04</td>\n",
              "      <td>Hornets</td>\n",
              "      <td>Al Jefferson</td>\n",
              "      <td>sore right knee (out for season)</td>\n",
              "    </tr>\n",
              "    <tr>\n",
              "      <th>98</th>\n",
              "      <td>2015-11-30</td>\n",
              "      <td>Hornets</td>\n",
              "      <td>Al Jefferson</td>\n",
              "      <td>strained left calf (out indefinitely)</td>\n",
              "    </tr>\n",
              "    <tr>\n",
              "      <th>99</th>\n",
              "      <td>2015-12-30</td>\n",
              "      <td>Hornets</td>\n",
              "      <td>Al Jefferson</td>\n",
              "      <td>torn lateral meniscus in right knee (out indef...</td>\n",
              "    </tr>\n",
              "  </tbody>\n",
              "</table>\n",
              "<p>100 rows × 4 columns</p>\n",
              "</div>"
            ],
            "text/plain": [
              "         date  ...                                              notes\n",
              "0  2011-02-28  ...       strained left calf muscle (out indefinitely)\n",
              "1  2011-03-28  ...                         bruised left patella (dnp)\n",
              "2  2011-04-12  ...                                         rest (dnp)\n",
              "3  2012-02-21  ...                                         rest (dnp)\n",
              "4  2012-03-23  ...                          sore left hamstring (dnp)\n",
              "..        ...  ...                                                ...\n",
              "95 2014-04-28  ...         strained plantar fascia in left foot (dnp)\n",
              "96 2014-12-31  ...  strained adductor muscle in left groin (out in...\n",
              "97 2015-04-04  ...                   sore right knee (out for season)\n",
              "98 2015-11-30  ...              strained left calf (out indefinitely)\n",
              "99 2015-12-30  ...  torn lateral meniscus in right knee (out indef...\n",
              "\n",
              "[100 rows x 4 columns]"
            ]
          },
          "metadata": {
            "tags": []
          },
          "execution_count": 180
        }
      ]
    },
    {
      "cell_type": "markdown",
      "metadata": {
        "id": "kf9bwz0dN1_Y",
        "colab_type": "text"
      },
      "source": [
        "Looks like we got rid of the redundant injuries! Now every row represents (approximately) either a discrete injury or a voluntary day of rest."
      ]
    },
    {
      "cell_type": "markdown",
      "metadata": {
        "id": "B8g8n39bZQ1U",
        "colab_type": "text"
      },
      "source": [
        "#Feature Engineering"
      ]
    },
    {
      "cell_type": "markdown",
      "metadata": {
        "id": "rLzWKQMLjw7f",
        "colab_type": "text"
      },
      "source": [
        "Now that the data set is cleaned, it's time to engineer some features so that we can analyze the data. I'll start by adding features that represent the month and year for each injury, so that I can analyze how injury and rest rates change throughout individual seasons and across the "
      ]
    },
    {
      "cell_type": "code",
      "metadata": {
        "id": "ZpX9jG_WjtGH",
        "colab_type": "code",
        "outputId": "a047dc70-1aa9-476d-e55b-2e2e342b1fce",
        "colab": {
          "base_uri": "https://localhost:8080/",
          "height": 669
        }
      },
      "source": [
        "cl_injuries[\"month\"] = (cl_injuries[\"date\"].dt.month - 9) % 12 \n",
        "cl_injuries[\"year\"] = cl_injuries[\"date\"].dt.year\n",
        "cl_injuries.head(20)"
      ],
      "execution_count": 181,
      "outputs": [
        {
          "output_type": "execute_result",
          "data": {
            "text/html": [
              "<div>\n",
              "<style scoped>\n",
              "    .dataframe tbody tr th:only-of-type {\n",
              "        vertical-align: middle;\n",
              "    }\n",
              "\n",
              "    .dataframe tbody tr th {\n",
              "        vertical-align: top;\n",
              "    }\n",
              "\n",
              "    .dataframe thead th {\n",
              "        text-align: right;\n",
              "    }\n",
              "</style>\n",
              "<table border=\"1\" class=\"dataframe\">\n",
              "  <thead>\n",
              "    <tr style=\"text-align: right;\">\n",
              "      <th></th>\n",
              "      <th>date</th>\n",
              "      <th>team</th>\n",
              "      <th>player</th>\n",
              "      <th>notes</th>\n",
              "      <th>month</th>\n",
              "      <th>year</th>\n",
              "    </tr>\n",
              "  </thead>\n",
              "  <tbody>\n",
              "    <tr>\n",
              "      <th>0</th>\n",
              "      <td>2011-02-28</td>\n",
              "      <td>Spurs</td>\n",
              "      <td>(William) Tony Parker</td>\n",
              "      <td>strained left calf muscle (out indefinitely)</td>\n",
              "      <td>5</td>\n",
              "      <td>2011</td>\n",
              "    </tr>\n",
              "    <tr>\n",
              "      <th>1</th>\n",
              "      <td>2011-03-28</td>\n",
              "      <td>Spurs</td>\n",
              "      <td>(William) Tony Parker</td>\n",
              "      <td>bruised left patella (dnp)</td>\n",
              "      <td>6</td>\n",
              "      <td>2011</td>\n",
              "    </tr>\n",
              "    <tr>\n",
              "      <th>2</th>\n",
              "      <td>2011-04-12</td>\n",
              "      <td>Spurs</td>\n",
              "      <td>(William) Tony Parker</td>\n",
              "      <td>rest (dnp)</td>\n",
              "      <td>7</td>\n",
              "      <td>2011</td>\n",
              "    </tr>\n",
              "    <tr>\n",
              "      <th>3</th>\n",
              "      <td>2012-02-21</td>\n",
              "      <td>Spurs</td>\n",
              "      <td>(William) Tony Parker</td>\n",
              "      <td>rest (dnp)</td>\n",
              "      <td>5</td>\n",
              "      <td>2012</td>\n",
              "    </tr>\n",
              "    <tr>\n",
              "      <th>4</th>\n",
              "      <td>2012-03-23</td>\n",
              "      <td>Spurs</td>\n",
              "      <td>(William) Tony Parker</td>\n",
              "      <td>sore left hamstring (dnp)</td>\n",
              "      <td>6</td>\n",
              "      <td>2012</td>\n",
              "    </tr>\n",
              "    <tr>\n",
              "      <th>5</th>\n",
              "      <td>2012-04-09</td>\n",
              "      <td>Spurs</td>\n",
              "      <td>(William) Tony Parker</td>\n",
              "      <td>rest (dnp)</td>\n",
              "      <td>7</td>\n",
              "      <td>2012</td>\n",
              "    </tr>\n",
              "    <tr>\n",
              "      <th>6</th>\n",
              "      <td>2012-11-29</td>\n",
              "      <td>Spurs</td>\n",
              "      <td>(William) Tony Parker</td>\n",
              "      <td>rest (dnp)</td>\n",
              "      <td>2</td>\n",
              "      <td>2012</td>\n",
              "    </tr>\n",
              "    <tr>\n",
              "      <th>7</th>\n",
              "      <td>2013-02-11</td>\n",
              "      <td>Spurs</td>\n",
              "      <td>(William) Tony Parker</td>\n",
              "      <td>knee injury (dnp)</td>\n",
              "      <td>5</td>\n",
              "      <td>2013</td>\n",
              "    </tr>\n",
              "    <tr>\n",
              "      <th>8</th>\n",
              "      <td>2013-02-24</td>\n",
              "      <td>Spurs</td>\n",
              "      <td>(William) Tony Parker</td>\n",
              "      <td>sore triceps (dnp)</td>\n",
              "      <td>5</td>\n",
              "      <td>2013</td>\n",
              "    </tr>\n",
              "    <tr>\n",
              "      <th>9</th>\n",
              "      <td>2013-03-02</td>\n",
              "      <td>Spurs</td>\n",
              "      <td>(William) Tony Parker</td>\n",
              "      <td>sprained left ankle (out indefinitely)</td>\n",
              "      <td>6</td>\n",
              "      <td>2013</td>\n",
              "    </tr>\n",
              "    <tr>\n",
              "      <th>10</th>\n",
              "      <td>2013-04-03</td>\n",
              "      <td>Spurs</td>\n",
              "      <td>(William) Tony Parker</td>\n",
              "      <td>sore left ankle (dnp)</td>\n",
              "      <td>7</td>\n",
              "      <td>2013</td>\n",
              "    </tr>\n",
              "    <tr>\n",
              "      <th>11</th>\n",
              "      <td>2013-04-15</td>\n",
              "      <td>Spurs</td>\n",
              "      <td>(William) Tony Parker</td>\n",
              "      <td>sore neck (dnp)</td>\n",
              "      <td>7</td>\n",
              "      <td>2013</td>\n",
              "    </tr>\n",
              "    <tr>\n",
              "      <th>12</th>\n",
              "      <td>2014-01-19</td>\n",
              "      <td>Spurs</td>\n",
              "      <td>(William) Tony Parker</td>\n",
              "      <td>bruised right shin (dnp)</td>\n",
              "      <td>4</td>\n",
              "      <td>2014</td>\n",
              "    </tr>\n",
              "    <tr>\n",
              "      <th>13</th>\n",
              "      <td>2014-02-12</td>\n",
              "      <td>Spurs</td>\n",
              "      <td>(William) Tony Parker</td>\n",
              "      <td>rest (dnp)</td>\n",
              "      <td>5</td>\n",
              "      <td>2014</td>\n",
              "    </tr>\n",
              "    <tr>\n",
              "      <th>14</th>\n",
              "      <td>2014-03-24</td>\n",
              "      <td>Spurs</td>\n",
              "      <td>(William) Tony Parker</td>\n",
              "      <td>left achilles injury (dnp)</td>\n",
              "      <td>6</td>\n",
              "      <td>2014</td>\n",
              "    </tr>\n",
              "    <tr>\n",
              "      <th>15</th>\n",
              "      <td>2014-12-01</td>\n",
              "      <td>Spurs</td>\n",
              "      <td>(William) Tony Parker</td>\n",
              "      <td>bruised ribs (dtd)</td>\n",
              "      <td>3</td>\n",
              "      <td>2014</td>\n",
              "    </tr>\n",
              "    <tr>\n",
              "      <th>16</th>\n",
              "      <td>2014-12-06</td>\n",
              "      <td>Spurs</td>\n",
              "      <td>(William) Tony Parker</td>\n",
              "      <td>strained left hamstring (dtd)</td>\n",
              "      <td>3</td>\n",
              "      <td>2014</td>\n",
              "    </tr>\n",
              "    <tr>\n",
              "      <th>17</th>\n",
              "      <td>2014-12-26</td>\n",
              "      <td>Spurs</td>\n",
              "      <td>(William) Tony Parker</td>\n",
              "      <td>strained hamstring (dtd)</td>\n",
              "      <td>3</td>\n",
              "      <td>2014</td>\n",
              "    </tr>\n",
              "    <tr>\n",
              "      <th>18</th>\n",
              "      <td>2016-01-20</td>\n",
              "      <td>Spurs</td>\n",
              "      <td>(William) Tony Parker</td>\n",
              "      <td>right hip injury (dtd)</td>\n",
              "      <td>4</td>\n",
              "      <td>2016</td>\n",
              "    </tr>\n",
              "    <tr>\n",
              "      <th>19</th>\n",
              "      <td>2016-02-10</td>\n",
              "      <td>Spurs</td>\n",
              "      <td>(William) Tony Parker</td>\n",
              "      <td>left ankle injury (dtd)</td>\n",
              "      <td>5</td>\n",
              "      <td>2016</td>\n",
              "    </tr>\n",
              "  </tbody>\n",
              "</table>\n",
              "</div>"
            ],
            "text/plain": [
              "         date   team  ... month  year\n",
              "0  2011-02-28  Spurs  ...     5  2011\n",
              "1  2011-03-28  Spurs  ...     6  2011\n",
              "2  2011-04-12  Spurs  ...     7  2011\n",
              "3  2012-02-21  Spurs  ...     5  2012\n",
              "4  2012-03-23  Spurs  ...     6  2012\n",
              "5  2012-04-09  Spurs  ...     7  2012\n",
              "6  2012-11-29  Spurs  ...     2  2012\n",
              "7  2013-02-11  Spurs  ...     5  2013\n",
              "8  2013-02-24  Spurs  ...     5  2013\n",
              "9  2013-03-02  Spurs  ...     6  2013\n",
              "10 2013-04-03  Spurs  ...     7  2013\n",
              "11 2013-04-15  Spurs  ...     7  2013\n",
              "12 2014-01-19  Spurs  ...     4  2014\n",
              "13 2014-02-12  Spurs  ...     5  2014\n",
              "14 2014-03-24  Spurs  ...     6  2014\n",
              "15 2014-12-01  Spurs  ...     3  2014\n",
              "16 2014-12-06  Spurs  ...     3  2014\n",
              "17 2014-12-26  Spurs  ...     3  2014\n",
              "18 2016-01-20  Spurs  ...     4  2016\n",
              "19 2016-02-10  Spurs  ...     5  2016\n",
              "\n",
              "[20 rows x 6 columns]"
            ]
          },
          "metadata": {
            "tags": []
          },
          "execution_count": 181
        }
      ]
    },
    {
      "cell_type": "code",
      "metadata": {
        "id": "cat2qr9V4crx",
        "colab_type": "code",
        "colab": {}
      },
      "source": [
        "def season(date):\n",
        "  if pd.Timestamp(2010, 10, 25, 12) < date < pd.Timestamp(2011, 4, 14, 12):\n",
        "    return 2011\n",
        "  elif pd.Timestamp(2011, 12, 24, 12) < date < pd.Timestamp(2012, 4, 27, 12):\n",
        "    return 2012\n",
        "  elif pd.Timestamp(2012, 10, 29, 12) < date < pd.Timestamp(2013, 4, 18, 12):\n",
        "    return 2013\n",
        "  elif pd.Timestamp(2013, 10, 28, 12) < date < pd.Timestamp(2014, 4, 17, 12):\n",
        "    return 2014\n",
        "  elif pd.Timestamp(2014, 10, 27, 12) < date < pd.Timestamp(2015, 4, 16, 12):\n",
        "    return 2015\n",
        "  elif pd.Timestamp(2015, 10, 26, 12) < date < pd.Timestamp(2016, 4, 14, 12):\n",
        "    return 2016\n",
        "  elif pd.Timestamp(2016, 10, 24, 12) < date < pd.Timestamp(2017, 4, 13, 12):\n",
        "    return 2017\n",
        "  elif pd.Timestamp(2017, 10, 16, 12) < date < pd.Timestamp(2018, 4, 12, 12):\n",
        "    return 2018\n",
        "  else: \n",
        "    return np.NaN\n",
        "\n",
        "cl_injuries[\"season\"] = cl_injuries[\"date\"].apply(season)\n",
        "\n",
        "# if time -- look at cleaning up this function (case switching)"
      ],
      "execution_count": 0,
      "outputs": []
    },
    {
      "cell_type": "code",
      "metadata": {
        "id": "lO-JQfrXv-7y",
        "colab_type": "code",
        "colab": {}
      },
      "source": [
        "cl_injuries = cl_injuries[cl_injuries[\"season\"].isnull() == False]"
      ],
      "execution_count": 0,
      "outputs": []
    },
    {
      "cell_type": "code",
      "metadata": {
        "id": "RGVS35Tv3iFa",
        "colab_type": "code",
        "outputId": "caa85d4c-b09f-40ba-9f5e-e82bd1792f7d",
        "colab": {
          "base_uri": "https://localhost:8080/",
          "height": 34
        }
      },
      "source": [
        "cl_injuries[\"date\"][0].day"
      ],
      "execution_count": 184,
      "outputs": [
        {
          "output_type": "execute_result",
          "data": {
            "text/plain": [
              "28"
            ]
          },
          "metadata": {
            "tags": []
          },
          "execution_count": 184
        }
      ]
    },
    {
      "cell_type": "code",
      "metadata": {
        "id": "nsDYAdyFAfJj",
        "colab_type": "code",
        "colab": {}
      },
      "source": [
        "start_2011 = pd.Timestamp(2010, 10, 25, 12)\n",
        "start_2012 = pd.Timestamp(2011, 12, 24, 12)\n",
        "start_2013 = pd.Timestamp(2012, 10, 29, 12)\n",
        "start_2014 = pd.Timestamp(2013, 10, 28, 12)\n",
        "start_2015 = pd.Timestamp(2014, 10, 27, 12)\n",
        "start_2016 = pd.Timestamp(2015, 10, 26, 12)\n",
        "start_2017 = pd.Timestamp(2016, 10, 24, 12)\n",
        "start_2018 = pd.Timestamp(2017, 10, 16, 12)"
      ],
      "execution_count": 0,
      "outputs": []
    },
    {
      "cell_type": "code",
      "metadata": {
        "id": "BrBUQI6EVKtW",
        "colab_type": "code",
        "colab": {}
      },
      "source": [
        "def days_since_start(season, date):\n",
        "  if season == 2011:\n",
        "    return (date - start_2011).days\n",
        "  elif season == 2012:\n",
        "    return (date - start_2012).days\n",
        "  elif season == 2013:\n",
        "    return (date - start_2013).days\n",
        "  elif season == 2014:\n",
        "    return (date - start_2014).days\n",
        "  elif season == 2015:\n",
        "    return (date - start_2015).days\n",
        "  elif season == 2016:\n",
        "    return (date - start_2016).days\n",
        "  elif season == 2017:\n",
        "    return (date - start_2017).days\n",
        "  elif season == 2018:\n",
        "    return (date - start_2018).days\n",
        "  "
      ],
      "execution_count": 0,
      "outputs": []
    },
    {
      "cell_type": "code",
      "metadata": {
        "id": "BZGTRNK_WucY",
        "colab_type": "code",
        "colab": {}
      },
      "source": [
        "cl_injuries[\"days_since_start\"] = cl_injuries.apply(lambda x: days_since_start(x.season, x.date), axis = 1)"
      ],
      "execution_count": 0,
      "outputs": []
    },
    {
      "cell_type": "code",
      "metadata": {
        "id": "Y9rYZxYFTlK5",
        "colab_type": "code",
        "outputId": "8314dda3-f57a-4a33-e37b-1347b390851d",
        "colab": {
          "base_uri": "https://localhost:8080/",
          "height": 204
        }
      },
      "source": [
        "cl_injuries[\"days_since_start_bin\"] = pd.cut(cl_injuries[\"days_since_start\"], 20, labels = False)\n",
        "cl_injuries.head()"
      ],
      "execution_count": 214,
      "outputs": [
        {
          "output_type": "execute_result",
          "data": {
            "text/html": [
              "<div>\n",
              "<style scoped>\n",
              "    .dataframe tbody tr th:only-of-type {\n",
              "        vertical-align: middle;\n",
              "    }\n",
              "\n",
              "    .dataframe tbody tr th {\n",
              "        vertical-align: top;\n",
              "    }\n",
              "\n",
              "    .dataframe thead th {\n",
              "        text-align: right;\n",
              "    }\n",
              "</style>\n",
              "<table border=\"1\" class=\"dataframe\">\n",
              "  <thead>\n",
              "    <tr style=\"text-align: right;\">\n",
              "      <th></th>\n",
              "      <th>date</th>\n",
              "      <th>team</th>\n",
              "      <th>player</th>\n",
              "      <th>notes</th>\n",
              "      <th>month</th>\n",
              "      <th>year</th>\n",
              "      <th>season</th>\n",
              "      <th>days_since_start</th>\n",
              "      <th>achilles</th>\n",
              "      <th>knee</th>\n",
              "      <th>foot</th>\n",
              "      <th>hand</th>\n",
              "      <th>ankle</th>\n",
              "      <th>back</th>\n",
              "      <th>hip</th>\n",
              "      <th>wrist</th>\n",
              "      <th>hamstring</th>\n",
              "      <th>quadriceps</th>\n",
              "      <th>neck</th>\n",
              "      <th>calf</th>\n",
              "      <th>thumb</th>\n",
              "      <th>elbow</th>\n",
              "      <th>shoulder</th>\n",
              "      <th>groin</th>\n",
              "      <th>concussion</th>\n",
              "      <th>finger</th>\n",
              "      <th>illness</th>\n",
              "      <th>days_since_start_bin</th>\n",
              "    </tr>\n",
              "  </thead>\n",
              "  <tbody>\n",
              "    <tr>\n",
              "      <th>0</th>\n",
              "      <td>2011-02-28</td>\n",
              "      <td>Spurs</td>\n",
              "      <td>(William) Tony Parker</td>\n",
              "      <td>strained left calf muscle (out indefinitely)</td>\n",
              "      <td>5</td>\n",
              "      <td>2011</td>\n",
              "      <td>2011.0</td>\n",
              "      <td>125</td>\n",
              "      <td>False</td>\n",
              "      <td>False</td>\n",
              "      <td>False</td>\n",
              "      <td>False</td>\n",
              "      <td>False</td>\n",
              "      <td>False</td>\n",
              "      <td>False</td>\n",
              "      <td>False</td>\n",
              "      <td>False</td>\n",
              "      <td>False</td>\n",
              "      <td>False</td>\n",
              "      <td>True</td>\n",
              "      <td>False</td>\n",
              "      <td>False</td>\n",
              "      <td>False</td>\n",
              "      <td>False</td>\n",
              "      <td>False</td>\n",
              "      <td>False</td>\n",
              "      <td>False</td>\n",
              "      <td>14</td>\n",
              "    </tr>\n",
              "    <tr>\n",
              "      <th>1</th>\n",
              "      <td>2011-03-28</td>\n",
              "      <td>Spurs</td>\n",
              "      <td>(William) Tony Parker</td>\n",
              "      <td>bruised left patella (dnp)</td>\n",
              "      <td>6</td>\n",
              "      <td>2011</td>\n",
              "      <td>2011.0</td>\n",
              "      <td>153</td>\n",
              "      <td>False</td>\n",
              "      <td>False</td>\n",
              "      <td>False</td>\n",
              "      <td>False</td>\n",
              "      <td>False</td>\n",
              "      <td>False</td>\n",
              "      <td>False</td>\n",
              "      <td>False</td>\n",
              "      <td>False</td>\n",
              "      <td>False</td>\n",
              "      <td>False</td>\n",
              "      <td>False</td>\n",
              "      <td>False</td>\n",
              "      <td>False</td>\n",
              "      <td>False</td>\n",
              "      <td>False</td>\n",
              "      <td>False</td>\n",
              "      <td>False</td>\n",
              "      <td>False</td>\n",
              "      <td>17</td>\n",
              "    </tr>\n",
              "    <tr>\n",
              "      <th>4</th>\n",
              "      <td>2012-03-23</td>\n",
              "      <td>Spurs</td>\n",
              "      <td>(William) Tony Parker</td>\n",
              "      <td>sore left hamstring (dnp)</td>\n",
              "      <td>6</td>\n",
              "      <td>2012</td>\n",
              "      <td>2012.0</td>\n",
              "      <td>89</td>\n",
              "      <td>False</td>\n",
              "      <td>False</td>\n",
              "      <td>False</td>\n",
              "      <td>False</td>\n",
              "      <td>False</td>\n",
              "      <td>False</td>\n",
              "      <td>False</td>\n",
              "      <td>False</td>\n",
              "      <td>True</td>\n",
              "      <td>False</td>\n",
              "      <td>False</td>\n",
              "      <td>False</td>\n",
              "      <td>False</td>\n",
              "      <td>False</td>\n",
              "      <td>False</td>\n",
              "      <td>False</td>\n",
              "      <td>False</td>\n",
              "      <td>False</td>\n",
              "      <td>False</td>\n",
              "      <td>10</td>\n",
              "    </tr>\n",
              "    <tr>\n",
              "      <th>7</th>\n",
              "      <td>2013-02-11</td>\n",
              "      <td>Spurs</td>\n",
              "      <td>(William) Tony Parker</td>\n",
              "      <td>knee injury (dnp)</td>\n",
              "      <td>5</td>\n",
              "      <td>2013</td>\n",
              "      <td>2013.0</td>\n",
              "      <td>104</td>\n",
              "      <td>False</td>\n",
              "      <td>True</td>\n",
              "      <td>False</td>\n",
              "      <td>False</td>\n",
              "      <td>False</td>\n",
              "      <td>False</td>\n",
              "      <td>False</td>\n",
              "      <td>False</td>\n",
              "      <td>False</td>\n",
              "      <td>False</td>\n",
              "      <td>False</td>\n",
              "      <td>False</td>\n",
              "      <td>False</td>\n",
              "      <td>False</td>\n",
              "      <td>False</td>\n",
              "      <td>False</td>\n",
              "      <td>False</td>\n",
              "      <td>False</td>\n",
              "      <td>False</td>\n",
              "      <td>11</td>\n",
              "    </tr>\n",
              "    <tr>\n",
              "      <th>8</th>\n",
              "      <td>2013-02-24</td>\n",
              "      <td>Spurs</td>\n",
              "      <td>(William) Tony Parker</td>\n",
              "      <td>sore triceps (dnp)</td>\n",
              "      <td>5</td>\n",
              "      <td>2013</td>\n",
              "      <td>2013.0</td>\n",
              "      <td>117</td>\n",
              "      <td>False</td>\n",
              "      <td>False</td>\n",
              "      <td>False</td>\n",
              "      <td>False</td>\n",
              "      <td>False</td>\n",
              "      <td>False</td>\n",
              "      <td>False</td>\n",
              "      <td>False</td>\n",
              "      <td>False</td>\n",
              "      <td>False</td>\n",
              "      <td>False</td>\n",
              "      <td>False</td>\n",
              "      <td>False</td>\n",
              "      <td>False</td>\n",
              "      <td>False</td>\n",
              "      <td>False</td>\n",
              "      <td>False</td>\n",
              "      <td>False</td>\n",
              "      <td>False</td>\n",
              "      <td>13</td>\n",
              "    </tr>\n",
              "  </tbody>\n",
              "</table>\n",
              "</div>"
            ],
            "text/plain": [
              "        date   team  ... illness days_since_start_bin\n",
              "0 2011-02-28  Spurs  ...   False                   14\n",
              "1 2011-03-28  Spurs  ...   False                   17\n",
              "4 2012-03-23  Spurs  ...   False                   10\n",
              "7 2013-02-11  Spurs  ...   False                   11\n",
              "8 2013-02-24  Spurs  ...   False                   13\n",
              "\n",
              "[5 rows x 28 columns]"
            ]
          },
          "metadata": {
            "tags": []
          },
          "execution_count": 214
        }
      ]
    },
    {
      "cell_type": "code",
      "metadata": {
        "id": "TwffVvOYXKzl",
        "colab_type": "code",
        "outputId": "17b7f7c5-cd93-4074-e486-936238fa12f8",
        "colab": {
          "base_uri": "https://localhost:8080/",
          "height": 170
        }
      },
      "source": [
        "cl_injuries.isnull().sum()"
      ],
      "execution_count": 189,
      "outputs": [
        {
          "output_type": "execute_result",
          "data": {
            "text/plain": [
              "date                0\n",
              "team                0\n",
              "player              0\n",
              "notes               0\n",
              "month               0\n",
              "year                0\n",
              "season              0\n",
              "days_since_start    0\n",
              "dtype: int64"
            ]
          },
          "metadata": {
            "tags": []
          },
          "execution_count": 189
        }
      ]
    },
    {
      "cell_type": "markdown",
      "metadata": {
        "id": "NDueYSSpXMI9",
        "colab_type": "text"
      },
      "source": [
        "Now that the data is clean at a baseline, we can get to analysis. For the remainder of the analysis, it'll be useful to separate rest -- which, after all, is not an injury -- with the actual injuries, such that inferences drawn on the data sets are conceptually valid."
      ]
    },
    {
      "cell_type": "code",
      "metadata": {
        "id": "V3W76a5NXFBI",
        "colab_type": "code",
        "colab": {}
      },
      "source": [
        "rest = cl_injuries[cl_injuries[\"notes\"].str.contains(\"rest\") == True]\n",
        "cl_injuries = cl_injuries[cl_injuries[\"notes\"].str.contains(\"rest\") == False].copy()"
      ],
      "execution_count": 0,
      "outputs": []
    },
    {
      "cell_type": "code",
      "metadata": {
        "id": "e-8S6GzM-TFq",
        "colab_type": "code",
        "outputId": "8169d47d-bb47-40ba-b442-4a51c5d1e9c2",
        "colab": {
          "base_uri": "https://localhost:8080/",
          "height": 204
        }
      },
      "source": [
        "for word in [\"achilles\", \"knee\", \"foot\", \"hand\", \"ankle\", \"back\", \"hip\",\n",
        "          \"wrist\", \"hamstring\", \"quadriceps\", \"neck\", \"calf\", \"thumb\",\n",
        "          \"elbow\", \"shoulder\", \"groin\", \"concussion\", \"finger\"]:\n",
        "          cl_injuries[word] = cl_injuries[\"notes\"].str.contains(word)\n",
        "cl_injuries.head()"
      ],
      "execution_count": 191,
      "outputs": [
        {
          "output_type": "execute_result",
          "data": {
            "text/html": [
              "<div>\n",
              "<style scoped>\n",
              "    .dataframe tbody tr th:only-of-type {\n",
              "        vertical-align: middle;\n",
              "    }\n",
              "\n",
              "    .dataframe tbody tr th {\n",
              "        vertical-align: top;\n",
              "    }\n",
              "\n",
              "    .dataframe thead th {\n",
              "        text-align: right;\n",
              "    }\n",
              "</style>\n",
              "<table border=\"1\" class=\"dataframe\">\n",
              "  <thead>\n",
              "    <tr style=\"text-align: right;\">\n",
              "      <th></th>\n",
              "      <th>date</th>\n",
              "      <th>team</th>\n",
              "      <th>player</th>\n",
              "      <th>notes</th>\n",
              "      <th>month</th>\n",
              "      <th>year</th>\n",
              "      <th>season</th>\n",
              "      <th>days_since_start</th>\n",
              "      <th>achilles</th>\n",
              "      <th>knee</th>\n",
              "      <th>foot</th>\n",
              "      <th>hand</th>\n",
              "      <th>ankle</th>\n",
              "      <th>back</th>\n",
              "      <th>hip</th>\n",
              "      <th>wrist</th>\n",
              "      <th>hamstring</th>\n",
              "      <th>quadriceps</th>\n",
              "      <th>neck</th>\n",
              "      <th>calf</th>\n",
              "      <th>thumb</th>\n",
              "      <th>elbow</th>\n",
              "      <th>shoulder</th>\n",
              "      <th>groin</th>\n",
              "      <th>concussion</th>\n",
              "      <th>finger</th>\n",
              "    </tr>\n",
              "  </thead>\n",
              "  <tbody>\n",
              "    <tr>\n",
              "      <th>0</th>\n",
              "      <td>2011-02-28</td>\n",
              "      <td>Spurs</td>\n",
              "      <td>(William) Tony Parker</td>\n",
              "      <td>strained left calf muscle (out indefinitely)</td>\n",
              "      <td>5</td>\n",
              "      <td>2011</td>\n",
              "      <td>2011.0</td>\n",
              "      <td>125</td>\n",
              "      <td>False</td>\n",
              "      <td>False</td>\n",
              "      <td>False</td>\n",
              "      <td>False</td>\n",
              "      <td>False</td>\n",
              "      <td>False</td>\n",
              "      <td>False</td>\n",
              "      <td>False</td>\n",
              "      <td>False</td>\n",
              "      <td>False</td>\n",
              "      <td>False</td>\n",
              "      <td>True</td>\n",
              "      <td>False</td>\n",
              "      <td>False</td>\n",
              "      <td>False</td>\n",
              "      <td>False</td>\n",
              "      <td>False</td>\n",
              "      <td>False</td>\n",
              "    </tr>\n",
              "    <tr>\n",
              "      <th>1</th>\n",
              "      <td>2011-03-28</td>\n",
              "      <td>Spurs</td>\n",
              "      <td>(William) Tony Parker</td>\n",
              "      <td>bruised left patella (dnp)</td>\n",
              "      <td>6</td>\n",
              "      <td>2011</td>\n",
              "      <td>2011.0</td>\n",
              "      <td>153</td>\n",
              "      <td>False</td>\n",
              "      <td>False</td>\n",
              "      <td>False</td>\n",
              "      <td>False</td>\n",
              "      <td>False</td>\n",
              "      <td>False</td>\n",
              "      <td>False</td>\n",
              "      <td>False</td>\n",
              "      <td>False</td>\n",
              "      <td>False</td>\n",
              "      <td>False</td>\n",
              "      <td>False</td>\n",
              "      <td>False</td>\n",
              "      <td>False</td>\n",
              "      <td>False</td>\n",
              "      <td>False</td>\n",
              "      <td>False</td>\n",
              "      <td>False</td>\n",
              "    </tr>\n",
              "    <tr>\n",
              "      <th>4</th>\n",
              "      <td>2012-03-23</td>\n",
              "      <td>Spurs</td>\n",
              "      <td>(William) Tony Parker</td>\n",
              "      <td>sore left hamstring (dnp)</td>\n",
              "      <td>6</td>\n",
              "      <td>2012</td>\n",
              "      <td>2012.0</td>\n",
              "      <td>89</td>\n",
              "      <td>False</td>\n",
              "      <td>False</td>\n",
              "      <td>False</td>\n",
              "      <td>False</td>\n",
              "      <td>False</td>\n",
              "      <td>False</td>\n",
              "      <td>False</td>\n",
              "      <td>False</td>\n",
              "      <td>True</td>\n",
              "      <td>False</td>\n",
              "      <td>False</td>\n",
              "      <td>False</td>\n",
              "      <td>False</td>\n",
              "      <td>False</td>\n",
              "      <td>False</td>\n",
              "      <td>False</td>\n",
              "      <td>False</td>\n",
              "      <td>False</td>\n",
              "    </tr>\n",
              "    <tr>\n",
              "      <th>7</th>\n",
              "      <td>2013-02-11</td>\n",
              "      <td>Spurs</td>\n",
              "      <td>(William) Tony Parker</td>\n",
              "      <td>knee injury (dnp)</td>\n",
              "      <td>5</td>\n",
              "      <td>2013</td>\n",
              "      <td>2013.0</td>\n",
              "      <td>104</td>\n",
              "      <td>False</td>\n",
              "      <td>True</td>\n",
              "      <td>False</td>\n",
              "      <td>False</td>\n",
              "      <td>False</td>\n",
              "      <td>False</td>\n",
              "      <td>False</td>\n",
              "      <td>False</td>\n",
              "      <td>False</td>\n",
              "      <td>False</td>\n",
              "      <td>False</td>\n",
              "      <td>False</td>\n",
              "      <td>False</td>\n",
              "      <td>False</td>\n",
              "      <td>False</td>\n",
              "      <td>False</td>\n",
              "      <td>False</td>\n",
              "      <td>False</td>\n",
              "    </tr>\n",
              "    <tr>\n",
              "      <th>8</th>\n",
              "      <td>2013-02-24</td>\n",
              "      <td>Spurs</td>\n",
              "      <td>(William) Tony Parker</td>\n",
              "      <td>sore triceps (dnp)</td>\n",
              "      <td>5</td>\n",
              "      <td>2013</td>\n",
              "      <td>2013.0</td>\n",
              "      <td>117</td>\n",
              "      <td>False</td>\n",
              "      <td>False</td>\n",
              "      <td>False</td>\n",
              "      <td>False</td>\n",
              "      <td>False</td>\n",
              "      <td>False</td>\n",
              "      <td>False</td>\n",
              "      <td>False</td>\n",
              "      <td>False</td>\n",
              "      <td>False</td>\n",
              "      <td>False</td>\n",
              "      <td>False</td>\n",
              "      <td>False</td>\n",
              "      <td>False</td>\n",
              "      <td>False</td>\n",
              "      <td>False</td>\n",
              "      <td>False</td>\n",
              "      <td>False</td>\n",
              "    </tr>\n",
              "  </tbody>\n",
              "</table>\n",
              "</div>"
            ],
            "text/plain": [
              "        date   team                 player  ...  groin  concussion  finger\n",
              "0 2011-02-28  Spurs  (William) Tony Parker  ...  False       False   False\n",
              "1 2011-03-28  Spurs  (William) Tony Parker  ...  False       False   False\n",
              "4 2012-03-23  Spurs  (William) Tony Parker  ...  False       False   False\n",
              "7 2013-02-11  Spurs  (William) Tony Parker  ...  False       False   False\n",
              "8 2013-02-24  Spurs  (William) Tony Parker  ...  False       False   False\n",
              "\n",
              "[5 rows x 26 columns]"
            ]
          },
          "metadata": {
            "tags": []
          },
          "execution_count": 191
        }
      ]
    },
    {
      "cell_type": "code",
      "metadata": {
        "id": "SLFPNRmXCvCg",
        "colab_type": "code",
        "colab": {}
      },
      "source": [
        "illness = [\"illness\", \"virus\", \"flu\", \"gastroenteritis\", \"stomach\", \"poisoning\", \"infection\", \"bronchitis\"]"
      ],
      "execution_count": 0,
      "outputs": []
    },
    {
      "cell_type": "code",
      "metadata": {
        "id": "lF2bNRFsEHPe",
        "colab_type": "code",
        "colab": {}
      },
      "source": [
        "def test_string(word):\n",
        "  return any(x in word for x in illness)\n",
        "\n",
        "cl_injuries[\"illness\"] = cl_injuries[\"notes\"].apply(test_string)"
      ],
      "execution_count": 0,
      "outputs": []
    },
    {
      "cell_type": "code",
      "metadata": {
        "id": "Jkm4SWzSCktH",
        "colab_type": "code",
        "outputId": "99baeb6a-66b5-4988-8bd8-e4a0109293cd",
        "colab": {
          "base_uri": "https://localhost:8080/",
          "height": 357
        }
      },
      "source": [
        "cl_injuries.select_dtypes(include=['bool']).sum()"
      ],
      "execution_count": 194,
      "outputs": [
        {
          "output_type": "execute_result",
          "data": {
            "text/plain": [
              "achilles       85\n",
              "knee          880\n",
              "foot          250\n",
              "hand           70\n",
              "ankle         767\n",
              "back          349\n",
              "hip           159\n",
              "wrist         101\n",
              "hamstring     184\n",
              "quadriceps     39\n",
              "neck           24\n",
              "calf          131\n",
              "thumb          62\n",
              "elbow          62\n",
              "shoulder      194\n",
              "groin         127\n",
              "concussion     80\n",
              "finger         47\n",
              "illness       452\n",
              "dtype: int64"
            ]
          },
          "metadata": {
            "tags": []
          },
          "execution_count": 194
        }
      ]
    },
    {
      "cell_type": "markdown",
      "metadata": {
        "id": "eCVrOyTMVFvk",
        "colab_type": "text"
      },
      "source": [
        "From looking at this, I think it might be more beneficial to group some of these."
      ]
    },
    {
      "cell_type": "markdown",
      "metadata": {
        "id": "anuLe96UZck4",
        "colab_type": "text"
      },
      "source": [
        "#Analysis"
      ]
    },
    {
      "cell_type": "markdown",
      "metadata": {
        "id": "RnSHWCSBTzIP",
        "colab_type": "text"
      },
      "source": [
        "To look at how injury rates have changed across seasons, I create a data frame of the sum of each type of injury grouped by season. I then scale the 2012 season to take into account the 2011 NBA lockout, reset the value of 2012 itself, and drop the columns that no longer make conceptual sense once summed."
      ]
    },
    {
      "cell_type": "code",
      "metadata": {
        "id": "MLEkw6lJEaRi",
        "colab_type": "code",
        "colab": {}
      },
      "source": [
        "seasons = cl_injuries.groupby(\"season\", as_index = False).sum()\n",
        "seasons.iloc[1] = round(seasons.iloc[1] * (82/66), 2) \n",
        "seasons[\"season\"][1] = 2012\n",
        "seasons = seasons.drop([\"month\", \"year\", \"days_since_start\"], axis = 1)"
      ],
      "execution_count": 0,
      "outputs": []
    },
    {
      "cell_type": "code",
      "metadata": {
        "id": "tgLgsEYaGMHM",
        "colab_type": "code",
        "outputId": "cac186a6-bb09-4bb1-fe1e-78c588d14737",
        "colab": {
          "base_uri": "https://localhost:8080/",
          "height": 297
        }
      },
      "source": [
        "seasons.head(8)"
      ],
      "execution_count": 196,
      "outputs": [
        {
          "output_type": "execute_result",
          "data": {
            "text/html": [
              "<div>\n",
              "<style scoped>\n",
              "    .dataframe tbody tr th:only-of-type {\n",
              "        vertical-align: middle;\n",
              "    }\n",
              "\n",
              "    .dataframe tbody tr th {\n",
              "        vertical-align: top;\n",
              "    }\n",
              "\n",
              "    .dataframe thead th {\n",
              "        text-align: right;\n",
              "    }\n",
              "</style>\n",
              "<table border=\"1\" class=\"dataframe\">\n",
              "  <thead>\n",
              "    <tr style=\"text-align: right;\">\n",
              "      <th></th>\n",
              "      <th>season</th>\n",
              "      <th>achilles</th>\n",
              "      <th>knee</th>\n",
              "      <th>foot</th>\n",
              "      <th>hand</th>\n",
              "      <th>ankle</th>\n",
              "      <th>back</th>\n",
              "      <th>hip</th>\n",
              "      <th>wrist</th>\n",
              "      <th>hamstring</th>\n",
              "      <th>quadriceps</th>\n",
              "      <th>neck</th>\n",
              "      <th>calf</th>\n",
              "      <th>thumb</th>\n",
              "      <th>elbow</th>\n",
              "      <th>shoulder</th>\n",
              "      <th>groin</th>\n",
              "      <th>concussion</th>\n",
              "      <th>finger</th>\n",
              "      <th>illness</th>\n",
              "    </tr>\n",
              "  </thead>\n",
              "  <tbody>\n",
              "    <tr>\n",
              "      <th>0</th>\n",
              "      <td>2011.0</td>\n",
              "      <td>6.00</td>\n",
              "      <td>102.00</td>\n",
              "      <td>39.00</td>\n",
              "      <td>1.00</td>\n",
              "      <td>72.0</td>\n",
              "      <td>39.00</td>\n",
              "      <td>11.00</td>\n",
              "      <td>14.00</td>\n",
              "      <td>15.00</td>\n",
              "      <td>7.00</td>\n",
              "      <td>2.0</td>\n",
              "      <td>13.00</td>\n",
              "      <td>7.00</td>\n",
              "      <td>6.0</td>\n",
              "      <td>14.00</td>\n",
              "      <td>13.00</td>\n",
              "      <td>5.00</td>\n",
              "      <td>5.00</td>\n",
              "      <td>49.00</td>\n",
              "    </tr>\n",
              "    <tr>\n",
              "      <th>1</th>\n",
              "      <td>2012.0</td>\n",
              "      <td>14.91</td>\n",
              "      <td>119.27</td>\n",
              "      <td>38.52</td>\n",
              "      <td>4.97</td>\n",
              "      <td>123.0</td>\n",
              "      <td>60.88</td>\n",
              "      <td>18.64</td>\n",
              "      <td>11.18</td>\n",
              "      <td>24.85</td>\n",
              "      <td>6.21</td>\n",
              "      <td>0.0</td>\n",
              "      <td>17.39</td>\n",
              "      <td>4.97</td>\n",
              "      <td>8.7</td>\n",
              "      <td>33.55</td>\n",
              "      <td>37.27</td>\n",
              "      <td>16.15</td>\n",
              "      <td>6.21</td>\n",
              "      <td>62.12</td>\n",
              "    </tr>\n",
              "    <tr>\n",
              "      <th>2</th>\n",
              "      <td>2013.0</td>\n",
              "      <td>7.00</td>\n",
              "      <td>123.00</td>\n",
              "      <td>37.00</td>\n",
              "      <td>11.00</td>\n",
              "      <td>108.0</td>\n",
              "      <td>45.00</td>\n",
              "      <td>22.00</td>\n",
              "      <td>5.00</td>\n",
              "      <td>23.00</td>\n",
              "      <td>6.00</td>\n",
              "      <td>7.0</td>\n",
              "      <td>17.00</td>\n",
              "      <td>9.00</td>\n",
              "      <td>14.0</td>\n",
              "      <td>27.00</td>\n",
              "      <td>19.00</td>\n",
              "      <td>10.00</td>\n",
              "      <td>10.00</td>\n",
              "      <td>67.00</td>\n",
              "    </tr>\n",
              "    <tr>\n",
              "      <th>3</th>\n",
              "      <td>2014.0</td>\n",
              "      <td>9.00</td>\n",
              "      <td>143.00</td>\n",
              "      <td>38.00</td>\n",
              "      <td>14.00</td>\n",
              "      <td>110.0</td>\n",
              "      <td>53.00</td>\n",
              "      <td>14.00</td>\n",
              "      <td>15.00</td>\n",
              "      <td>31.00</td>\n",
              "      <td>4.00</td>\n",
              "      <td>4.0</td>\n",
              "      <td>21.00</td>\n",
              "      <td>5.00</td>\n",
              "      <td>7.0</td>\n",
              "      <td>19.00</td>\n",
              "      <td>13.00</td>\n",
              "      <td>2.00</td>\n",
              "      <td>5.00</td>\n",
              "      <td>65.00</td>\n",
              "    </tr>\n",
              "    <tr>\n",
              "      <th>4</th>\n",
              "      <td>2015.0</td>\n",
              "      <td>12.00</td>\n",
              "      <td>78.00</td>\n",
              "      <td>18.00</td>\n",
              "      <td>12.00</td>\n",
              "      <td>95.0</td>\n",
              "      <td>47.00</td>\n",
              "      <td>23.00</td>\n",
              "      <td>12.00</td>\n",
              "      <td>22.00</td>\n",
              "      <td>3.00</td>\n",
              "      <td>3.0</td>\n",
              "      <td>16.00</td>\n",
              "      <td>7.00</td>\n",
              "      <td>11.0</td>\n",
              "      <td>27.00</td>\n",
              "      <td>15.00</td>\n",
              "      <td>11.00</td>\n",
              "      <td>5.00</td>\n",
              "      <td>58.00</td>\n",
              "    </tr>\n",
              "    <tr>\n",
              "      <th>5</th>\n",
              "      <td>2016.0</td>\n",
              "      <td>12.00</td>\n",
              "      <td>115.00</td>\n",
              "      <td>32.00</td>\n",
              "      <td>6.00</td>\n",
              "      <td>82.0</td>\n",
              "      <td>53.00</td>\n",
              "      <td>26.00</td>\n",
              "      <td>10.00</td>\n",
              "      <td>24.00</td>\n",
              "      <td>4.00</td>\n",
              "      <td>2.0</td>\n",
              "      <td>16.00</td>\n",
              "      <td>9.00</td>\n",
              "      <td>4.0</td>\n",
              "      <td>37.00</td>\n",
              "      <td>12.00</td>\n",
              "      <td>14.00</td>\n",
              "      <td>7.00</td>\n",
              "      <td>61.00</td>\n",
              "    </tr>\n",
              "    <tr>\n",
              "      <th>6</th>\n",
              "      <td>2017.0</td>\n",
              "      <td>16.00</td>\n",
              "      <td>111.00</td>\n",
              "      <td>32.00</td>\n",
              "      <td>10.00</td>\n",
              "      <td>97.0</td>\n",
              "      <td>30.00</td>\n",
              "      <td>28.00</td>\n",
              "      <td>19.00</td>\n",
              "      <td>33.00</td>\n",
              "      <td>5.00</td>\n",
              "      <td>1.0</td>\n",
              "      <td>22.00</td>\n",
              "      <td>13.00</td>\n",
              "      <td>5.0</td>\n",
              "      <td>19.00</td>\n",
              "      <td>14.00</td>\n",
              "      <td>11.00</td>\n",
              "      <td>7.00</td>\n",
              "      <td>61.00</td>\n",
              "    </tr>\n",
              "    <tr>\n",
              "      <th>7</th>\n",
              "      <td>2018.0</td>\n",
              "      <td>11.00</td>\n",
              "      <td>112.00</td>\n",
              "      <td>23.00</td>\n",
              "      <td>12.00</td>\n",
              "      <td>104.0</td>\n",
              "      <td>33.00</td>\n",
              "      <td>20.00</td>\n",
              "      <td>17.00</td>\n",
              "      <td>16.00</td>\n",
              "      <td>5.00</td>\n",
              "      <td>5.0</td>\n",
              "      <td>12.00</td>\n",
              "      <td>8.00</td>\n",
              "      <td>8.0</td>\n",
              "      <td>24.00</td>\n",
              "      <td>11.00</td>\n",
              "      <td>14.00</td>\n",
              "      <td>3.00</td>\n",
              "      <td>41.00</td>\n",
              "    </tr>\n",
              "  </tbody>\n",
              "</table>\n",
              "</div>"
            ],
            "text/plain": [
              "   season  achilles    knee   foot  ...  groin  concussion  finger  illness\n",
              "0  2011.0      6.00  102.00  39.00  ...  13.00        5.00    5.00    49.00\n",
              "1  2012.0     14.91  119.27  38.52  ...  37.27       16.15    6.21    62.12\n",
              "2  2013.0      7.00  123.00  37.00  ...  19.00       10.00   10.00    67.00\n",
              "3  2014.0      9.00  143.00  38.00  ...  13.00        2.00    5.00    65.00\n",
              "4  2015.0     12.00   78.00  18.00  ...  15.00       11.00    5.00    58.00\n",
              "5  2016.0     12.00  115.00  32.00  ...  12.00       14.00    7.00    61.00\n",
              "6  2017.0     16.00  111.00  32.00  ...  14.00       11.00    7.00    61.00\n",
              "7  2018.0     11.00  112.00  23.00  ...  11.00       14.00    3.00    41.00\n",
              "\n",
              "[8 rows x 20 columns]"
            ]
          },
          "metadata": {
            "tags": []
          },
          "execution_count": 196
        }
      ]
    },
    {
      "cell_type": "code",
      "metadata": {
        "id": "eWr2gnz1E6MI",
        "colab_type": "code",
        "outputId": "19ca1768-8f5b-47e5-c11b-fa6c7d030647",
        "colab": {
          "base_uri": "https://localhost:8080/",
          "height": 297
        }
      },
      "source": [
        "seasonal_totals = pd.DataFrame(cl_injuries[\"season\"].value_counts())\n",
        "seasonal_totals = seasonal_totals.reset_index()\n",
        "seasonal_totals.columns = [\"season\", \"injuries\"]\n",
        "seasonal_totals = seasonal_totals.sort_values(by = \"season\")\n",
        "seasonal_totals = seasonal_totals.reset_index(drop = True)\n",
        "seasonal_totals.iloc[1, 1] = round((seasonal_totals.iloc[1,1] * 82/66), 2)\n",
        "# function or variable to make legible lockout adjustment\n",
        "seasonal_totals"
      ],
      "execution_count": 197,
      "outputs": [
        {
          "output_type": "execute_result",
          "data": {
            "text/html": [
              "<div>\n",
              "<style scoped>\n",
              "    .dataframe tbody tr th:only-of-type {\n",
              "        vertical-align: middle;\n",
              "    }\n",
              "\n",
              "    .dataframe tbody tr th {\n",
              "        vertical-align: top;\n",
              "    }\n",
              "\n",
              "    .dataframe thead th {\n",
              "        text-align: right;\n",
              "    }\n",
              "</style>\n",
              "<table border=\"1\" class=\"dataframe\">\n",
              "  <thead>\n",
              "    <tr style=\"text-align: right;\">\n",
              "      <th></th>\n",
              "      <th>season</th>\n",
              "      <th>injuries</th>\n",
              "    </tr>\n",
              "  </thead>\n",
              "  <tbody>\n",
              "    <tr>\n",
              "      <th>0</th>\n",
              "      <td>2011.0</td>\n",
              "      <td>457.00</td>\n",
              "    </tr>\n",
              "    <tr>\n",
              "      <th>1</th>\n",
              "      <td>2012.0</td>\n",
              "      <td>690.79</td>\n",
              "    </tr>\n",
              "    <tr>\n",
              "      <th>2</th>\n",
              "      <td>2013.0</td>\n",
              "      <td>595.00</td>\n",
              "    </tr>\n",
              "    <tr>\n",
              "      <th>3</th>\n",
              "      <td>2014.0</td>\n",
              "      <td>625.00</td>\n",
              "    </tr>\n",
              "    <tr>\n",
              "      <th>4</th>\n",
              "      <td>2015.0</td>\n",
              "      <td>540.00</td>\n",
              "    </tr>\n",
              "    <tr>\n",
              "      <th>5</th>\n",
              "      <td>2016.0</td>\n",
              "      <td>608.00</td>\n",
              "    </tr>\n",
              "    <tr>\n",
              "      <th>6</th>\n",
              "      <td>2017.0</td>\n",
              "      <td>585.00</td>\n",
              "    </tr>\n",
              "    <tr>\n",
              "      <th>7</th>\n",
              "      <td>2018.0</td>\n",
              "      <td>546.00</td>\n",
              "    </tr>\n",
              "  </tbody>\n",
              "</table>\n",
              "</div>"
            ],
            "text/plain": [
              "   season  injuries\n",
              "0  2011.0    457.00\n",
              "1  2012.0    690.79\n",
              "2  2013.0    595.00\n",
              "3  2014.0    625.00\n",
              "4  2015.0    540.00\n",
              "5  2016.0    608.00\n",
              "6  2017.0    585.00\n",
              "7  2018.0    546.00"
            ]
          },
          "metadata": {
            "tags": []
          },
          "execution_count": 197
        }
      ]
    },
    {
      "cell_type": "code",
      "metadata": {
        "id": "Lvs6xF63WG8N",
        "colab_type": "code",
        "outputId": "9010a777-4a53-4515-e318-9e80fda0d9b2",
        "colab": {
          "base_uri": "https://localhost:8080/",
          "height": 297
        }
      },
      "source": [
        "rest_totals = pd.DataFrame(rest[\"season\"].value_counts())\n",
        "rest_totals = rest_totals.reset_index()\n",
        "rest_totals.columns = [\"season\", \"days of rest\"]\n",
        "rest_totals = rest_totals.sort_values(by = \"season\")\n",
        "rest_totals = rest_totals.reset_index(drop = True)\n",
        "rest_totals.iloc[1, 1] = round((rest_totals.iloc[1,1] * 82/66), 2)\n",
        "rest_totals"
      ],
      "execution_count": 198,
      "outputs": [
        {
          "output_type": "execute_result",
          "data": {
            "text/html": [
              "<div>\n",
              "<style scoped>\n",
              "    .dataframe tbody tr th:only-of-type {\n",
              "        vertical-align: middle;\n",
              "    }\n",
              "\n",
              "    .dataframe tbody tr th {\n",
              "        vertical-align: top;\n",
              "    }\n",
              "\n",
              "    .dataframe thead th {\n",
              "        text-align: right;\n",
              "    }\n",
              "</style>\n",
              "<table border=\"1\" class=\"dataframe\">\n",
              "  <thead>\n",
              "    <tr style=\"text-align: right;\">\n",
              "      <th></th>\n",
              "      <th>season</th>\n",
              "      <th>days of rest</th>\n",
              "    </tr>\n",
              "  </thead>\n",
              "  <tbody>\n",
              "    <tr>\n",
              "      <th>0</th>\n",
              "      <td>2011.0</td>\n",
              "      <td>33.00</td>\n",
              "    </tr>\n",
              "    <tr>\n",
              "      <th>1</th>\n",
              "      <td>2012.0</td>\n",
              "      <td>89.45</td>\n",
              "    </tr>\n",
              "    <tr>\n",
              "      <th>2</th>\n",
              "      <td>2013.0</td>\n",
              "      <td>31.00</td>\n",
              "    </tr>\n",
              "    <tr>\n",
              "      <th>3</th>\n",
              "      <td>2014.0</td>\n",
              "      <td>61.00</td>\n",
              "    </tr>\n",
              "    <tr>\n",
              "      <th>4</th>\n",
              "      <td>2015.0</td>\n",
              "      <td>65.00</td>\n",
              "    </tr>\n",
              "    <tr>\n",
              "      <th>5</th>\n",
              "      <td>2016.0</td>\n",
              "      <td>108.00</td>\n",
              "    </tr>\n",
              "    <tr>\n",
              "      <th>6</th>\n",
              "      <td>2017.0</td>\n",
              "      <td>130.00</td>\n",
              "    </tr>\n",
              "    <tr>\n",
              "      <th>7</th>\n",
              "      <td>2018.0</td>\n",
              "      <td>42.00</td>\n",
              "    </tr>\n",
              "  </tbody>\n",
              "</table>\n",
              "</div>"
            ],
            "text/plain": [
              "   season  days of rest\n",
              "0  2011.0         33.00\n",
              "1  2012.0         89.45\n",
              "2  2013.0         31.00\n",
              "3  2014.0         61.00\n",
              "4  2015.0         65.00\n",
              "5  2016.0        108.00\n",
              "6  2017.0        130.00\n",
              "7  2018.0         42.00"
            ]
          },
          "metadata": {
            "tags": []
          },
          "execution_count": 198
        }
      ]
    },
    {
      "cell_type": "code",
      "metadata": {
        "id": "QSgsne5pQr51",
        "colab_type": "code",
        "colab": {}
      },
      "source": [
        "merged_seasons = seasonal_totals.merge(rest_totals, on = \"season\")"
      ],
      "execution_count": 0,
      "outputs": []
    },
    {
      "cell_type": "code",
      "metadata": {
        "id": "qXkay-nxRAe8",
        "colab_type": "code",
        "colab": {
          "base_uri": "https://localhost:8080/",
          "height": 287
        },
        "outputId": "6138ecb4-62ef-4b6e-9feb-265357ff6c1e"
      },
      "source": [
        "sns.scatterplot(x = merged_seasons[\"days of rest\"], y = merged_seasons[\"injuries\"])\n",
        "plt.show()"
      ],
      "execution_count": 207,
      "outputs": [
        {
          "output_type": "display_data",
          "data": {
            "image/png": "[encoded data removed]",
            "text/plain": [
              "<Figure size 432x288 with 1 Axes>"
            ]
          },
          "metadata": {
            "tags": []
          }
        }
      ]
    },
    {
      "cell_type": "code",
      "metadata": {
        "id": "s_ZDZ0S9SZnp",
        "colab_type": "code",
        "colab": {
          "base_uri": "https://localhost:8080/",
          "height": 669
        },
        "outputId": "bfab3632-ed56-4f69-f7a0-b9bf98731123"
      },
      "source": [
        "binned_day_totals = pd.DataFrame(cl_injuries[\"days_since_start_bin\"].value_counts())\n",
        "binned_day_totals = binned_day_totals.reset_index()\n",
        "binned_day_totals.columns = [\"bin\", \"injuries\"]\n",
        "binned_day_totals = binned_day_totals.sort_values(by = \"bin\")\n",
        "binned_day_totals = binned_day_totals.reset_index(drop = True)\n",
        "binned_day_totals\n",
        "\n",
        "# check for ASB, end of season. perhaps drop last row. check for statistical significance."
      ],
      "execution_count": 216,
      "outputs": [
        {
          "output_type": "execute_result",
          "data": {
            "text/html": [
              "<div>\n",
              "<style scoped>\n",
              "    .dataframe tbody tr th:only-of-type {\n",
              "        vertical-align: middle;\n",
              "    }\n",
              "\n",
              "    .dataframe tbody tr th {\n",
              "        vertical-align: top;\n",
              "    }\n",
              "\n",
              "    .dataframe thead th {\n",
              "        text-align: right;\n",
              "    }\n",
              "</style>\n",
              "<table border=\"1\" class=\"dataframe\">\n",
              "  <thead>\n",
              "    <tr style=\"text-align: right;\">\n",
              "      <th></th>\n",
              "      <th>bin</th>\n",
              "      <th>injuries</th>\n",
              "    </tr>\n",
              "  </thead>\n",
              "  <tbody>\n",
              "    <tr>\n",
              "      <th>0</th>\n",
              "      <td>0</td>\n",
              "      <td>217</td>\n",
              "    </tr>\n",
              "    <tr>\n",
              "      <th>1</th>\n",
              "      <td>1</td>\n",
              "      <td>200</td>\n",
              "    </tr>\n",
              "    <tr>\n",
              "      <th>2</th>\n",
              "      <td>2</td>\n",
              "      <td>213</td>\n",
              "    </tr>\n",
              "    <tr>\n",
              "      <th>3</th>\n",
              "      <td>3</td>\n",
              "      <td>207</td>\n",
              "    </tr>\n",
              "    <tr>\n",
              "      <th>4</th>\n",
              "      <td>4</td>\n",
              "      <td>227</td>\n",
              "    </tr>\n",
              "    <tr>\n",
              "      <th>5</th>\n",
              "      <td>5</td>\n",
              "      <td>255</td>\n",
              "    </tr>\n",
              "    <tr>\n",
              "      <th>6</th>\n",
              "      <td>6</td>\n",
              "      <td>189</td>\n",
              "    </tr>\n",
              "    <tr>\n",
              "      <th>7</th>\n",
              "      <td>7</td>\n",
              "      <td>245</td>\n",
              "    </tr>\n",
              "    <tr>\n",
              "      <th>8</th>\n",
              "      <td>8</td>\n",
              "      <td>228</td>\n",
              "    </tr>\n",
              "    <tr>\n",
              "      <th>9</th>\n",
              "      <td>9</td>\n",
              "      <td>269</td>\n",
              "    </tr>\n",
              "    <tr>\n",
              "      <th>10</th>\n",
              "      <td>10</td>\n",
              "      <td>277</td>\n",
              "    </tr>\n",
              "    <tr>\n",
              "      <th>11</th>\n",
              "      <td>11</td>\n",
              "      <td>295</td>\n",
              "    </tr>\n",
              "    <tr>\n",
              "      <th>12</th>\n",
              "      <td>12</td>\n",
              "      <td>174</td>\n",
              "    </tr>\n",
              "    <tr>\n",
              "      <th>13</th>\n",
              "      <td>13</td>\n",
              "      <td>203</td>\n",
              "    </tr>\n",
              "    <tr>\n",
              "      <th>14</th>\n",
              "      <td>14</td>\n",
              "      <td>185</td>\n",
              "    </tr>\n",
              "    <tr>\n",
              "      <th>15</th>\n",
              "      <td>15</td>\n",
              "      <td>226</td>\n",
              "    </tr>\n",
              "    <tr>\n",
              "      <th>16</th>\n",
              "      <td>16</td>\n",
              "      <td>266</td>\n",
              "    </tr>\n",
              "    <tr>\n",
              "      <th>17</th>\n",
              "      <td>17</td>\n",
              "      <td>257</td>\n",
              "    </tr>\n",
              "    <tr>\n",
              "      <th>18</th>\n",
              "      <td>18</td>\n",
              "      <td>291</td>\n",
              "    </tr>\n",
              "    <tr>\n",
              "      <th>19</th>\n",
              "      <td>19</td>\n",
              "      <td>88</td>\n",
              "    </tr>\n",
              "  </tbody>\n",
              "</table>\n",
              "</div>"
            ],
            "text/plain": [
              "    bin  injuries\n",
              "0     0       217\n",
              "1     1       200\n",
              "2     2       213\n",
              "3     3       207\n",
              "4     4       227\n",
              "5     5       255\n",
              "6     6       189\n",
              "7     7       245\n",
              "8     8       228\n",
              "9     9       269\n",
              "10   10       277\n",
              "11   11       295\n",
              "12   12       174\n",
              "13   13       203\n",
              "14   14       185\n",
              "15   15       226\n",
              "16   16       266\n",
              "17   17       257\n",
              "18   18       291\n",
              "19   19        88"
            ]
          },
          "metadata": {
            "tags": []
          },
          "execution_count": 216
        }
      ]
    },
    {
      "cell_type": "code",
      "metadata": {
        "id": "3RUbD0sbWhdJ",
        "colab_type": "code",
        "outputId": "5c29c395-0971-404a-bca2-6576112ad795",
        "colab": {
          "base_uri": "https://localhost:8080/",
          "height": 285
        }
      },
      "source": [
        "sns.set()\n",
        "sns.lineplot(x = seasonal_totals[\"season\"], y = seasonal_totals[\"injuries\"])\n",
        "sns.lineplot(x = rest_totals[\"season\"], y = rest_totals[\"days of rest\"])\n",
        "plt.show()"
      ],
      "execution_count": 199,
      "outputs": [
        {
          "output_type": "display_data",
          "data": {
            "image/png": "[encoded data removed]",
            "text/plain": [
              "<Figure size 432x288 with 1 Axes>"
            ]
          },
          "metadata": {
            "tags": []
          }
        }
      ]
    },
    {
      "cell_type": "code",
      "metadata": {
        "id": "05-Sn-PvdF91",
        "colab_type": "code",
        "outputId": "89247ecd-9760-4ce9-b5cf-a68118e916aa",
        "colab": {
          "base_uri": "https://localhost:8080/",
          "height": 285
        }
      },
      "source": [
        "sns.distplot(rest[\"days_since_start\"])\n",
        "plt.show()\n",
        "# Plots - add markdown explaining what to look for in the plot (whether interesting or unremarkable)"
      ],
      "execution_count": 200,
      "outputs": [
        {
          "output_type": "display_data",
          "data": {
            "image/png": "[encoded data removed]",
            "text/plain": [
              "<Figure size 432x288 with 1 Axes>"
            ]
          },
          "metadata": {
            "tags": []
          }
        }
      ]
    },
    {
      "cell_type": "code",
      "metadata": {
        "id": "t0Su37WkdrGg",
        "colab_type": "code",
        "colab": {}
      },
      "source": [
        "rest_teams = pd.DataFrame(rest[\"team\"].value_counts()).reset_index()\n",
        "rest_teams.columns = [\"team\", \"days of rest\"]"
      ],
      "execution_count": 0,
      "outputs": []
    },
    {
      "cell_type": "code",
      "metadata": {
        "id": "9dyBJ2ePdvml",
        "colab_type": "code",
        "outputId": "7fc9aeaa-1a06-49df-bf60-02b703bb752c",
        "colab": {
          "base_uri": "https://localhost:8080/",
          "height": 285
        }
      },
      "source": [
        "ax = sns.barplot(x = rest_teams[\"team\"], y = rest_teams[\"days of rest\"])\n",
        "plt.show()\n",
        "#drop label, explain in markdown"
      ],
      "execution_count": 202,
      "outputs": [
        {
          "output_type": "display_data",
          "data": {
            "image/png": "[encoded data removed]",
            "text/plain": [
              "<Figure size 432x288 with 1 Axes>"
            ]
          },
          "metadata": {
            "tags": []
          }
        }
      ]
    },
    {
      "cell_type": "code",
      "metadata": {
        "id": "jEiwm3wiFGMV",
        "colab_type": "code",
        "outputId": "21d3c033-3b2a-4297-a2fb-bc18d6e8341d",
        "colab": {
          "base_uri": "https://localhost:8080/",
          "height": 153
        }
      },
      "source": [
        "cl_injuries[\"month\"].value_counts()\n",
        "# definitely want to strip rest from this and do it by season\n",
        "#frequency of different injuries by year. \n",
        "#perhaps simply strip out all offseason injuries so that 2010 and 2018 can be \n",
        "# compared on the same baseline. these are \"procedures\" not injuries.\n",
        "# 2012 - lockout season - prorate"
      ],
      "execution_count": 203,
      "outputs": [
        {
          "output_type": "execute_result",
          "data": {
            "text/plain": [
              "6    970\n",
              "4    881\n",
              "3    713\n",
              "5    644\n",
              "7    612\n",
              "2    575\n",
              "1    117\n",
              "Name: month, dtype: int64"
            ]
          },
          "metadata": {
            "tags": []
          },
          "execution_count": 203
        }
      ]
    },
    {
      "cell_type": "code",
      "metadata": {
        "id": "cbzfxbo1N6M5",
        "colab_type": "code",
        "colab": {}
      },
      "source": [
        ""
      ],
      "execution_count": 0,
      "outputs": []
    },
    {
      "cell_type": "code",
      "metadata": {
        "id": "__9BpvjeDpgn",
        "colab_type": "code",
        "outputId": "236dd20a-47e8-48b9-fe2f-c75ead4bc00c",
        "colab": {
          "base_uri": "https://localhost:8080/",
          "height": 204
        }
      },
      "source": [
        "rest.head()"
      ],
      "execution_count": 204,
      "outputs": [
        {
          "output_type": "execute_result",
          "data": {
            "text/html": [
              "<div>\n",
              "<style scoped>\n",
              "    .dataframe tbody tr th:only-of-type {\n",
              "        vertical-align: middle;\n",
              "    }\n",
              "\n",
              "    .dataframe tbody tr th {\n",
              "        vertical-align: top;\n",
              "    }\n",
              "\n",
              "    .dataframe thead th {\n",
              "        text-align: right;\n",
              "    }\n",
              "</style>\n",
              "<table border=\"1\" class=\"dataframe\">\n",
              "  <thead>\n",
              "    <tr style=\"text-align: right;\">\n",
              "      <th></th>\n",
              "      <th>date</th>\n",
              "      <th>team</th>\n",
              "      <th>player</th>\n",
              "      <th>notes</th>\n",
              "      <th>month</th>\n",
              "      <th>year</th>\n",
              "      <th>season</th>\n",
              "      <th>days_since_start</th>\n",
              "    </tr>\n",
              "  </thead>\n",
              "  <tbody>\n",
              "    <tr>\n",
              "      <th>2</th>\n",
              "      <td>2011-04-12</td>\n",
              "      <td>Spurs</td>\n",
              "      <td>(William) Tony Parker</td>\n",
              "      <td>rest (dnp)</td>\n",
              "      <td>7</td>\n",
              "      <td>2011</td>\n",
              "      <td>2011.0</td>\n",
              "      <td>168</td>\n",
              "    </tr>\n",
              "    <tr>\n",
              "      <th>3</th>\n",
              "      <td>2012-02-21</td>\n",
              "      <td>Spurs</td>\n",
              "      <td>(William) Tony Parker</td>\n",
              "      <td>rest (dnp)</td>\n",
              "      <td>5</td>\n",
              "      <td>2012</td>\n",
              "      <td>2012.0</td>\n",
              "      <td>58</td>\n",
              "    </tr>\n",
              "    <tr>\n",
              "      <th>5</th>\n",
              "      <td>2012-04-09</td>\n",
              "      <td>Spurs</td>\n",
              "      <td>(William) Tony Parker</td>\n",
              "      <td>rest (dnp)</td>\n",
              "      <td>7</td>\n",
              "      <td>2012</td>\n",
              "      <td>2012.0</td>\n",
              "      <td>106</td>\n",
              "    </tr>\n",
              "    <tr>\n",
              "      <th>6</th>\n",
              "      <td>2012-11-29</td>\n",
              "      <td>Spurs</td>\n",
              "      <td>(William) Tony Parker</td>\n",
              "      <td>rest (dnp)</td>\n",
              "      <td>2</td>\n",
              "      <td>2012</td>\n",
              "      <td>2013.0</td>\n",
              "      <td>30</td>\n",
              "    </tr>\n",
              "    <tr>\n",
              "      <th>13</th>\n",
              "      <td>2014-02-12</td>\n",
              "      <td>Spurs</td>\n",
              "      <td>(William) Tony Parker</td>\n",
              "      <td>rest (dnp)</td>\n",
              "      <td>5</td>\n",
              "      <td>2014</td>\n",
              "      <td>2014.0</td>\n",
              "      <td>106</td>\n",
              "    </tr>\n",
              "  </tbody>\n",
              "</table>\n",
              "</div>"
            ],
            "text/plain": [
              "         date   team                 player  ...  year  season  days_since_start\n",
              "2  2011-04-12  Spurs  (William) Tony Parker  ...  2011  2011.0               168\n",
              "3  2012-02-21  Spurs  (William) Tony Parker  ...  2012  2012.0                58\n",
              "5  2012-04-09  Spurs  (William) Tony Parker  ...  2012  2012.0               106\n",
              "6  2012-11-29  Spurs  (William) Tony Parker  ...  2012  2013.0                30\n",
              "13 2014-02-12  Spurs  (William) Tony Parker  ...  2014  2014.0               106\n",
              "\n",
              "[5 rows x 8 columns]"
            ]
          },
          "metadata": {
            "tags": []
          },
          "execution_count": 204
        }
      ]
    },
    {
      "cell_type": "code",
      "metadata": {
        "id": "HZZ4dnNuHgAE",
        "colab_type": "code",
        "outputId": "599b23f3-40f6-40b1-ae22-5423efe8370e",
        "colab": {
          "base_uri": "https://localhost:8080/",
          "height": 163
        }
      },
      "source": [
        "just_injuries[\"player\"].value_counts().head(10)"
      ],
      "execution_count": 205,
      "outputs": [
        {
          "output_type": "error",
          "ename": "NameError",
          "evalue": "ignored",
          "traceback": [
            "\u001b[0;31m---------------------------------------------------------------------------\u001b[0m",
            "\u001b[0;31mNameError\u001b[0m                                 Traceback (most recent call last)",
            "\u001b[0;32m<ipython-input-205-bffdce235d4a>\u001b[0m in \u001b[0;36m<module>\u001b[0;34m()\u001b[0m\n\u001b[0;32m----> 1\u001b[0;31m \u001b[0mjust_injuries\u001b[0m\u001b[0;34m[\u001b[0m\u001b[0;34m\"player\"\u001b[0m\u001b[0;34m]\u001b[0m\u001b[0;34m.\u001b[0m\u001b[0mvalue_counts\u001b[0m\u001b[0;34m(\u001b[0m\u001b[0;34m)\u001b[0m\u001b[0;34m.\u001b[0m\u001b[0mhead\u001b[0m\u001b[0;34m(\u001b[0m\u001b[0;36m10\u001b[0m\u001b[0;34m)\u001b[0m\u001b[0;34m\u001b[0m\u001b[0;34m\u001b[0m\u001b[0m\n\u001b[0m",
            "\u001b[0;31mNameError\u001b[0m: name 'just_injuries' is not defined"
          ]
        }
      ]
    },
    {
      "cell_type": "code",
      "metadata": {
        "id": "jFypVJcYHrBz",
        "colab_type": "code",
        "colab": {}
      },
      "source": [
        "rest[\"player\"].value_counts().head(10)"
      ],
      "execution_count": 0,
      "outputs": []
    },
    {
      "cell_type": "code",
      "metadata": {
        "id": "nC1Xx7e-H0RD",
        "colab_type": "code",
        "colab": {}
      },
      "source": [
        "just_injuries[\"team\"].value_counts()"
      ],
      "execution_count": 0,
      "outputs": []
    },
    {
      "cell_type": "code",
      "metadata": {
        "id": "d3OOA09QIVNn",
        "colab_type": "code",
        "colab": {}
      },
      "source": [
        "rest[\"team\"].value_counts()"
      ],
      "execution_count": 0,
      "outputs": []
    },
    {
      "cell_type": "code",
      "metadata": {
        "id": "ezqAJPwJIchF",
        "colab_type": "code",
        "colab": {}
      },
      "source": [
        "sns.distplot(rest[\"season\"])"
      ],
      "execution_count": 0,
      "outputs": []
    },
    {
      "cell_type": "code",
      "metadata": {
        "id": "4JPlkXHm6kJV",
        "colab_type": "code",
        "colab": {}
      },
      "source": [
        "rest[\"season\"].value_counts()"
      ],
      "execution_count": 0,
      "outputs": []
    }
  ]
}